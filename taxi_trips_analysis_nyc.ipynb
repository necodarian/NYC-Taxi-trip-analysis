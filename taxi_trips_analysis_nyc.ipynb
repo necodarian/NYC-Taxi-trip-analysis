{
 "cells": [
  {
   "cell_type": "markdown",
   "id": "6b88b6f4-bceb-4bb1-81b0-f0514910d6c4",
   "metadata": {},
   "source": [
    "## Taxi Trips Analysis Project\n",
    "__________\n"
   ]
  },
  {
   "cell_type": "code",
   "execution_count": 1,
   "id": "13014284-0c45-484d-9c7a-df9ffb5e905f",
   "metadata": {},
   "outputs": [],
   "source": [
    "import numpy as np\n",
    "import pandas as pd\n",
    "import datetime as dt\n",
    "import matplotlib.pyplot as plt\n",
    "import seaborn as sns\n",
    "\n",
    "import warnings\n",
    "warnings.simplefilter(action='ignore', category=FutureWarning)"
   ]
  },
  {
   "cell_type": "markdown",
   "id": "9f5416bb-cf34-469f-a176-7c5877b27a6a",
   "metadata": {},
   "source": [
    "## 1: Introduction"
   ]
  },
  {
   "cell_type": "markdown",
   "id": "f3ff800b-f7d2-432a-8d5f-0cd3ace726da",
   "metadata": {},
   "source": [
    "#### EDA"
   ]
  },
  {
   "cell_type": "code",
   "execution_count": 2,
   "id": "d5976be7-7998-4b92-a0b0-5780017b349f",
   "metadata": {},
   "outputs": [],
   "source": [
    "# load the dataset\n",
    "main_sample = pd.read_csv('Main Sample.csv')"
   ]
  },
  {
   "cell_type": "code",
   "execution_count": 3,
   "id": "f8760d96-0807-4b1a-b5d5-89a8620d0b44",
   "metadata": {},
   "outputs": [
    {
     "data": {
      "text/html": [
       "<div>\n",
       "<style scoped>\n",
       "    .dataframe tbody tr th:only-of-type {\n",
       "        vertical-align: middle;\n",
       "    }\n",
       "\n",
       "    .dataframe tbody tr th {\n",
       "        vertical-align: top;\n",
       "    }\n",
       "\n",
       "    .dataframe thead th {\n",
       "        text-align: right;\n",
       "    }\n",
       "</style>\n",
       "<table border=\"1\" class=\"dataframe\">\n",
       "  <thead>\n",
       "    <tr style=\"text-align: right;\">\n",
       "      <th></th>\n",
       "      <th>VendorID</th>\n",
       "      <th>tpep_pickup_datetime</th>\n",
       "      <th>tpep_dropoff_datetime</th>\n",
       "      <th>passenger_count</th>\n",
       "      <th>trip_distance</th>\n",
       "      <th>pickup_longitude</th>\n",
       "      <th>pickup_latitude</th>\n",
       "      <th>RatecodeID</th>\n",
       "      <th>store_and_fwd_flag</th>\n",
       "      <th>dropoff_longitude</th>\n",
       "      <th>dropoff_latitude</th>\n",
       "      <th>payment_type</th>\n",
       "      <th>fare_amount</th>\n",
       "      <th>extra</th>\n",
       "      <th>mta_tax</th>\n",
       "      <th>tip_amount</th>\n",
       "      <th>tolls_amount</th>\n",
       "      <th>improvement_surcharge</th>\n",
       "      <th>total_amount</th>\n",
       "    </tr>\n",
       "  </thead>\n",
       "  <tbody>\n",
       "    <tr>\n",
       "      <th>0</th>\n",
       "      <td>2</td>\n",
       "      <td>2016-01-01 00:00:00</td>\n",
       "      <td>2016-01-01 00:00:00</td>\n",
       "      <td>2</td>\n",
       "      <td>1.10</td>\n",
       "      <td>-73.990372</td>\n",
       "      <td>40.734695</td>\n",
       "      <td>1</td>\n",
       "      <td>N</td>\n",
       "      <td>-73.981842</td>\n",
       "      <td>40.732407</td>\n",
       "      <td>2</td>\n",
       "      <td>7.5</td>\n",
       "      <td>0.5</td>\n",
       "      <td>0.5</td>\n",
       "      <td>0.0</td>\n",
       "      <td>0.0</td>\n",
       "      <td>0.3</td>\n",
       "      <td>8.8</td>\n",
       "    </tr>\n",
       "    <tr>\n",
       "      <th>1</th>\n",
       "      <td>2</td>\n",
       "      <td>2016-01-01 00:00:00</td>\n",
       "      <td>2016-01-01 00:00:00</td>\n",
       "      <td>5</td>\n",
       "      <td>4.90</td>\n",
       "      <td>-73.980782</td>\n",
       "      <td>40.729912</td>\n",
       "      <td>1</td>\n",
       "      <td>N</td>\n",
       "      <td>-73.944473</td>\n",
       "      <td>40.716679</td>\n",
       "      <td>1</td>\n",
       "      <td>18.0</td>\n",
       "      <td>0.5</td>\n",
       "      <td>0.5</td>\n",
       "      <td>0.0</td>\n",
       "      <td>0.0</td>\n",
       "      <td>0.3</td>\n",
       "      <td>19.3</td>\n",
       "    </tr>\n",
       "    <tr>\n",
       "      <th>2</th>\n",
       "      <td>2</td>\n",
       "      <td>2016-01-01 00:00:00</td>\n",
       "      <td>2016-01-01 00:00:00</td>\n",
       "      <td>1</td>\n",
       "      <td>10.54</td>\n",
       "      <td>-73.984550</td>\n",
       "      <td>40.679565</td>\n",
       "      <td>1</td>\n",
       "      <td>N</td>\n",
       "      <td>-73.950272</td>\n",
       "      <td>40.788925</td>\n",
       "      <td>1</td>\n",
       "      <td>33.0</td>\n",
       "      <td>0.5</td>\n",
       "      <td>0.5</td>\n",
       "      <td>0.0</td>\n",
       "      <td>0.0</td>\n",
       "      <td>0.3</td>\n",
       "      <td>34.3</td>\n",
       "    </tr>\n",
       "    <tr>\n",
       "      <th>3</th>\n",
       "      <td>2</td>\n",
       "      <td>2016-01-01 00:00:00</td>\n",
       "      <td>2016-01-01 00:00:00</td>\n",
       "      <td>1</td>\n",
       "      <td>4.75</td>\n",
       "      <td>-73.993469</td>\n",
       "      <td>40.718990</td>\n",
       "      <td>1</td>\n",
       "      <td>N</td>\n",
       "      <td>-73.962242</td>\n",
       "      <td>40.657333</td>\n",
       "      <td>2</td>\n",
       "      <td>16.5</td>\n",
       "      <td>0.0</td>\n",
       "      <td>0.5</td>\n",
       "      <td>0.0</td>\n",
       "      <td>0.0</td>\n",
       "      <td>0.3</td>\n",
       "      <td>17.3</td>\n",
       "    </tr>\n",
       "    <tr>\n",
       "      <th>4</th>\n",
       "      <td>2</td>\n",
       "      <td>2016-01-01 00:00:00</td>\n",
       "      <td>2016-01-01 00:00:00</td>\n",
       "      <td>3</td>\n",
       "      <td>1.76</td>\n",
       "      <td>-73.960625</td>\n",
       "      <td>40.781330</td>\n",
       "      <td>1</td>\n",
       "      <td>N</td>\n",
       "      <td>-73.977264</td>\n",
       "      <td>40.758514</td>\n",
       "      <td>2</td>\n",
       "      <td>8.0</td>\n",
       "      <td>0.0</td>\n",
       "      <td>0.5</td>\n",
       "      <td>0.0</td>\n",
       "      <td>0.0</td>\n",
       "      <td>0.3</td>\n",
       "      <td>8.8</td>\n",
       "    </tr>\n",
       "  </tbody>\n",
       "</table>\n",
       "</div>"
      ],
      "text/plain": [
       "   VendorID tpep_pickup_datetime tpep_dropoff_datetime  passenger_count  \\\n",
       "0         2  2016-01-01 00:00:00   2016-01-01 00:00:00                2   \n",
       "1         2  2016-01-01 00:00:00   2016-01-01 00:00:00                5   \n",
       "2         2  2016-01-01 00:00:00   2016-01-01 00:00:00                1   \n",
       "3         2  2016-01-01 00:00:00   2016-01-01 00:00:00                1   \n",
       "4         2  2016-01-01 00:00:00   2016-01-01 00:00:00                3   \n",
       "\n",
       "   trip_distance  pickup_longitude  pickup_latitude  RatecodeID  \\\n",
       "0           1.10        -73.990372        40.734695           1   \n",
       "1           4.90        -73.980782        40.729912           1   \n",
       "2          10.54        -73.984550        40.679565           1   \n",
       "3           4.75        -73.993469        40.718990           1   \n",
       "4           1.76        -73.960625        40.781330           1   \n",
       "\n",
       "  store_and_fwd_flag  dropoff_longitude  dropoff_latitude  payment_type  \\\n",
       "0                  N         -73.981842         40.732407             2   \n",
       "1                  N         -73.944473         40.716679             1   \n",
       "2                  N         -73.950272         40.788925             1   \n",
       "3                  N         -73.962242         40.657333             2   \n",
       "4                  N         -73.977264         40.758514             2   \n",
       "\n",
       "   fare_amount  extra  mta_tax  tip_amount  tolls_amount  \\\n",
       "0          7.5    0.5      0.5         0.0           0.0   \n",
       "1         18.0    0.5      0.5         0.0           0.0   \n",
       "2         33.0    0.5      0.5         0.0           0.0   \n",
       "3         16.5    0.0      0.5         0.0           0.0   \n",
       "4          8.0    0.0      0.5         0.0           0.0   \n",
       "\n",
       "   improvement_surcharge  total_amount  \n",
       "0                    0.3           8.8  \n",
       "1                    0.3          19.3  \n",
       "2                    0.3          34.3  \n",
       "3                    0.3          17.3  \n",
       "4                    0.3           8.8  "
      ]
     },
     "execution_count": 3,
     "metadata": {},
     "output_type": "execute_result"
    }
   ],
   "source": [
    "# show the first 5 rows of the dataframe\n",
    "main_sample.head()"
   ]
  },
  {
   "cell_type": "code",
   "execution_count": 4,
   "id": "0d441d4f-1dfb-47d9-81c5-69422e6a015c",
   "metadata": {},
   "outputs": [
    {
     "data": {
      "text/plain": [
       "(10906858, 19)"
      ]
     },
     "execution_count": 4,
     "metadata": {},
     "output_type": "execute_result"
    }
   ],
   "source": [
    "# show the shape of the dataframe - (rows, columns)\n",
    "main_sample.shape"
   ]
  },
  {
   "cell_type": "code",
   "execution_count": 5,
   "id": "edcf27e5-f29a-48a8-b480-0dc614214f41",
   "metadata": {},
   "outputs": [
    {
     "data": {
      "text/plain": [
       "VendorID                   int64\n",
       "tpep_pickup_datetime      object\n",
       "tpep_dropoff_datetime     object\n",
       "passenger_count            int64\n",
       "trip_distance            float64\n",
       "pickup_longitude         float64\n",
       "pickup_latitude          float64\n",
       "RatecodeID                 int64\n",
       "store_and_fwd_flag        object\n",
       "dropoff_longitude        float64\n",
       "dropoff_latitude         float64\n",
       "payment_type               int64\n",
       "fare_amount              float64\n",
       "extra                    float64\n",
       "mta_tax                  float64\n",
       "tip_amount               float64\n",
       "tolls_amount             float64\n",
       "improvement_surcharge    float64\n",
       "total_amount             float64\n",
       "dtype: object"
      ]
     },
     "execution_count": 5,
     "metadata": {},
     "output_type": "execute_result"
    }
   ],
   "source": [
    "# show the data types of values in the columns\n",
    "main_sample.dtypes"
   ]
  },
  {
   "cell_type": "code",
   "execution_count": 6,
   "id": "796a27d0-b86b-4615-bfa9-8e09505f43ee",
   "metadata": {},
   "outputs": [
    {
     "data": {
      "text/plain": [
       "VendorID                 0\n",
       "tpep_pickup_datetime     0\n",
       "tpep_dropoff_datetime    0\n",
       "passenger_count          0\n",
       "trip_distance            0\n",
       "pickup_longitude         0\n",
       "pickup_latitude          0\n",
       "RatecodeID               0\n",
       "store_and_fwd_flag       0\n",
       "dropoff_longitude        0\n",
       "dropoff_latitude         0\n",
       "payment_type             0\n",
       "fare_amount              0\n",
       "extra                    0\n",
       "mta_tax                  0\n",
       "tip_amount               0\n",
       "tolls_amount             0\n",
       "improvement_surcharge    0\n",
       "total_amount             0\n",
       "dtype: int64"
      ]
     },
     "execution_count": 6,
     "metadata": {},
     "output_type": "execute_result"
    }
   ],
   "source": [
    "# is there any missing values? - no\n",
    "main_sample.isna().sum()"
   ]
  },
  {
   "cell_type": "code",
   "execution_count": 7,
   "id": "aa41aa5d-6de3-442a-bc91-978703ea019d",
   "metadata": {},
   "outputs": [
    {
     "data": {
      "text/html": [
       "<div>\n",
       "<style scoped>\n",
       "    .dataframe tbody tr th:only-of-type {\n",
       "        vertical-align: middle;\n",
       "    }\n",
       "\n",
       "    .dataframe tbody tr th {\n",
       "        vertical-align: top;\n",
       "    }\n",
       "\n",
       "    .dataframe thead th {\n",
       "        text-align: right;\n",
       "    }\n",
       "</style>\n",
       "<table border=\"1\" class=\"dataframe\">\n",
       "  <thead>\n",
       "    <tr style=\"text-align: right;\">\n",
       "      <th></th>\n",
       "      <th>count</th>\n",
       "      <th>mean</th>\n",
       "      <th>std</th>\n",
       "      <th>min</th>\n",
       "      <th>25%</th>\n",
       "      <th>50%</th>\n",
       "      <th>75%</th>\n",
       "      <th>max</th>\n",
       "    </tr>\n",
       "  </thead>\n",
       "  <tbody>\n",
       "    <tr>\n",
       "      <th>VendorID</th>\n",
       "      <td>10906858.0</td>\n",
       "      <td>1.535024</td>\n",
       "      <td>0.498772</td>\n",
       "      <td>1.000000</td>\n",
       "      <td>1.000000</td>\n",
       "      <td>2.000000</td>\n",
       "      <td>2.000000</td>\n",
       "      <td>2.000000e+00</td>\n",
       "    </tr>\n",
       "    <tr>\n",
       "      <th>passenger_count</th>\n",
       "      <td>10906858.0</td>\n",
       "      <td>1.670847</td>\n",
       "      <td>1.324891</td>\n",
       "      <td>0.000000</td>\n",
       "      <td>1.000000</td>\n",
       "      <td>1.000000</td>\n",
       "      <td>2.000000</td>\n",
       "      <td>9.000000e+00</td>\n",
       "    </tr>\n",
       "    <tr>\n",
       "      <th>trip_distance</th>\n",
       "      <td>10906858.0</td>\n",
       "      <td>4.648197</td>\n",
       "      <td>2981.095329</td>\n",
       "      <td>0.000000</td>\n",
       "      <td>1.000000</td>\n",
       "      <td>1.670000</td>\n",
       "      <td>3.080000</td>\n",
       "      <td>8.000010e+06</td>\n",
       "    </tr>\n",
       "    <tr>\n",
       "      <th>pickup_longitude</th>\n",
       "      <td>10906858.0</td>\n",
       "      <td>-72.818695</td>\n",
       "      <td>9.168964</td>\n",
       "      <td>-121.934288</td>\n",
       "      <td>-73.991508</td>\n",
       "      <td>-73.981377</td>\n",
       "      <td>-73.966103</td>\n",
       "      <td>0.000000e+00</td>\n",
       "    </tr>\n",
       "    <tr>\n",
       "      <th>pickup_latitude</th>\n",
       "      <td>10906858.0</td>\n",
       "      <td>40.114943</td>\n",
       "      <td>5.051022</td>\n",
       "      <td>0.000000</td>\n",
       "      <td>40.736301</td>\n",
       "      <td>40.753689</td>\n",
       "      <td>40.768082</td>\n",
       "      <td>6.090876e+01</td>\n",
       "    </tr>\n",
       "    <tr>\n",
       "      <th>RatecodeID</th>\n",
       "      <td>10906858.0</td>\n",
       "      <td>1.039350</td>\n",
       "      <td>0.518631</td>\n",
       "      <td>1.000000</td>\n",
       "      <td>1.000000</td>\n",
       "      <td>1.000000</td>\n",
       "      <td>1.000000</td>\n",
       "      <td>9.900000e+01</td>\n",
       "    </tr>\n",
       "    <tr>\n",
       "      <th>dropoff_longitude</th>\n",
       "      <td>10906858.0</td>\n",
       "      <td>-72.886591</td>\n",
       "      <td>8.900841</td>\n",
       "      <td>-121.933487</td>\n",
       "      <td>-73.991074</td>\n",
       "      <td>-73.979424</td>\n",
       "      <td>-73.961960</td>\n",
       "      <td>0.000000e+00</td>\n",
       "    </tr>\n",
       "    <tr>\n",
       "      <th>dropoff_latitude</th>\n",
       "      <td>10906858.0</td>\n",
       "      <td>40.153152</td>\n",
       "      <td>4.903456</td>\n",
       "      <td>0.000000</td>\n",
       "      <td>40.734806</td>\n",
       "      <td>40.754131</td>\n",
       "      <td>40.769619</td>\n",
       "      <td>6.090876e+01</td>\n",
       "    </tr>\n",
       "    <tr>\n",
       "      <th>payment_type</th>\n",
       "      <td>10906858.0</td>\n",
       "      <td>1.347536</td>\n",
       "      <td>0.491080</td>\n",
       "      <td>1.000000</td>\n",
       "      <td>1.000000</td>\n",
       "      <td>1.000000</td>\n",
       "      <td>2.000000</td>\n",
       "      <td>5.000000e+00</td>\n",
       "    </tr>\n",
       "    <tr>\n",
       "      <th>fare_amount</th>\n",
       "      <td>10906858.0</td>\n",
       "      <td>12.486929</td>\n",
       "      <td>35.564004</td>\n",
       "      <td>-957.600000</td>\n",
       "      <td>6.500000</td>\n",
       "      <td>9.000000</td>\n",
       "      <td>14.000000</td>\n",
       "      <td>1.112709e+05</td>\n",
       "    </tr>\n",
       "    <tr>\n",
       "      <th>extra</th>\n",
       "      <td>10906858.0</td>\n",
       "      <td>0.313076</td>\n",
       "      <td>0.415679</td>\n",
       "      <td>-42.610000</td>\n",
       "      <td>0.000000</td>\n",
       "      <td>0.000000</td>\n",
       "      <td>0.500000</td>\n",
       "      <td>6.488700e+02</td>\n",
       "    </tr>\n",
       "    <tr>\n",
       "      <th>mta_tax</th>\n",
       "      <td>10906858.0</td>\n",
       "      <td>0.497670</td>\n",
       "      <td>0.050467</td>\n",
       "      <td>-0.500000</td>\n",
       "      <td>0.500000</td>\n",
       "      <td>0.500000</td>\n",
       "      <td>0.500000</td>\n",
       "      <td>8.970000e+01</td>\n",
       "    </tr>\n",
       "    <tr>\n",
       "      <th>tip_amount</th>\n",
       "      <td>10906858.0</td>\n",
       "      <td>1.750663</td>\n",
       "      <td>2.623546</td>\n",
       "      <td>-220.800000</td>\n",
       "      <td>0.000000</td>\n",
       "      <td>1.260000</td>\n",
       "      <td>2.320000</td>\n",
       "      <td>9.981400e+02</td>\n",
       "    </tr>\n",
       "    <tr>\n",
       "      <th>tolls_amount</th>\n",
       "      <td>10906858.0</td>\n",
       "      <td>0.293345</td>\n",
       "      <td>1.694572</td>\n",
       "      <td>-17.400000</td>\n",
       "      <td>0.000000</td>\n",
       "      <td>0.000000</td>\n",
       "      <td>0.000000</td>\n",
       "      <td>9.801500e+02</td>\n",
       "    </tr>\n",
       "    <tr>\n",
       "      <th>improvement_surcharge</th>\n",
       "      <td>10906858.0</td>\n",
       "      <td>0.299724</td>\n",
       "      <td>0.012326</td>\n",
       "      <td>-0.300000</td>\n",
       "      <td>0.300000</td>\n",
       "      <td>0.300000</td>\n",
       "      <td>0.300000</td>\n",
       "      <td>3.000000e-01</td>\n",
       "    </tr>\n",
       "    <tr>\n",
       "      <th>total_amount</th>\n",
       "      <td>10906858.0</td>\n",
       "      <td>15.641395</td>\n",
       "      <td>36.412802</td>\n",
       "      <td>-958.400000</td>\n",
       "      <td>8.300000</td>\n",
       "      <td>11.620000</td>\n",
       "      <td>17.160000</td>\n",
       "      <td>1.112716e+05</td>\n",
       "    </tr>\n",
       "  </tbody>\n",
       "</table>\n",
       "</div>"
      ],
      "text/plain": [
       "                            count       mean          std         min  \\\n",
       "VendorID               10906858.0   1.535024     0.498772    1.000000   \n",
       "passenger_count        10906858.0   1.670847     1.324891    0.000000   \n",
       "trip_distance          10906858.0   4.648197  2981.095329    0.000000   \n",
       "pickup_longitude       10906858.0 -72.818695     9.168964 -121.934288   \n",
       "pickup_latitude        10906858.0  40.114943     5.051022    0.000000   \n",
       "RatecodeID             10906858.0   1.039350     0.518631    1.000000   \n",
       "dropoff_longitude      10906858.0 -72.886591     8.900841 -121.933487   \n",
       "dropoff_latitude       10906858.0  40.153152     4.903456    0.000000   \n",
       "payment_type           10906858.0   1.347536     0.491080    1.000000   \n",
       "fare_amount            10906858.0  12.486929    35.564004 -957.600000   \n",
       "extra                  10906858.0   0.313076     0.415679  -42.610000   \n",
       "mta_tax                10906858.0   0.497670     0.050467   -0.500000   \n",
       "tip_amount             10906858.0   1.750663     2.623546 -220.800000   \n",
       "tolls_amount           10906858.0   0.293345     1.694572  -17.400000   \n",
       "improvement_surcharge  10906858.0   0.299724     0.012326   -0.300000   \n",
       "total_amount           10906858.0  15.641395    36.412802 -958.400000   \n",
       "\n",
       "                             25%        50%        75%           max  \n",
       "VendorID                1.000000   2.000000   2.000000  2.000000e+00  \n",
       "passenger_count         1.000000   1.000000   2.000000  9.000000e+00  \n",
       "trip_distance           1.000000   1.670000   3.080000  8.000010e+06  \n",
       "pickup_longitude      -73.991508 -73.981377 -73.966103  0.000000e+00  \n",
       "pickup_latitude        40.736301  40.753689  40.768082  6.090876e+01  \n",
       "RatecodeID              1.000000   1.000000   1.000000  9.900000e+01  \n",
       "dropoff_longitude     -73.991074 -73.979424 -73.961960  0.000000e+00  \n",
       "dropoff_latitude       40.734806  40.754131  40.769619  6.090876e+01  \n",
       "payment_type            1.000000   1.000000   2.000000  5.000000e+00  \n",
       "fare_amount             6.500000   9.000000  14.000000  1.112709e+05  \n",
       "extra                   0.000000   0.000000   0.500000  6.488700e+02  \n",
       "mta_tax                 0.500000   0.500000   0.500000  8.970000e+01  \n",
       "tip_amount              0.000000   1.260000   2.320000  9.981400e+02  \n",
       "tolls_amount            0.000000   0.000000   0.000000  9.801500e+02  \n",
       "improvement_surcharge   0.300000   0.300000   0.300000  3.000000e-01  \n",
       "total_amount            8.300000  11.620000  17.160000  1.112716e+05  "
      ]
     },
     "execution_count": 7,
     "metadata": {},
     "output_type": "execute_result"
    }
   ],
   "source": [
    "# show some descriptive statistics of the numerical columns\n",
    "main_sample.describe().T"
   ]
  },
  {
   "cell_type": "markdown",
   "id": "39f1254f-2455-4f4b-ba23-428657f4e081",
   "metadata": {},
   "source": [
    "#### Some numerical values are less than 0, which doesn't make sense. Let's find them"
   ]
  },
  {
   "cell_type": "code",
   "execution_count": 8,
   "id": "24b5114f-4892-4f73-a3db-95aade83ad35",
   "metadata": {},
   "outputs": [
    {
     "data": {
      "text/html": [
       "<div>\n",
       "<style scoped>\n",
       "    .dataframe tbody tr th:only-of-type {\n",
       "        vertical-align: middle;\n",
       "    }\n",
       "\n",
       "    .dataframe tbody tr th {\n",
       "        vertical-align: top;\n",
       "    }\n",
       "\n",
       "    .dataframe thead th {\n",
       "        text-align: right;\n",
       "    }\n",
       "</style>\n",
       "<table border=\"1\" class=\"dataframe\">\n",
       "  <thead>\n",
       "    <tr style=\"text-align: right;\">\n",
       "      <th></th>\n",
       "      <th>VendorID</th>\n",
       "      <th>tpep_pickup_datetime</th>\n",
       "      <th>tpep_dropoff_datetime</th>\n",
       "      <th>passenger_count</th>\n",
       "      <th>trip_distance</th>\n",
       "      <th>pickup_longitude</th>\n",
       "      <th>pickup_latitude</th>\n",
       "      <th>RatecodeID</th>\n",
       "      <th>store_and_fwd_flag</th>\n",
       "      <th>dropoff_longitude</th>\n",
       "      <th>dropoff_latitude</th>\n",
       "      <th>payment_type</th>\n",
       "      <th>fare_amount</th>\n",
       "      <th>extra</th>\n",
       "      <th>mta_tax</th>\n",
       "      <th>tip_amount</th>\n",
       "      <th>tolls_amount</th>\n",
       "      <th>improvement_surcharge</th>\n",
       "      <th>total_amount</th>\n",
       "    </tr>\n",
       "  </thead>\n",
       "  <tbody>\n",
       "    <tr>\n",
       "      <th>1774</th>\n",
       "      <td>2</td>\n",
       "      <td>2016-01-02 00:50:32</td>\n",
       "      <td>2016-01-02 00:51:16</td>\n",
       "      <td>1</td>\n",
       "      <td>0.26</td>\n",
       "      <td>-73.825645</td>\n",
       "      <td>40.712231</td>\n",
       "      <td>1</td>\n",
       "      <td>N</td>\n",
       "      <td>-73.830330</td>\n",
       "      <td>40.714161</td>\n",
       "      <td>4</td>\n",
       "      <td>-3.0</td>\n",
       "      <td>-0.5</td>\n",
       "      <td>-0.5</td>\n",
       "      <td>0.0</td>\n",
       "      <td>0.0</td>\n",
       "      <td>-0.3</td>\n",
       "      <td>-4.3</td>\n",
       "    </tr>\n",
       "    <tr>\n",
       "      <th>3492</th>\n",
       "      <td>2</td>\n",
       "      <td>2016-01-02 01:00:59</td>\n",
       "      <td>2016-01-02 01:01:26</td>\n",
       "      <td>1</td>\n",
       "      <td>0.05</td>\n",
       "      <td>-73.938538</td>\n",
       "      <td>40.803200</td>\n",
       "      <td>1</td>\n",
       "      <td>N</td>\n",
       "      <td>0.000000</td>\n",
       "      <td>0.000000</td>\n",
       "      <td>4</td>\n",
       "      <td>-2.5</td>\n",
       "      <td>-0.5</td>\n",
       "      <td>-0.5</td>\n",
       "      <td>0.0</td>\n",
       "      <td>0.0</td>\n",
       "      <td>-0.3</td>\n",
       "      <td>-3.8</td>\n",
       "    </tr>\n",
       "    <tr>\n",
       "      <th>5105</th>\n",
       "      <td>2</td>\n",
       "      <td>2016-01-02 01:11:25</td>\n",
       "      <td>2016-01-02 01:14:30</td>\n",
       "      <td>1</td>\n",
       "      <td>0.53</td>\n",
       "      <td>-73.955864</td>\n",
       "      <td>40.772270</td>\n",
       "      <td>1</td>\n",
       "      <td>N</td>\n",
       "      <td>-73.951134</td>\n",
       "      <td>40.774231</td>\n",
       "      <td>4</td>\n",
       "      <td>-4.5</td>\n",
       "      <td>-0.5</td>\n",
       "      <td>-0.5</td>\n",
       "      <td>0.0</td>\n",
       "      <td>0.0</td>\n",
       "      <td>-0.3</td>\n",
       "      <td>-5.8</td>\n",
       "    </tr>\n",
       "    <tr>\n",
       "      <th>5611</th>\n",
       "      <td>2</td>\n",
       "      <td>2016-01-02 01:14:29</td>\n",
       "      <td>2016-01-02 01:19:01</td>\n",
       "      <td>1</td>\n",
       "      <td>0.56</td>\n",
       "      <td>-73.991737</td>\n",
       "      <td>40.722214</td>\n",
       "      <td>1</td>\n",
       "      <td>N</td>\n",
       "      <td>-73.990044</td>\n",
       "      <td>40.728008</td>\n",
       "      <td>3</td>\n",
       "      <td>-5.0</td>\n",
       "      <td>-0.5</td>\n",
       "      <td>-0.5</td>\n",
       "      <td>0.0</td>\n",
       "      <td>0.0</td>\n",
       "      <td>-0.3</td>\n",
       "      <td>-6.3</td>\n",
       "    </tr>\n",
       "    <tr>\n",
       "      <th>5666</th>\n",
       "      <td>2</td>\n",
       "      <td>2016-01-02 01:14:51</td>\n",
       "      <td>2016-01-02 01:16:23</td>\n",
       "      <td>2</td>\n",
       "      <td>0.04</td>\n",
       "      <td>-74.006111</td>\n",
       "      <td>40.739841</td>\n",
       "      <td>1</td>\n",
       "      <td>N</td>\n",
       "      <td>-74.005402</td>\n",
       "      <td>40.740799</td>\n",
       "      <td>3</td>\n",
       "      <td>-3.0</td>\n",
       "      <td>-0.5</td>\n",
       "      <td>-0.5</td>\n",
       "      <td>0.0</td>\n",
       "      <td>0.0</td>\n",
       "      <td>-0.3</td>\n",
       "      <td>-4.3</td>\n",
       "    </tr>\n",
       "    <tr>\n",
       "      <th>...</th>\n",
       "      <td>...</td>\n",
       "      <td>...</td>\n",
       "      <td>...</td>\n",
       "      <td>...</td>\n",
       "      <td>...</td>\n",
       "      <td>...</td>\n",
       "      <td>...</td>\n",
       "      <td>...</td>\n",
       "      <td>...</td>\n",
       "      <td>...</td>\n",
       "      <td>...</td>\n",
       "      <td>...</td>\n",
       "      <td>...</td>\n",
       "      <td>...</td>\n",
       "      <td>...</td>\n",
       "      <td>...</td>\n",
       "      <td>...</td>\n",
       "      <td>...</td>\n",
       "      <td>...</td>\n",
       "    </tr>\n",
       "    <tr>\n",
       "      <th>10895616</th>\n",
       "      <td>2</td>\n",
       "      <td>2016-01-29 08:57:35</td>\n",
       "      <td>2016-01-29 08:59:31</td>\n",
       "      <td>1</td>\n",
       "      <td>0.58</td>\n",
       "      <td>-73.958801</td>\n",
       "      <td>40.772465</td>\n",
       "      <td>1</td>\n",
       "      <td>N</td>\n",
       "      <td>-73.956360</td>\n",
       "      <td>40.779888</td>\n",
       "      <td>4</td>\n",
       "      <td>-3.5</td>\n",
       "      <td>0.0</td>\n",
       "      <td>-0.5</td>\n",
       "      <td>0.0</td>\n",
       "      <td>0.0</td>\n",
       "      <td>-0.3</td>\n",
       "      <td>-4.3</td>\n",
       "    </tr>\n",
       "    <tr>\n",
       "      <th>10898624</th>\n",
       "      <td>2</td>\n",
       "      <td>2016-01-29 09:06:34</td>\n",
       "      <td>2016-01-29 09:06:53</td>\n",
       "      <td>1</td>\n",
       "      <td>0.00</td>\n",
       "      <td>-73.992401</td>\n",
       "      <td>40.715000</td>\n",
       "      <td>1</td>\n",
       "      <td>N</td>\n",
       "      <td>-73.991859</td>\n",
       "      <td>40.716042</td>\n",
       "      <td>4</td>\n",
       "      <td>-2.5</td>\n",
       "      <td>0.0</td>\n",
       "      <td>-0.5</td>\n",
       "      <td>0.0</td>\n",
       "      <td>0.0</td>\n",
       "      <td>-0.3</td>\n",
       "      <td>-3.3</td>\n",
       "    </tr>\n",
       "    <tr>\n",
       "      <th>10905279</th>\n",
       "      <td>2</td>\n",
       "      <td>2016-01-29 09:30:29</td>\n",
       "      <td>2016-01-29 09:36:22</td>\n",
       "      <td>1</td>\n",
       "      <td>0.64</td>\n",
       "      <td>-73.995811</td>\n",
       "      <td>40.759682</td>\n",
       "      <td>1</td>\n",
       "      <td>N</td>\n",
       "      <td>-73.988907</td>\n",
       "      <td>40.766491</td>\n",
       "      <td>4</td>\n",
       "      <td>-5.5</td>\n",
       "      <td>0.0</td>\n",
       "      <td>-0.5</td>\n",
       "      <td>0.0</td>\n",
       "      <td>0.0</td>\n",
       "      <td>-0.3</td>\n",
       "      <td>-6.3</td>\n",
       "    </tr>\n",
       "    <tr>\n",
       "      <th>10906542</th>\n",
       "      <td>2</td>\n",
       "      <td>2016-01-22 23:02:07</td>\n",
       "      <td>2016-01-22 23:02:44</td>\n",
       "      <td>1</td>\n",
       "      <td>0.19</td>\n",
       "      <td>-73.974091</td>\n",
       "      <td>40.788898</td>\n",
       "      <td>1</td>\n",
       "      <td>N</td>\n",
       "      <td>-73.970230</td>\n",
       "      <td>40.790630</td>\n",
       "      <td>3</td>\n",
       "      <td>-3.0</td>\n",
       "      <td>-0.5</td>\n",
       "      <td>-0.5</td>\n",
       "      <td>0.0</td>\n",
       "      <td>0.0</td>\n",
       "      <td>-0.3</td>\n",
       "      <td>-4.3</td>\n",
       "    </tr>\n",
       "    <tr>\n",
       "      <th>10906550</th>\n",
       "      <td>2</td>\n",
       "      <td>2016-01-23 01:30:18</td>\n",
       "      <td>2016-01-23 01:35:59</td>\n",
       "      <td>1</td>\n",
       "      <td>0.79</td>\n",
       "      <td>-73.961853</td>\n",
       "      <td>40.720291</td>\n",
       "      <td>1</td>\n",
       "      <td>N</td>\n",
       "      <td>-73.959419</td>\n",
       "      <td>40.711571</td>\n",
       "      <td>3</td>\n",
       "      <td>-5.0</td>\n",
       "      <td>-0.5</td>\n",
       "      <td>-0.5</td>\n",
       "      <td>0.0</td>\n",
       "      <td>0.0</td>\n",
       "      <td>-0.3</td>\n",
       "      <td>-6.3</td>\n",
       "    </tr>\n",
       "  </tbody>\n",
       "</table>\n",
       "<p>4225 rows × 19 columns</p>\n",
       "</div>"
      ],
      "text/plain": [
       "          VendorID tpep_pickup_datetime tpep_dropoff_datetime  \\\n",
       "1774             2  2016-01-02 00:50:32   2016-01-02 00:51:16   \n",
       "3492             2  2016-01-02 01:00:59   2016-01-02 01:01:26   \n",
       "5105             2  2016-01-02 01:11:25   2016-01-02 01:14:30   \n",
       "5611             2  2016-01-02 01:14:29   2016-01-02 01:19:01   \n",
       "5666             2  2016-01-02 01:14:51   2016-01-02 01:16:23   \n",
       "...            ...                  ...                   ...   \n",
       "10895616         2  2016-01-29 08:57:35   2016-01-29 08:59:31   \n",
       "10898624         2  2016-01-29 09:06:34   2016-01-29 09:06:53   \n",
       "10905279         2  2016-01-29 09:30:29   2016-01-29 09:36:22   \n",
       "10906542         2  2016-01-22 23:02:07   2016-01-22 23:02:44   \n",
       "10906550         2  2016-01-23 01:30:18   2016-01-23 01:35:59   \n",
       "\n",
       "          passenger_count  trip_distance  pickup_longitude  pickup_latitude  \\\n",
       "1774                    1           0.26        -73.825645        40.712231   \n",
       "3492                    1           0.05        -73.938538        40.803200   \n",
       "5105                    1           0.53        -73.955864        40.772270   \n",
       "5611                    1           0.56        -73.991737        40.722214   \n",
       "5666                    2           0.04        -74.006111        40.739841   \n",
       "...                   ...            ...               ...              ...   \n",
       "10895616                1           0.58        -73.958801        40.772465   \n",
       "10898624                1           0.00        -73.992401        40.715000   \n",
       "10905279                1           0.64        -73.995811        40.759682   \n",
       "10906542                1           0.19        -73.974091        40.788898   \n",
       "10906550                1           0.79        -73.961853        40.720291   \n",
       "\n",
       "          RatecodeID store_and_fwd_flag  dropoff_longitude  dropoff_latitude  \\\n",
       "1774               1                  N         -73.830330         40.714161   \n",
       "3492               1                  N           0.000000          0.000000   \n",
       "5105               1                  N         -73.951134         40.774231   \n",
       "5611               1                  N         -73.990044         40.728008   \n",
       "5666               1                  N         -74.005402         40.740799   \n",
       "...              ...                ...                ...               ...   \n",
       "10895616           1                  N         -73.956360         40.779888   \n",
       "10898624           1                  N         -73.991859         40.716042   \n",
       "10905279           1                  N         -73.988907         40.766491   \n",
       "10906542           1                  N         -73.970230         40.790630   \n",
       "10906550           1                  N         -73.959419         40.711571   \n",
       "\n",
       "          payment_type  fare_amount  extra  mta_tax  tip_amount  tolls_amount  \\\n",
       "1774                 4         -3.0   -0.5     -0.5         0.0           0.0   \n",
       "3492                 4         -2.5   -0.5     -0.5         0.0           0.0   \n",
       "5105                 4         -4.5   -0.5     -0.5         0.0           0.0   \n",
       "5611                 3         -5.0   -0.5     -0.5         0.0           0.0   \n",
       "5666                 3         -3.0   -0.5     -0.5         0.0           0.0   \n",
       "...                ...          ...    ...      ...         ...           ...   \n",
       "10895616             4         -3.5    0.0     -0.5         0.0           0.0   \n",
       "10898624             4         -2.5    0.0     -0.5         0.0           0.0   \n",
       "10905279             4         -5.5    0.0     -0.5         0.0           0.0   \n",
       "10906542             3         -3.0   -0.5     -0.5         0.0           0.0   \n",
       "10906550             3         -5.0   -0.5     -0.5         0.0           0.0   \n",
       "\n",
       "          improvement_surcharge  total_amount  \n",
       "1774                       -0.3          -4.3  \n",
       "3492                       -0.3          -3.8  \n",
       "5105                       -0.3          -5.8  \n",
       "5611                       -0.3          -6.3  \n",
       "5666                       -0.3          -4.3  \n",
       "...                         ...           ...  \n",
       "10895616                   -0.3          -4.3  \n",
       "10898624                   -0.3          -3.3  \n",
       "10905279                   -0.3          -6.3  \n",
       "10906542                   -0.3          -4.3  \n",
       "10906550                   -0.3          -6.3  \n",
       "\n",
       "[4225 rows x 19 columns]"
      ]
     },
     "execution_count": 8,
     "metadata": {},
     "output_type": "execute_result"
    }
   ],
   "source": [
    "main_sample[(main_sample['tip_amount'] < 0) | (main_sample['fare_amount'] < 0) | (main_sample['extra'] < 0) | (main_sample['mta_tax'] < 0) | (main_sample['tolls_amount'] < 0) | (main_sample['improvement_surcharge'] < 0) | (main_sample['total_amount'] < 0)]"
   ]
  },
  {
   "cell_type": "markdown",
   "id": "1c136f90-f848-4fa4-8029-0c76dc601aca",
   "metadata": {},
   "source": [
    "#### Let's check if each of the numerical variable is within the dataset description limits"
   ]
  },
  {
   "cell_type": "markdown",
   "id": "d9f4c711-6d2d-4341-bc6c-60764e91925f",
   "metadata": {},
   "source": [
    "__`Improvement_surcharge:`__`0.30 improvement surcharge assessed trips at the flag drop.`\n",
    "\n",
    "So it should be either 0.30 or 0. Other values to be considered as mistake"
   ]
  },
  {
   "cell_type": "code",
   "execution_count": 9,
   "id": "b36aec44-4638-4cf5-8ba0-36ee6e6797ba",
   "metadata": {},
   "outputs": [
    {
     "data": {
      "text/plain": [
       " 0.30    10901039\n",
       "-0.30        4202\n",
       " 0.00        1609\n",
       " 0.10           5\n",
       " 0.12           1\n",
       " 0.16           1\n",
       " 0.25           1\n",
       "Name: improvement_surcharge, dtype: int64"
      ]
     },
     "execution_count": 9,
     "metadata": {},
     "output_type": "execute_result"
    }
   ],
   "source": [
    "main_sample['improvement_surcharge'].value_counts()"
   ]
  },
  {
   "cell_type": "markdown",
   "id": "20c93dd2-9047-4ede-840a-301598741685",
   "metadata": {},
   "source": [
    "__`MTA_tax:`__`0.50 MTA tax that is automatically triggered based on the metered rate in use.`\n",
    "\n",
    "Should be either 0 or 0.5"
   ]
  },
  {
   "cell_type": "code",
   "execution_count": 10,
   "id": "4e70d9dd-f966-4876-b5fc-cd8f37b41c62",
   "metadata": {},
   "outputs": [
    {
     "data": {
      "text/plain": [
       " 0.50     10859581\n",
       " 0.00        43201\n",
       "-0.50         4062\n",
       " 0.35            2\n",
       " 0.89            1\n",
       " 2.22            1\n",
       " 2.45            1\n",
       " 20.50           1\n",
       " 36.44           1\n",
       " 10.35           1\n",
       " 3.00            1\n",
       " 33.49           1\n",
       " 17.45           1\n",
       " 89.70           1\n",
       " 43.41           1\n",
       " 0.93            1\n",
       "Name: mta_tax, dtype: int64"
      ]
     },
     "execution_count": 10,
     "metadata": {},
     "output_type": "execute_result"
    }
   ],
   "source": [
    "main_sample['mta_tax'].value_counts()"
   ]
  },
  {
   "cell_type": "markdown",
   "id": "e5f59351-b1c6-42e6-8ad9-46b245b89a69",
   "metadata": {},
   "source": [
    "_________\n",
    "__`Extra:`__`Miscellaneous extras and surcharges. Currently, this only includes the $0.50 and $1 rush hour and overnight charges.`\n",
    "\n",
    "Should be either 0.5, 1 or 0"
   ]
  },
  {
   "cell_type": "code",
   "execution_count": 11,
   "id": "4fe45f8f-21e7-4145-9a1b-e77d53020512",
   "metadata": {},
   "outputs": [
    {
     "data": {
      "text/plain": [
       " 0.00      5710200\n",
       " 0.50      3558725\n",
       " 1.00      1635787\n",
       "-0.50         1486\n",
       "-1.00          513\n",
       " 1.50           44\n",
       " 0.02           25\n",
       " 4.50           20\n",
       " 2.00           12\n",
       " 0.04           10\n",
       " 0.20            6\n",
       " 0.30            3\n",
       " 2.50            3\n",
       " 3.50            2\n",
       " 0.70            2\n",
       " 0.45            1\n",
       "-32.69           1\n",
       "-42.61           1\n",
       " 0.80            1\n",
       " 8.50            1\n",
       "-16.65           1\n",
       " 4.71            1\n",
       "-0.45            1\n",
       " 7.00            1\n",
       "-4.50            1\n",
       " 648.87          1\n",
       " 4.10            1\n",
       "-35.64           1\n",
       " 5.00            1\n",
       " 1.30            1\n",
       " 0.10            1\n",
       " 1.45            1\n",
       " 31.80           1\n",
       "-1.65            1\n",
       "-0.20            1\n",
       "Name: extra, dtype: int64"
      ]
     },
     "execution_count": 11,
     "metadata": {},
     "output_type": "execute_result"
    }
   ],
   "source": [
    "main_sample['extra'].value_counts()"
   ]
  },
  {
   "cell_type": "markdown",
   "id": "1ee2d06c-39a1-493f-aa5a-ec6958f3c7c2",
   "metadata": {},
   "source": [
    "_______\n",
    "__`Fare_amount:`__`The time-and-distance fare calculated by the meter.`\n",
    "\n",
    "The fare can be different, but it can't be less than 0 or astronomicaly high"
   ]
  },
  {
   "cell_type": "code",
   "execution_count": 12,
   "id": "e3adf21c-b8a8-4544-8e3c-b5fefab4f82d",
   "metadata": {},
   "outputs": [
    {
     "data": {
      "text/plain": [
       "4269251      -957.60\n",
       "4334878      -434.00\n",
       "2193262      -405.00\n",
       "193432       -300.00\n",
       "923034       -280.00\n",
       "             ...    \n",
       "4751459      3039.00\n",
       "3856423      4001.15\n",
       "3838692      5000.00\n",
       "8499603      8008.00\n",
       "7461456    111270.85\n",
       "Name: fare_amount, Length: 10906858, dtype: float64"
      ]
     },
     "execution_count": 12,
     "metadata": {},
     "output_type": "execute_result"
    }
   ],
   "source": [
    "main_sample['fare_amount'].sort_values()"
   ]
  },
  {
   "cell_type": "markdown",
   "id": "494391dd-743a-440e-bb9b-631cfc1ee857",
   "metadata": {},
   "source": [
    "__`Total_amount`__`The total amount charged to passengers`\n",
    "\n",
    "The same situation as with `fare_amount` "
   ]
  },
  {
   "cell_type": "code",
   "execution_count": 13,
   "id": "0cf05750-5f5f-4682-907c-9dc122ec6cb8",
   "metadata": {},
   "outputs": [
    {
     "data": {
      "text/plain": [
       "4269251      -958.40\n",
       "4334878      -440.34\n",
       "2193262      -405.30\n",
       "193432       -300.80\n",
       "923034       -280.30\n",
       "             ...    \n",
       "4751459      3045.34\n",
       "3856423      4002.05\n",
       "3838692      5000.80\n",
       "8499603      8008.80\n",
       "7461456    111271.65\n",
       "Name: total_amount, Length: 10906858, dtype: float64"
      ]
     },
     "execution_count": 13,
     "metadata": {},
     "output_type": "execute_result"
    }
   ],
   "source": [
    "main_sample['total_amount'].sort_values()"
   ]
  },
  {
   "cell_type": "markdown",
   "id": "1bc6111c-b338-4be2-a4cf-ab0ef5073aa3",
   "metadata": {},
   "source": [
    "__`Tolls_amount`__`Total amount of all tolls paid in trip.`\n",
    "\n",
    "Can't be negative"
   ]
  },
  {
   "cell_type": "code",
   "execution_count": 14,
   "id": "86c63660-bf0d-4ce3-b93a-a603e44b0328",
   "metadata": {},
   "outputs": [
    {
     "data": {
      "text/plain": [
       "110255      -17.40\n",
       "884722      -17.12\n",
       "7726868     -12.50\n",
       "10459645    -12.50\n",
       "639043      -12.50\n",
       "             ...  \n",
       "598602      882.22\n",
       "5966724     885.59\n",
       "3630019     900.10\n",
       "992315      923.58\n",
       "8548190     980.15\n",
       "Name: tolls_amount, Length: 10906858, dtype: float64"
      ]
     },
     "execution_count": 14,
     "metadata": {},
     "output_type": "execute_result"
    }
   ],
   "source": [
    "main_sample['tolls_amount'].sort_values()"
   ]
  },
  {
   "cell_type": "markdown",
   "id": "d0fd5ec9-71b8-460b-8406-323126958180",
   "metadata": {},
   "source": [
    "__`Tip_amount`__`This field is automatically populated for credit card tips.`\n",
    "\n",
    "Can't be negative"
   ]
  },
  {
   "cell_type": "code",
   "execution_count": 15,
   "id": "6cd60e07-6be0-43fc-8f7e-e7baa8b27a76",
   "metadata": {},
   "outputs": [
    {
     "data": {
      "text/plain": [
       "10724554   -220.80\n",
       "3614225     -70.00\n",
       "7766456     -65.00\n",
       "9649637     -62.00\n",
       "10269801    -34.64\n",
       "             ...  \n",
       "8719432     550.00\n",
       "5274108     800.00\n",
       "180698      800.00\n",
       "1617570     900.00\n",
       "67897       998.14\n",
       "Name: tip_amount, Length: 10906858, dtype: float64"
      ]
     },
     "execution_count": 15,
     "metadata": {},
     "output_type": "execute_result"
    }
   ],
   "source": [
    "main_sample['tip_amount'].sort_values()"
   ]
  },
  {
   "cell_type": "markdown",
   "id": "e4b2767e-a78c-4c37-8bfe-1a15fb841003",
   "metadata": {},
   "source": [
    "__`Payment_type:`__`A numeric code signifying how the passenger paid for the trip.`\n",
    "\n",
    "Should be:\n",
    "1. Credit card\n",
    "2. Cash\n",
    "3. No charge\n",
    "4. Dispute\n",
    "5. Unknown\n",
    "6. Voided trip\n",
    "\n"
   ]
  },
  {
   "cell_type": "code",
   "execution_count": 16,
   "id": "8804e442-d61a-4a4d-a07c-d9769757641d",
   "metadata": {},
   "outputs": [
    {
     "data": {
      "text/plain": [
       "1    7181476\n",
       "2    3673651\n",
       "3      38319\n",
       "4      13411\n",
       "5          1\n",
       "Name: payment_type, dtype: int64"
      ]
     },
     "execution_count": 16,
     "metadata": {},
     "output_type": "execute_result"
    }
   ],
   "source": [
    "main_sample.payment_type.value_counts()"
   ]
  },
  {
   "cell_type": "code",
   "execution_count": 17,
   "id": "b6dc0ecb-7fb8-470c-8f25-31823fff3052",
   "metadata": {},
   "outputs": [
    {
     "data": {
      "image/png": "[encoded data removed]",
      "text/plain": [
       "<Figure size 800x500 with 1 Axes>"
      ]
     },
     "metadata": {},
     "output_type": "display_data"
    }
   ],
   "source": [
    "plt.figure(figsize=(8, 5))\n",
    "sns.countplot(data=main_sample, x='payment_type')\n",
    "plt.xticks(np.arange(5), ['Credit Card', 'Cash', 'No Charge', 'Dispute', 'Unknown'])\n",
    "plt.xlabel('Payment Type')\n",
    "plt.show()"
   ]
  },
  {
   "cell_type": "markdown",
   "id": "716f1346-97da-48a9-aba7-1705ae367e97",
   "metadata": {},
   "source": [
    "__`Pickup_longitude`__`Longitude where the meter was engaged.`\n",
    "\n",
    "__`Pickup_latitude`__`Latitude where the meter was engaged.`\n",
    "\n",
    "__`Dropoff_longitude`__`Longitude where the meter was disengaged.`\n",
    "\n",
    "__`Dropoff_ latitude`__`Latitude where the meter was disengaged.`\n",
    "\n",
    "\n",
    "Seems that there are 0 values in these columns, which means actually missing values or inproper geo location"
   ]
  },
  {
   "cell_type": "code",
   "execution_count": 18,
   "id": "0cccf998-bee3-4e68-8537-bddf85e7ea6c",
   "metadata": {},
   "outputs": [
    {
     "data": {
      "text/html": [
       "<div>\n",
       "<style scoped>\n",
       "    .dataframe tbody tr th:only-of-type {\n",
       "        vertical-align: middle;\n",
       "    }\n",
       "\n",
       "    .dataframe tbody tr th {\n",
       "        vertical-align: top;\n",
       "    }\n",
       "\n",
       "    .dataframe thead th {\n",
       "        text-align: right;\n",
       "    }\n",
       "</style>\n",
       "<table border=\"1\" class=\"dataframe\">\n",
       "  <thead>\n",
       "    <tr style=\"text-align: right;\">\n",
       "      <th></th>\n",
       "      <th>VendorID</th>\n",
       "      <th>tpep_pickup_datetime</th>\n",
       "      <th>tpep_dropoff_datetime</th>\n",
       "      <th>passenger_count</th>\n",
       "      <th>trip_distance</th>\n",
       "      <th>pickup_longitude</th>\n",
       "      <th>pickup_latitude</th>\n",
       "      <th>RatecodeID</th>\n",
       "      <th>store_and_fwd_flag</th>\n",
       "      <th>dropoff_longitude</th>\n",
       "      <th>dropoff_latitude</th>\n",
       "      <th>payment_type</th>\n",
       "      <th>fare_amount</th>\n",
       "      <th>extra</th>\n",
       "      <th>mta_tax</th>\n",
       "      <th>tip_amount</th>\n",
       "      <th>tolls_amount</th>\n",
       "      <th>improvement_surcharge</th>\n",
       "      <th>total_amount</th>\n",
       "    </tr>\n",
       "  </thead>\n",
       "  <tbody>\n",
       "    <tr>\n",
       "      <th>38</th>\n",
       "      <td>1</td>\n",
       "      <td>2016-01-01 00:00:19</td>\n",
       "      <td>2016-01-01 00:19:33</td>\n",
       "      <td>1</td>\n",
       "      <td>3.40</td>\n",
       "      <td>0.000000</td>\n",
       "      <td>0.000000</td>\n",
       "      <td>1</td>\n",
       "      <td>N</td>\n",
       "      <td>0.0</td>\n",
       "      <td>0.0</td>\n",
       "      <td>2</td>\n",
       "      <td>14.5</td>\n",
       "      <td>0.5</td>\n",
       "      <td>0.5</td>\n",
       "      <td>0.00</td>\n",
       "      <td>0.0</td>\n",
       "      <td>0.3</td>\n",
       "      <td>15.80</td>\n",
       "    </tr>\n",
       "    <tr>\n",
       "      <th>67</th>\n",
       "      <td>2</td>\n",
       "      <td>2016-01-01 00:00:41</td>\n",
       "      <td>2016-01-01 00:00:46</td>\n",
       "      <td>5</td>\n",
       "      <td>0.00</td>\n",
       "      <td>0.000000</td>\n",
       "      <td>0.000000</td>\n",
       "      <td>3</td>\n",
       "      <td>N</td>\n",
       "      <td>0.0</td>\n",
       "      <td>0.0</td>\n",
       "      <td>2</td>\n",
       "      <td>20.0</td>\n",
       "      <td>0.5</td>\n",
       "      <td>0.0</td>\n",
       "      <td>0.00</td>\n",
       "      <td>0.0</td>\n",
       "      <td>0.3</td>\n",
       "      <td>20.80</td>\n",
       "    </tr>\n",
       "    <tr>\n",
       "      <th>150</th>\n",
       "      <td>1</td>\n",
       "      <td>2016-01-01 00:01:34</td>\n",
       "      <td>2016-01-01 00:15:38</td>\n",
       "      <td>1</td>\n",
       "      <td>2.90</td>\n",
       "      <td>0.000000</td>\n",
       "      <td>0.000000</td>\n",
       "      <td>1</td>\n",
       "      <td>N</td>\n",
       "      <td>0.0</td>\n",
       "      <td>0.0</td>\n",
       "      <td>2</td>\n",
       "      <td>12.0</td>\n",
       "      <td>0.5</td>\n",
       "      <td>0.5</td>\n",
       "      <td>0.00</td>\n",
       "      <td>0.0</td>\n",
       "      <td>0.3</td>\n",
       "      <td>13.30</td>\n",
       "    </tr>\n",
       "    <tr>\n",
       "      <th>156</th>\n",
       "      <td>2</td>\n",
       "      <td>2016-01-01 00:01:36</td>\n",
       "      <td>2016-01-01 00:20:36</td>\n",
       "      <td>1</td>\n",
       "      <td>3.55</td>\n",
       "      <td>0.000000</td>\n",
       "      <td>0.000000</td>\n",
       "      <td>1</td>\n",
       "      <td>N</td>\n",
       "      <td>0.0</td>\n",
       "      <td>0.0</td>\n",
       "      <td>1</td>\n",
       "      <td>15.5</td>\n",
       "      <td>0.5</td>\n",
       "      <td>0.5</td>\n",
       "      <td>3.36</td>\n",
       "      <td>0.0</td>\n",
       "      <td>0.3</td>\n",
       "      <td>20.16</td>\n",
       "    </tr>\n",
       "    <tr>\n",
       "      <th>158</th>\n",
       "      <td>2</td>\n",
       "      <td>2016-01-01 00:01:37</td>\n",
       "      <td>2016-01-01 00:25:25</td>\n",
       "      <td>2</td>\n",
       "      <td>1.53</td>\n",
       "      <td>0.000000</td>\n",
       "      <td>0.000000</td>\n",
       "      <td>1</td>\n",
       "      <td>N</td>\n",
       "      <td>0.0</td>\n",
       "      <td>0.0</td>\n",
       "      <td>2</td>\n",
       "      <td>15.0</td>\n",
       "      <td>0.5</td>\n",
       "      <td>0.5</td>\n",
       "      <td>0.00</td>\n",
       "      <td>0.0</td>\n",
       "      <td>0.3</td>\n",
       "      <td>16.30</td>\n",
       "    </tr>\n",
       "    <tr>\n",
       "      <th>...</th>\n",
       "      <td>...</td>\n",
       "      <td>...</td>\n",
       "      <td>...</td>\n",
       "      <td>...</td>\n",
       "      <td>...</td>\n",
       "      <td>...</td>\n",
       "      <td>...</td>\n",
       "      <td>...</td>\n",
       "      <td>...</td>\n",
       "      <td>...</td>\n",
       "      <td>...</td>\n",
       "      <td>...</td>\n",
       "      <td>...</td>\n",
       "      <td>...</td>\n",
       "      <td>...</td>\n",
       "      <td>...</td>\n",
       "      <td>...</td>\n",
       "      <td>...</td>\n",
       "      <td>...</td>\n",
       "    </tr>\n",
       "    <tr>\n",
       "      <th>10906034</th>\n",
       "      <td>1</td>\n",
       "      <td>2016-01-29 09:32:48</td>\n",
       "      <td>2016-01-29 09:47:49</td>\n",
       "      <td>1</td>\n",
       "      <td>2.50</td>\n",
       "      <td>0.000000</td>\n",
       "      <td>0.000000</td>\n",
       "      <td>1</td>\n",
       "      <td>N</td>\n",
       "      <td>0.0</td>\n",
       "      <td>0.0</td>\n",
       "      <td>2</td>\n",
       "      <td>12.0</td>\n",
       "      <td>0.0</td>\n",
       "      <td>0.5</td>\n",
       "      <td>0.00</td>\n",
       "      <td>0.0</td>\n",
       "      <td>0.3</td>\n",
       "      <td>12.80</td>\n",
       "    </tr>\n",
       "    <tr>\n",
       "      <th>10906370</th>\n",
       "      <td>1</td>\n",
       "      <td>2016-01-29 09:33:58</td>\n",
       "      <td>2016-01-29 09:43:28</td>\n",
       "      <td>1</td>\n",
       "      <td>1.10</td>\n",
       "      <td>0.000000</td>\n",
       "      <td>0.000000</td>\n",
       "      <td>1</td>\n",
       "      <td>N</td>\n",
       "      <td>0.0</td>\n",
       "      <td>0.0</td>\n",
       "      <td>2</td>\n",
       "      <td>7.5</td>\n",
       "      <td>0.0</td>\n",
       "      <td>0.5</td>\n",
       "      <td>0.00</td>\n",
       "      <td>0.0</td>\n",
       "      <td>0.3</td>\n",
       "      <td>8.30</td>\n",
       "    </tr>\n",
       "    <tr>\n",
       "      <th>10906404</th>\n",
       "      <td>1</td>\n",
       "      <td>2016-01-29 09:34:04</td>\n",
       "      <td>2016-01-29 09:44:03</td>\n",
       "      <td>1</td>\n",
       "      <td>0.60</td>\n",
       "      <td>0.000000</td>\n",
       "      <td>0.000000</td>\n",
       "      <td>1</td>\n",
       "      <td>N</td>\n",
       "      <td>0.0</td>\n",
       "      <td>0.0</td>\n",
       "      <td>1</td>\n",
       "      <td>7.5</td>\n",
       "      <td>0.0</td>\n",
       "      <td>0.5</td>\n",
       "      <td>2.07</td>\n",
       "      <td>0.0</td>\n",
       "      <td>0.3</td>\n",
       "      <td>10.37</td>\n",
       "    </tr>\n",
       "    <tr>\n",
       "      <th>10906760</th>\n",
       "      <td>2</td>\n",
       "      <td>2016-01-29 14:52:29</td>\n",
       "      <td>2016-01-29 14:53:29</td>\n",
       "      <td>2</td>\n",
       "      <td>0.00</td>\n",
       "      <td>-73.952721</td>\n",
       "      <td>40.584633</td>\n",
       "      <td>1</td>\n",
       "      <td>N</td>\n",
       "      <td>0.0</td>\n",
       "      <td>0.0</td>\n",
       "      <td>1</td>\n",
       "      <td>2.5</td>\n",
       "      <td>0.5</td>\n",
       "      <td>0.5</td>\n",
       "      <td>0.76</td>\n",
       "      <td>0.0</td>\n",
       "      <td>0.3</td>\n",
       "      <td>4.56</td>\n",
       "    </tr>\n",
       "    <tr>\n",
       "      <th>10906764</th>\n",
       "      <td>2</td>\n",
       "      <td>2016-01-29 15:55:10</td>\n",
       "      <td>2016-01-29 15:55:45</td>\n",
       "      <td>5</td>\n",
       "      <td>0.00</td>\n",
       "      <td>0.000000</td>\n",
       "      <td>0.000000</td>\n",
       "      <td>1</td>\n",
       "      <td>N</td>\n",
       "      <td>0.0</td>\n",
       "      <td>0.0</td>\n",
       "      <td>1</td>\n",
       "      <td>2.5</td>\n",
       "      <td>0.5</td>\n",
       "      <td>0.5</td>\n",
       "      <td>0.76</td>\n",
       "      <td>0.0</td>\n",
       "      <td>0.3</td>\n",
       "      <td>4.56</td>\n",
       "    </tr>\n",
       "  </tbody>\n",
       "</table>\n",
       "<p>185991 rows × 19 columns</p>\n",
       "</div>"
      ],
      "text/plain": [
       "          VendorID tpep_pickup_datetime tpep_dropoff_datetime  \\\n",
       "38               1  2016-01-01 00:00:19   2016-01-01 00:19:33   \n",
       "67               2  2016-01-01 00:00:41   2016-01-01 00:00:46   \n",
       "150              1  2016-01-01 00:01:34   2016-01-01 00:15:38   \n",
       "156              2  2016-01-01 00:01:36   2016-01-01 00:20:36   \n",
       "158              2  2016-01-01 00:01:37   2016-01-01 00:25:25   \n",
       "...            ...                  ...                   ...   \n",
       "10906034         1  2016-01-29 09:32:48   2016-01-29 09:47:49   \n",
       "10906370         1  2016-01-29 09:33:58   2016-01-29 09:43:28   \n",
       "10906404         1  2016-01-29 09:34:04   2016-01-29 09:44:03   \n",
       "10906760         2  2016-01-29 14:52:29   2016-01-29 14:53:29   \n",
       "10906764         2  2016-01-29 15:55:10   2016-01-29 15:55:45   \n",
       "\n",
       "          passenger_count  trip_distance  pickup_longitude  pickup_latitude  \\\n",
       "38                      1           3.40          0.000000         0.000000   \n",
       "67                      5           0.00          0.000000         0.000000   \n",
       "150                     1           2.90          0.000000         0.000000   \n",
       "156                     1           3.55          0.000000         0.000000   \n",
       "158                     2           1.53          0.000000         0.000000   \n",
       "...                   ...            ...               ...              ...   \n",
       "10906034                1           2.50          0.000000         0.000000   \n",
       "10906370                1           1.10          0.000000         0.000000   \n",
       "10906404                1           0.60          0.000000         0.000000   \n",
       "10906760                2           0.00        -73.952721        40.584633   \n",
       "10906764                5           0.00          0.000000         0.000000   \n",
       "\n",
       "          RatecodeID store_and_fwd_flag  dropoff_longitude  dropoff_latitude  \\\n",
       "38                 1                  N                0.0               0.0   \n",
       "67                 3                  N                0.0               0.0   \n",
       "150                1                  N                0.0               0.0   \n",
       "156                1                  N                0.0               0.0   \n",
       "158                1                  N                0.0               0.0   \n",
       "...              ...                ...                ...               ...   \n",
       "10906034           1                  N                0.0               0.0   \n",
       "10906370           1                  N                0.0               0.0   \n",
       "10906404           1                  N                0.0               0.0   \n",
       "10906760           1                  N                0.0               0.0   \n",
       "10906764           1                  N                0.0               0.0   \n",
       "\n",
       "          payment_type  fare_amount  extra  mta_tax  tip_amount  tolls_amount  \\\n",
       "38                   2         14.5    0.5      0.5        0.00           0.0   \n",
       "67                   2         20.0    0.5      0.0        0.00           0.0   \n",
       "150                  2         12.0    0.5      0.5        0.00           0.0   \n",
       "156                  1         15.5    0.5      0.5        3.36           0.0   \n",
       "158                  2         15.0    0.5      0.5        0.00           0.0   \n",
       "...                ...          ...    ...      ...         ...           ...   \n",
       "10906034             2         12.0    0.0      0.5        0.00           0.0   \n",
       "10906370             2          7.5    0.0      0.5        0.00           0.0   \n",
       "10906404             1          7.5    0.0      0.5        2.07           0.0   \n",
       "10906760             1          2.5    0.5      0.5        0.76           0.0   \n",
       "10906764             1          2.5    0.5      0.5        0.76           0.0   \n",
       "\n",
       "          improvement_surcharge  total_amount  \n",
       "38                          0.3         15.80  \n",
       "67                          0.3         20.80  \n",
       "150                         0.3         13.30  \n",
       "156                         0.3         20.16  \n",
       "158                         0.3         16.30  \n",
       "...                         ...           ...  \n",
       "10906034                    0.3         12.80  \n",
       "10906370                    0.3          8.30  \n",
       "10906404                    0.3         10.37  \n",
       "10906760                    0.3          4.56  \n",
       "10906764                    0.3          4.56  \n",
       "\n",
       "[185991 rows x 19 columns]"
      ]
     },
     "execution_count": 18,
     "metadata": {},
     "output_type": "execute_result"
    }
   ],
   "source": [
    "# showing rows with any coordinate data equals to 0\n",
    "main_sample[(main_sample['dropoff_longitude'] == 0) | (main_sample['dropoff_latitude'] == 0) | (main_sample['pickup_longitude'] == 0) | (main_sample['pickup_latitude'] == 0)]"
   ]
  },
  {
   "cell_type": "markdown",
   "id": "a4c09d78-7e72-41ea-8f60-2fc58dc6cd5e",
   "metadata": {},
   "source": [
    "_________\n",
    "__`Store_and_fwd_flag`__`Y = store and forward trip, N = not a store and forward trip`\n",
    "\n",
    "Should be either __Y__ or __N__\n"
   ]
  },
  {
   "cell_type": "code",
   "execution_count": 19,
   "id": "6180f24b-a30c-416d-bd90-be18cfc99f0b",
   "metadata": {},
   "outputs": [
    {
     "data": {
      "text/plain": [
       "N    10843625\n",
       "Y       63233\n",
       "Name: store_and_fwd_flag, dtype: int64"
      ]
     },
     "execution_count": 19,
     "metadata": {},
     "output_type": "execute_result"
    }
   ],
   "source": [
    "main_sample.store_and_fwd_flag.value_counts()"
   ]
  },
  {
   "cell_type": "code",
   "execution_count": 20,
   "id": "45d0c65a-6b9b-4d92-a8b8-5d49d6bebfe0",
   "metadata": {},
   "outputs": [
    {
     "data": {
      "image/png": "[encoded data removed]",
      "text/plain": [
       "<Figure size 640x480 with 1 Axes>"
      ]
     },
     "metadata": {},
     "output_type": "display_data"
    }
   ],
   "source": [
    "sns.countplot(data=main_sample, x='store_and_fwd_flag');"
   ]
  },
  {
   "cell_type": "markdown",
   "id": "7c68a9b3-359d-4649-9a9a-fe95850f7ab7",
   "metadata": {},
   "source": [
    "________\n",
    "__`RateCodeID`__`The final rate code in effect at the end of the trip.`\n",
    "1. Standard rate\n",
    "2. JFK\n",
    "3. Newark\n",
    "4. Nassau or Westchester\n",
    "5. Negotiated fare\n",
    "6. Group ride"
   ]
  },
  {
   "cell_type": "code",
   "execution_count": 21,
   "id": "e4047710-f4a1-46bc-8141-39155bff2ce0",
   "metadata": {},
   "outputs": [
    {
     "data": {
      "text/plain": [
       "1     10626315\n",
       "2       225019\n",
       "5        33688\n",
       "3        16822\n",
       "4         4696\n",
       "99         216\n",
       "6          102\n",
       "Name: RatecodeID, dtype: int64"
      ]
     },
     "execution_count": 21,
     "metadata": {},
     "output_type": "execute_result"
    }
   ],
   "source": [
    "# What is 99 here?\n",
    "main_sample.RatecodeID.value_counts()"
   ]
  },
  {
   "cell_type": "markdown",
   "id": "b9d99649-4055-4124-b293-0691cc047d3c",
   "metadata": {},
   "source": [
    "__`Trip_distance`__`The elapsed trip distance in miles reported by the taximeter.`\n",
    "\n",
    "If measured correctly it shouldn't be equal to 0 or astronomicaly high \n",
    "\n",
    "It can also be strange comparing to starting-ending time of the trip (1 hour long trip and 200 miles)"
   ]
  },
  {
   "cell_type": "code",
   "execution_count": 22,
   "id": "1d119fcc-9715-4657-a739-b96e1535ae38",
   "metadata": {},
   "outputs": [
    {
     "data": {
      "text/plain": [
       "10906857          0.0\n",
       "2047967           0.0\n",
       "6059957           0.0\n",
       "6059997           0.0\n",
       "2047928           0.0\n",
       "              ...    \n",
       "1256517     1403240.5\n",
       "2768776     1653402.0\n",
       "8551614     2441418.8\n",
       "2708971     4667468.7\n",
       "1027151     8000010.0\n",
       "Name: trip_distance, Length: 10906858, dtype: float64"
      ]
     },
     "execution_count": 22,
     "metadata": {},
     "output_type": "execute_result"
    }
   ],
   "source": [
    "main_sample.trip_distance.sort_values()"
   ]
  },
  {
   "cell_type": "code",
   "execution_count": 23,
   "id": "39c69653-c574-49bc-8871-be87fdccf578",
   "metadata": {},
   "outputs": [
    {
     "data": {
      "text/html": [
       "<div>\n",
       "<style scoped>\n",
       "    .dataframe tbody tr th:only-of-type {\n",
       "        vertical-align: middle;\n",
       "    }\n",
       "\n",
       "    .dataframe tbody tr th {\n",
       "        vertical-align: top;\n",
       "    }\n",
       "\n",
       "    .dataframe thead th {\n",
       "        text-align: right;\n",
       "    }\n",
       "</style>\n",
       "<table border=\"1\" class=\"dataframe\">\n",
       "  <thead>\n",
       "    <tr style=\"text-align: right;\">\n",
       "      <th></th>\n",
       "      <th>VendorID</th>\n",
       "      <th>tpep_pickup_datetime</th>\n",
       "      <th>tpep_dropoff_datetime</th>\n",
       "      <th>passenger_count</th>\n",
       "      <th>trip_distance</th>\n",
       "      <th>pickup_longitude</th>\n",
       "      <th>pickup_latitude</th>\n",
       "      <th>RatecodeID</th>\n",
       "      <th>store_and_fwd_flag</th>\n",
       "      <th>dropoff_longitude</th>\n",
       "      <th>dropoff_latitude</th>\n",
       "      <th>payment_type</th>\n",
       "      <th>fare_amount</th>\n",
       "      <th>extra</th>\n",
       "      <th>mta_tax</th>\n",
       "      <th>tip_amount</th>\n",
       "      <th>tolls_amount</th>\n",
       "      <th>improvement_surcharge</th>\n",
       "      <th>total_amount</th>\n",
       "    </tr>\n",
       "  </thead>\n",
       "  <tbody>\n",
       "    <tr>\n",
       "      <th>67</th>\n",
       "      <td>2</td>\n",
       "      <td>2016-01-01 00:00:41</td>\n",
       "      <td>2016-01-01 00:00:46</td>\n",
       "      <td>5</td>\n",
       "      <td>0.0</td>\n",
       "      <td>0.000000</td>\n",
       "      <td>0.000000</td>\n",
       "      <td>3</td>\n",
       "      <td>N</td>\n",
       "      <td>0.000000</td>\n",
       "      <td>0.000000</td>\n",
       "      <td>2</td>\n",
       "      <td>20.0</td>\n",
       "      <td>0.5</td>\n",
       "      <td>0.0</td>\n",
       "      <td>0.00</td>\n",
       "      <td>0.00</td>\n",
       "      <td>0.3</td>\n",
       "      <td>20.80</td>\n",
       "    </tr>\n",
       "    <tr>\n",
       "      <th>232</th>\n",
       "      <td>1</td>\n",
       "      <td>2016-01-29 09:18:28</td>\n",
       "      <td>2016-01-29 09:18:34</td>\n",
       "      <td>1</td>\n",
       "      <td>0.0</td>\n",
       "      <td>-73.949928</td>\n",
       "      <td>40.772038</td>\n",
       "      <td>1</td>\n",
       "      <td>N</td>\n",
       "      <td>-73.949921</td>\n",
       "      <td>40.772034</td>\n",
       "      <td>3</td>\n",
       "      <td>2.5</td>\n",
       "      <td>0.0</td>\n",
       "      <td>0.5</td>\n",
       "      <td>0.00</td>\n",
       "      <td>0.00</td>\n",
       "      <td>0.3</td>\n",
       "      <td>3.30</td>\n",
       "    </tr>\n",
       "    <tr>\n",
       "      <th>336</th>\n",
       "      <td>2</td>\n",
       "      <td>2016-01-29 09:18:45</td>\n",
       "      <td>2016-01-29 09:18:47</td>\n",
       "      <td>1</td>\n",
       "      <td>0.0</td>\n",
       "      <td>0.000000</td>\n",
       "      <td>0.000000</td>\n",
       "      <td>2</td>\n",
       "      <td>N</td>\n",
       "      <td>0.000000</td>\n",
       "      <td>0.000000</td>\n",
       "      <td>1</td>\n",
       "      <td>52.0</td>\n",
       "      <td>0.0</td>\n",
       "      <td>0.5</td>\n",
       "      <td>8.00</td>\n",
       "      <td>0.00</td>\n",
       "      <td>0.3</td>\n",
       "      <td>60.80</td>\n",
       "    </tr>\n",
       "    <tr>\n",
       "      <th>425</th>\n",
       "      <td>2</td>\n",
       "      <td>2016-01-29 09:19:02</td>\n",
       "      <td>2016-01-29 09:19:06</td>\n",
       "      <td>1</td>\n",
       "      <td>0.0</td>\n",
       "      <td>-74.005180</td>\n",
       "      <td>40.706001</td>\n",
       "      <td>5</td>\n",
       "      <td>N</td>\n",
       "      <td>-74.005180</td>\n",
       "      <td>40.705986</td>\n",
       "      <td>2</td>\n",
       "      <td>65.0</td>\n",
       "      <td>0.0</td>\n",
       "      <td>0.5</td>\n",
       "      <td>0.00</td>\n",
       "      <td>0.00</td>\n",
       "      <td>0.3</td>\n",
       "      <td>65.80</td>\n",
       "    </tr>\n",
       "    <tr>\n",
       "      <th>448</th>\n",
       "      <td>1</td>\n",
       "      <td>2016-01-29 09:19:05</td>\n",
       "      <td>2016-01-29 09:19:05</td>\n",
       "      <td>1</td>\n",
       "      <td>0.0</td>\n",
       "      <td>-74.009949</td>\n",
       "      <td>40.703251</td>\n",
       "      <td>1</td>\n",
       "      <td>N</td>\n",
       "      <td>0.000000</td>\n",
       "      <td>0.000000</td>\n",
       "      <td>2</td>\n",
       "      <td>3.5</td>\n",
       "      <td>0.0</td>\n",
       "      <td>0.5</td>\n",
       "      <td>0.00</td>\n",
       "      <td>0.00</td>\n",
       "      <td>0.3</td>\n",
       "      <td>4.30</td>\n",
       "    </tr>\n",
       "    <tr>\n",
       "      <th>...</th>\n",
       "      <td>...</td>\n",
       "      <td>...</td>\n",
       "      <td>...</td>\n",
       "      <td>...</td>\n",
       "      <td>...</td>\n",
       "      <td>...</td>\n",
       "      <td>...</td>\n",
       "      <td>...</td>\n",
       "      <td>...</td>\n",
       "      <td>...</td>\n",
       "      <td>...</td>\n",
       "      <td>...</td>\n",
       "      <td>...</td>\n",
       "      <td>...</td>\n",
       "      <td>...</td>\n",
       "      <td>...</td>\n",
       "      <td>...</td>\n",
       "      <td>...</td>\n",
       "      <td>...</td>\n",
       "    </tr>\n",
       "    <tr>\n",
       "      <th>10906760</th>\n",
       "      <td>2</td>\n",
       "      <td>2016-01-29 14:52:29</td>\n",
       "      <td>2016-01-29 14:53:29</td>\n",
       "      <td>2</td>\n",
       "      <td>0.0</td>\n",
       "      <td>-73.952721</td>\n",
       "      <td>40.584633</td>\n",
       "      <td>1</td>\n",
       "      <td>N</td>\n",
       "      <td>0.000000</td>\n",
       "      <td>0.000000</td>\n",
       "      <td>1</td>\n",
       "      <td>2.5</td>\n",
       "      <td>0.5</td>\n",
       "      <td>0.5</td>\n",
       "      <td>0.76</td>\n",
       "      <td>0.00</td>\n",
       "      <td>0.3</td>\n",
       "      <td>4.56</td>\n",
       "    </tr>\n",
       "    <tr>\n",
       "      <th>10906764</th>\n",
       "      <td>2</td>\n",
       "      <td>2016-01-29 15:55:10</td>\n",
       "      <td>2016-01-29 15:55:45</td>\n",
       "      <td>5</td>\n",
       "      <td>0.0</td>\n",
       "      <td>0.000000</td>\n",
       "      <td>0.000000</td>\n",
       "      <td>1</td>\n",
       "      <td>N</td>\n",
       "      <td>0.000000</td>\n",
       "      <td>0.000000</td>\n",
       "      <td>1</td>\n",
       "      <td>2.5</td>\n",
       "      <td>0.5</td>\n",
       "      <td>0.5</td>\n",
       "      <td>0.76</td>\n",
       "      <td>0.00</td>\n",
       "      <td>0.3</td>\n",
       "      <td>4.56</td>\n",
       "    </tr>\n",
       "    <tr>\n",
       "      <th>10906779</th>\n",
       "      <td>2</td>\n",
       "      <td>2016-01-29 22:48:38</td>\n",
       "      <td>2016-01-29 22:48:47</td>\n",
       "      <td>1</td>\n",
       "      <td>0.0</td>\n",
       "      <td>-73.987198</td>\n",
       "      <td>40.718418</td>\n",
       "      <td>1</td>\n",
       "      <td>N</td>\n",
       "      <td>-73.987350</td>\n",
       "      <td>40.718460</td>\n",
       "      <td>2</td>\n",
       "      <td>2.5</td>\n",
       "      <td>0.5</td>\n",
       "      <td>0.5</td>\n",
       "      <td>0.00</td>\n",
       "      <td>0.00</td>\n",
       "      <td>0.3</td>\n",
       "      <td>3.80</td>\n",
       "    </tr>\n",
       "    <tr>\n",
       "      <th>10906854</th>\n",
       "      <td>1</td>\n",
       "      <td>2016-01-05 00:15:55</td>\n",
       "      <td>2016-01-05 00:16:06</td>\n",
       "      <td>1</td>\n",
       "      <td>0.0</td>\n",
       "      <td>-73.945488</td>\n",
       "      <td>40.751530</td>\n",
       "      <td>1</td>\n",
       "      <td>N</td>\n",
       "      <td>-73.945457</td>\n",
       "      <td>40.751530</td>\n",
       "      <td>2</td>\n",
       "      <td>2.5</td>\n",
       "      <td>0.5</td>\n",
       "      <td>0.5</td>\n",
       "      <td>0.00</td>\n",
       "      <td>0.00</td>\n",
       "      <td>0.3</td>\n",
       "      <td>3.80</td>\n",
       "    </tr>\n",
       "    <tr>\n",
       "      <th>10906857</th>\n",
       "      <td>1</td>\n",
       "      <td>2016-01-05 06:15:21</td>\n",
       "      <td>2016-01-05 06:15:36</td>\n",
       "      <td>3</td>\n",
       "      <td>0.0</td>\n",
       "      <td>-73.960938</td>\n",
       "      <td>40.758595</td>\n",
       "      <td>2</td>\n",
       "      <td>N</td>\n",
       "      <td>-73.961006</td>\n",
       "      <td>40.758583</td>\n",
       "      <td>2</td>\n",
       "      <td>52.0</td>\n",
       "      <td>0.0</td>\n",
       "      <td>0.5</td>\n",
       "      <td>0.00</td>\n",
       "      <td>5.54</td>\n",
       "      <td>0.3</td>\n",
       "      <td>58.34</td>\n",
       "    </tr>\n",
       "  </tbody>\n",
       "</table>\n",
       "<p>64065 rows × 19 columns</p>\n",
       "</div>"
      ],
      "text/plain": [
       "          VendorID tpep_pickup_datetime tpep_dropoff_datetime  \\\n",
       "67               2  2016-01-01 00:00:41   2016-01-01 00:00:46   \n",
       "232              1  2016-01-29 09:18:28   2016-01-29 09:18:34   \n",
       "336              2  2016-01-29 09:18:45   2016-01-29 09:18:47   \n",
       "425              2  2016-01-29 09:19:02   2016-01-29 09:19:06   \n",
       "448              1  2016-01-29 09:19:05   2016-01-29 09:19:05   \n",
       "...            ...                  ...                   ...   \n",
       "10906760         2  2016-01-29 14:52:29   2016-01-29 14:53:29   \n",
       "10906764         2  2016-01-29 15:55:10   2016-01-29 15:55:45   \n",
       "10906779         2  2016-01-29 22:48:38   2016-01-29 22:48:47   \n",
       "10906854         1  2016-01-05 00:15:55   2016-01-05 00:16:06   \n",
       "10906857         1  2016-01-05 06:15:21   2016-01-05 06:15:36   \n",
       "\n",
       "          passenger_count  trip_distance  pickup_longitude  pickup_latitude  \\\n",
       "67                      5            0.0          0.000000         0.000000   \n",
       "232                     1            0.0        -73.949928        40.772038   \n",
       "336                     1            0.0          0.000000         0.000000   \n",
       "425                     1            0.0        -74.005180        40.706001   \n",
       "448                     1            0.0        -74.009949        40.703251   \n",
       "...                   ...            ...               ...              ...   \n",
       "10906760                2            0.0        -73.952721        40.584633   \n",
       "10906764                5            0.0          0.000000         0.000000   \n",
       "10906779                1            0.0        -73.987198        40.718418   \n",
       "10906854                1            0.0        -73.945488        40.751530   \n",
       "10906857                3            0.0        -73.960938        40.758595   \n",
       "\n",
       "          RatecodeID store_and_fwd_flag  dropoff_longitude  dropoff_latitude  \\\n",
       "67                 3                  N           0.000000          0.000000   \n",
       "232                1                  N         -73.949921         40.772034   \n",
       "336                2                  N           0.000000          0.000000   \n",
       "425                5                  N         -74.005180         40.705986   \n",
       "448                1                  N           0.000000          0.000000   \n",
       "...              ...                ...                ...               ...   \n",
       "10906760           1                  N           0.000000          0.000000   \n",
       "10906764           1                  N           0.000000          0.000000   \n",
       "10906779           1                  N         -73.987350         40.718460   \n",
       "10906854           1                  N         -73.945457         40.751530   \n",
       "10906857           2                  N         -73.961006         40.758583   \n",
       "\n",
       "          payment_type  fare_amount  extra  mta_tax  tip_amount  tolls_amount  \\\n",
       "67                   2         20.0    0.5      0.0        0.00          0.00   \n",
       "232                  3          2.5    0.0      0.5        0.00          0.00   \n",
       "336                  1         52.0    0.0      0.5        8.00          0.00   \n",
       "425                  2         65.0    0.0      0.5        0.00          0.00   \n",
       "448                  2          3.5    0.0      0.5        0.00          0.00   \n",
       "...                ...          ...    ...      ...         ...           ...   \n",
       "10906760             1          2.5    0.5      0.5        0.76          0.00   \n",
       "10906764             1          2.5    0.5      0.5        0.76          0.00   \n",
       "10906779             2          2.5    0.5      0.5        0.00          0.00   \n",
       "10906854             2          2.5    0.5      0.5        0.00          0.00   \n",
       "10906857             2         52.0    0.0      0.5        0.00          5.54   \n",
       "\n",
       "          improvement_surcharge  total_amount  \n",
       "67                          0.3         20.80  \n",
       "232                         0.3          3.30  \n",
       "336                         0.3         60.80  \n",
       "425                         0.3         65.80  \n",
       "448                         0.3          4.30  \n",
       "...                         ...           ...  \n",
       "10906760                    0.3          4.56  \n",
       "10906764                    0.3          4.56  \n",
       "10906779                    0.3          3.80  \n",
       "10906854                    0.3          3.80  \n",
       "10906857                    0.3         58.34  \n",
       "\n",
       "[64065 rows x 19 columns]"
      ]
     },
     "execution_count": 23,
     "metadata": {},
     "output_type": "execute_result"
    }
   ],
   "source": [
    "# Checking all rows where the trip_distance is Zero\n",
    "main_sample[main_sample['trip_distance']==0]"
   ]
  },
  {
   "cell_type": "code",
   "execution_count": 24,
   "id": "40b25220-6edd-4bb4-8502-c84b57e0441d",
   "metadata": {},
   "outputs": [
    {
     "data": {
      "text/html": [
       "<div>\n",
       "<style scoped>\n",
       "    .dataframe tbody tr th:only-of-type {\n",
       "        vertical-align: middle;\n",
       "    }\n",
       "\n",
       "    .dataframe tbody tr th {\n",
       "        vertical-align: top;\n",
       "    }\n",
       "\n",
       "    .dataframe thead th {\n",
       "        text-align: right;\n",
       "    }\n",
       "</style>\n",
       "<table border=\"1\" class=\"dataframe\">\n",
       "  <thead>\n",
       "    <tr style=\"text-align: right;\">\n",
       "      <th></th>\n",
       "      <th>VendorID</th>\n",
       "      <th>tpep_pickup_datetime</th>\n",
       "      <th>tpep_dropoff_datetime</th>\n",
       "      <th>passenger_count</th>\n",
       "      <th>trip_distance</th>\n",
       "      <th>pickup_longitude</th>\n",
       "      <th>pickup_latitude</th>\n",
       "      <th>RatecodeID</th>\n",
       "      <th>store_and_fwd_flag</th>\n",
       "      <th>dropoff_longitude</th>\n",
       "      <th>dropoff_latitude</th>\n",
       "      <th>payment_type</th>\n",
       "      <th>fare_amount</th>\n",
       "      <th>extra</th>\n",
       "      <th>mta_tax</th>\n",
       "      <th>tip_amount</th>\n",
       "      <th>tolls_amount</th>\n",
       "      <th>improvement_surcharge</th>\n",
       "      <th>total_amount</th>\n",
       "    </tr>\n",
       "  </thead>\n",
       "  <tbody>\n",
       "    <tr>\n",
       "      <th>1027151</th>\n",
       "      <td>1</td>\n",
       "      <td>2016-01-04 14:56:45</td>\n",
       "      <td>2016-01-04 15:27:47</td>\n",
       "      <td>1</td>\n",
       "      <td>8000010.0</td>\n",
       "      <td>-73.998978</td>\n",
       "      <td>40.734444</td>\n",
       "      <td>1</td>\n",
       "      <td>N</td>\n",
       "      <td>-73.939156</td>\n",
       "      <td>40.843288</td>\n",
       "      <td>2</td>\n",
       "      <td>27.5</td>\n",
       "      <td>0.0</td>\n",
       "      <td>0.5</td>\n",
       "      <td>0.00</td>\n",
       "      <td>0.0</td>\n",
       "      <td>0.3</td>\n",
       "      <td>28.30</td>\n",
       "    </tr>\n",
       "    <tr>\n",
       "      <th>1046137</th>\n",
       "      <td>1</td>\n",
       "      <td>2016-01-04 17:12:01</td>\n",
       "      <td>2016-01-04 17:27:36</td>\n",
       "      <td>1</td>\n",
       "      <td>633008.3</td>\n",
       "      <td>-73.991150</td>\n",
       "      <td>40.739609</td>\n",
       "      <td>1</td>\n",
       "      <td>N</td>\n",
       "      <td>-73.992462</td>\n",
       "      <td>40.713997</td>\n",
       "      <td>2</td>\n",
       "      <td>2.5</td>\n",
       "      <td>1.0</td>\n",
       "      <td>0.5</td>\n",
       "      <td>0.00</td>\n",
       "      <td>0.0</td>\n",
       "      <td>0.3</td>\n",
       "      <td>4.30</td>\n",
       "    </tr>\n",
       "    <tr>\n",
       "      <th>1256517</th>\n",
       "      <td>1</td>\n",
       "      <td>2016-01-05 22:51:22</td>\n",
       "      <td>2016-01-05 22:51:35</td>\n",
       "      <td>1</td>\n",
       "      <td>1403240.5</td>\n",
       "      <td>-73.945007</td>\n",
       "      <td>40.751808</td>\n",
       "      <td>1</td>\n",
       "      <td>N</td>\n",
       "      <td>-73.944992</td>\n",
       "      <td>40.751827</td>\n",
       "      <td>3</td>\n",
       "      <td>2.5</td>\n",
       "      <td>0.5</td>\n",
       "      <td>0.5</td>\n",
       "      <td>0.00</td>\n",
       "      <td>0.0</td>\n",
       "      <td>0.3</td>\n",
       "      <td>3.80</td>\n",
       "    </tr>\n",
       "    <tr>\n",
       "      <th>1256744</th>\n",
       "      <td>1</td>\n",
       "      <td>2016-01-05 22:53:29</td>\n",
       "      <td>2016-01-05 22:53:49</td>\n",
       "      <td>1</td>\n",
       "      <td>281060.3</td>\n",
       "      <td>-73.945023</td>\n",
       "      <td>40.751831</td>\n",
       "      <td>1</td>\n",
       "      <td>N</td>\n",
       "      <td>-73.945053</td>\n",
       "      <td>40.751842</td>\n",
       "      <td>3</td>\n",
       "      <td>2.5</td>\n",
       "      <td>0.0</td>\n",
       "      <td>0.5</td>\n",
       "      <td>0.00</td>\n",
       "      <td>0.0</td>\n",
       "      <td>0.3</td>\n",
       "      <td>3.30</td>\n",
       "    </tr>\n",
       "    <tr>\n",
       "      <th>2708971</th>\n",
       "      <td>1</td>\n",
       "      <td>2016-01-28 10:41:15</td>\n",
       "      <td>2016-01-28 11:03:53</td>\n",
       "      <td>1</td>\n",
       "      <td>4667468.7</td>\n",
       "      <td>-74.007156</td>\n",
       "      <td>40.734352</td>\n",
       "      <td>1</td>\n",
       "      <td>N</td>\n",
       "      <td>-74.007782</td>\n",
       "      <td>40.712494</td>\n",
       "      <td>1</td>\n",
       "      <td>14.5</td>\n",
       "      <td>0.0</td>\n",
       "      <td>0.5</td>\n",
       "      <td>3.06</td>\n",
       "      <td>0.0</td>\n",
       "      <td>0.3</td>\n",
       "      <td>18.36</td>\n",
       "    </tr>\n",
       "    <tr>\n",
       "      <th>2768776</th>\n",
       "      <td>1</td>\n",
       "      <td>2016-01-28 11:39:07</td>\n",
       "      <td>2016-01-28 11:41:29</td>\n",
       "      <td>2</td>\n",
       "      <td>1653402.0</td>\n",
       "      <td>-73.945663</td>\n",
       "      <td>40.751747</td>\n",
       "      <td>1</td>\n",
       "      <td>N</td>\n",
       "      <td>-73.945610</td>\n",
       "      <td>40.751617</td>\n",
       "      <td>2</td>\n",
       "      <td>2.5</td>\n",
       "      <td>0.0</td>\n",
       "      <td>0.5</td>\n",
       "      <td>0.00</td>\n",
       "      <td>0.0</td>\n",
       "      <td>0.3</td>\n",
       "      <td>3.30</td>\n",
       "    </tr>\n",
       "    <tr>\n",
       "      <th>8551614</th>\n",
       "      <td>1</td>\n",
       "      <td>2016-01-21 14:18:40</td>\n",
       "      <td>2016-01-21 14:27:53</td>\n",
       "      <td>4</td>\n",
       "      <td>2441418.8</td>\n",
       "      <td>-73.952095</td>\n",
       "      <td>40.824539</td>\n",
       "      <td>1</td>\n",
       "      <td>N</td>\n",
       "      <td>-73.948524</td>\n",
       "      <td>40.827324</td>\n",
       "      <td>2</td>\n",
       "      <td>2.5</td>\n",
       "      <td>0.0</td>\n",
       "      <td>0.5</td>\n",
       "      <td>0.00</td>\n",
       "      <td>0.0</td>\n",
       "      <td>0.3</td>\n",
       "      <td>3.30</td>\n",
       "    </tr>\n",
       "  </tbody>\n",
       "</table>\n",
       "</div>"
      ],
      "text/plain": [
       "         VendorID tpep_pickup_datetime tpep_dropoff_datetime  passenger_count  \\\n",
       "1027151         1  2016-01-04 14:56:45   2016-01-04 15:27:47                1   \n",
       "1046137         1  2016-01-04 17:12:01   2016-01-04 17:27:36                1   \n",
       "1256517         1  2016-01-05 22:51:22   2016-01-05 22:51:35                1   \n",
       "1256744         1  2016-01-05 22:53:29   2016-01-05 22:53:49                1   \n",
       "2708971         1  2016-01-28 10:41:15   2016-01-28 11:03:53                1   \n",
       "2768776         1  2016-01-28 11:39:07   2016-01-28 11:41:29                2   \n",
       "8551614         1  2016-01-21 14:18:40   2016-01-21 14:27:53                4   \n",
       "\n",
       "         trip_distance  pickup_longitude  pickup_latitude  RatecodeID  \\\n",
       "1027151      8000010.0        -73.998978        40.734444           1   \n",
       "1046137       633008.3        -73.991150        40.739609           1   \n",
       "1256517      1403240.5        -73.945007        40.751808           1   \n",
       "1256744       281060.3        -73.945023        40.751831           1   \n",
       "2708971      4667468.7        -74.007156        40.734352           1   \n",
       "2768776      1653402.0        -73.945663        40.751747           1   \n",
       "8551614      2441418.8        -73.952095        40.824539           1   \n",
       "\n",
       "        store_and_fwd_flag  dropoff_longitude  dropoff_latitude  payment_type  \\\n",
       "1027151                  N         -73.939156         40.843288             2   \n",
       "1046137                  N         -73.992462         40.713997             2   \n",
       "1256517                  N         -73.944992         40.751827             3   \n",
       "1256744                  N         -73.945053         40.751842             3   \n",
       "2708971                  N         -74.007782         40.712494             1   \n",
       "2768776                  N         -73.945610         40.751617             2   \n",
       "8551614                  N         -73.948524         40.827324             2   \n",
       "\n",
       "         fare_amount  extra  mta_tax  tip_amount  tolls_amount  \\\n",
       "1027151         27.5    0.0      0.5        0.00           0.0   \n",
       "1046137          2.5    1.0      0.5        0.00           0.0   \n",
       "1256517          2.5    0.5      0.5        0.00           0.0   \n",
       "1256744          2.5    0.0      0.5        0.00           0.0   \n",
       "2708971         14.5    0.0      0.5        3.06           0.0   \n",
       "2768776          2.5    0.0      0.5        0.00           0.0   \n",
       "8551614          2.5    0.0      0.5        0.00           0.0   \n",
       "\n",
       "         improvement_surcharge  total_amount  \n",
       "1027151                    0.3         28.30  \n",
       "1046137                    0.3          4.30  \n",
       "1256517                    0.3          3.80  \n",
       "1256744                    0.3          3.30  \n",
       "2708971                    0.3         18.36  \n",
       "2768776                    0.3          3.30  \n",
       "8551614                    0.3          3.30  "
      ]
     },
     "execution_count": 24,
     "metadata": {},
     "output_type": "execute_result"
    }
   ],
   "source": [
    "# Checking for rows with distance more than 1000\n",
    "main_sample[main_sample['trip_distance'] > 1000]"
   ]
  },
  {
   "cell_type": "markdown",
   "id": "164123d9-0934-4893-bc44-9084760c4d5b",
   "metadata": {},
   "source": [
    "__`Passenger_count`__`The number of passengers in the vehicle. This is a driver-entered value.`\n",
    "\n",
    "0 passengers considered as mistake"
   ]
  },
  {
   "cell_type": "code",
   "execution_count": 25,
   "id": "175fa25a-89c9-4f91-9426-642d269aa03c",
   "metadata": {},
   "outputs": [
    {
     "data": {
      "text/plain": [
       "1    7726984\n",
       "2    1561977\n",
       "5     601079\n",
       "3     436431\n",
       "6     369155\n",
       "4     210641\n",
       "0        520\n",
       "8         26\n",
       "9         23\n",
       "7         22\n",
       "Name: passenger_count, dtype: int64"
      ]
     },
     "execution_count": 25,
     "metadata": {},
     "output_type": "execute_result"
    }
   ],
   "source": [
    "main_sample['passenger_count'].value_counts()"
   ]
  },
  {
   "cell_type": "markdown",
   "id": "937208f6-5ed2-4927-af4a-387c86d4f89d",
   "metadata": {},
   "source": [
    "__`VendorID`__`A code indicating the TPEP provider that provided the record.\n",
    "1. Creative Mobile Technologies\n",
    "2. VeriFone Inc."
   ]
  },
  {
   "cell_type": "code",
   "execution_count": 26,
   "id": "b30a9323-1323-463c-80e0-792a81fb021e",
   "metadata": {},
   "outputs": [
    {
     "data": {
      "text/plain": [
       "2    5835429\n",
       "1    5071429\n",
       "Name: VendorID, dtype: int64"
      ]
     },
     "execution_count": 26,
     "metadata": {},
     "output_type": "execute_result"
    }
   ],
   "source": [
    "main_sample['VendorID'].value_counts()"
   ]
  },
  {
   "cell_type": "code",
   "execution_count": 27,
   "id": "d4890af7-21a0-4c08-8b3d-16ae1ede247d",
   "metadata": {},
   "outputs": [
    {
     "data": {
      "image/png": "[encoded data removed]",
      "text/plain": [
       "<Figure size 640x480 with 1 Axes>"
      ]
     },
     "metadata": {},
     "output_type": "display_data"
    }
   ],
   "source": [
    "sns.countplot(data=main_sample, x='VendorID');\n",
    "plt.xticks([0,1], [])\n",
    "plt.show()"
   ]
  },
  {
   "cell_type": "markdown",
   "id": "82509a24-cd51-4a61-a7f0-bb2ce6ad1b9c",
   "metadata": {},
   "source": [
    "## 2: Data Analysis"
   ]
  },
  {
   "cell_type": "markdown",
   "id": "90dfb5f6-ab89-4aa1-ae2e-39b7cb0fe90d",
   "metadata": {},
   "source": [
    "### Data Preprocessing"
   ]
  },
  {
   "cell_type": "markdown",
   "id": "d32ea885-a1a8-48f1-a208-7ba298f770dd",
   "metadata": {},
   "source": [
    "It looks that there are some incorrect values in the dataset, so it needs to be cleaned and preprocessed for further analysis.\n",
    "\n",
    "There are several ways to deal with incorrect or missing values. One way, for example, is to impute or replace bad values by the most closely to truth.\n",
    "However, in this case I decided to drop trips where we have totally wrong numberic values, because one improper value led to the final `total_amount` mistake and also because among more that 10 mio trips we have just few rows with wrong data, so deleting them won't change the overall picture, but will definetely increase the accuracy of our analysis. Since each variable have values that is not according to the dataset description, I decided to shape the dataset as a real life taxi trip by creating some limitation to the trips which is shown in the list below.\n",
    "\n",
    "Steps to perform:\n",
    "1. Change all money-related negative values to non-negative by taking their absolute values\n",
    "2. Create `time_duration` column by subtracting dropoff time from pickup time\n",
    "3. Remove trips with a `time_duration` less than 3 min\n",
    "4. Remove trips where `fare_amount` is less than 3.5\n",
    "5. Remove trips where coordinates are outside the range coordinates for New York City \n",
    "`(-71.7517 - 79.7624) (40.4772 - 45.0153)`\n",
    "6. Remove trips where `trip_distance` is less than 1\n",
    "7. Remove trips where `improvement_surcharge` is not equal to 0.3 or 0\n",
    "8. Remove trips where `mta_tax` is not equal to 0 or .5\n",
    "9. Remove trips where `extra` is not equal to .5, 1 or 0\n",
    "10. Remove extremely high `Fare_amount` and `total_amount`\n",
    "11. Replace '99' in `RateCodeID` with the most frequently observed `1`\n",
    "12. Remove rows with extremely high values of `Tip_amount`, `Tolls_amount`, `fare_amount` and `Total_amount`\n",
    "13. Convert date columns to datetime format"
   ]
  },
  {
   "cell_type": "markdown",
   "id": "1a27440b-fbc5-4713-a6f8-2ed727ae358f",
   "metadata": {},
   "source": [
    "#### Negative to non-negative"
   ]
  },
  {
   "cell_type": "code",
   "execution_count": 28,
   "id": "80a0e4fb-8126-478b-bba0-8ffcfb01dca5",
   "metadata": {},
   "outputs": [
    {
     "data": {
      "text/plain": [
       "Index(['VendorID', 'tpep_pickup_datetime', 'tpep_dropoff_datetime',\n",
       "       'passenger_count', 'trip_distance', 'pickup_longitude',\n",
       "       'pickup_latitude', 'RatecodeID', 'store_and_fwd_flag',\n",
       "       'dropoff_longitude', 'dropoff_latitude', 'payment_type', 'fare_amount',\n",
       "       'extra', 'mta_tax', 'tip_amount', 'tolls_amount',\n",
       "       'improvement_surcharge', 'total_amount'],\n",
       "      dtype='object')"
      ]
     },
     "execution_count": 28,
     "metadata": {},
     "output_type": "execute_result"
    }
   ],
   "source": [
    "data = main_sample.copy()\n",
    "data.columns"
   ]
  },
  {
   "cell_type": "code",
   "execution_count": 29,
   "id": "f56c3aed",
   "metadata": {},
   "outputs": [
    {
     "data": {
      "text/plain": [
       "(10906858, 19)"
      ]
     },
     "execution_count": 29,
     "metadata": {},
     "output_type": "execute_result"
    }
   ],
   "source": [
    "data.shape"
   ]
  },
  {
   "cell_type": "code",
   "execution_count": 30,
   "id": "80f06f8e-6201-4da8-af0e-015832a285f4",
   "metadata": {},
   "outputs": [
    {
     "data": {
      "text/plain": [
       "Index(['fare_amount', 'extra', 'mta_tax', 'tip_amount', 'tolls_amount',\n",
       "       'improvement_surcharge', 'total_amount'],\n",
       "      dtype='object')"
      ]
     },
     "execution_count": 30,
     "metadata": {},
     "output_type": "execute_result"
    }
   ],
   "source": [
    "# take columns with money-related numerical values\n",
    "data.columns[-7:] "
   ]
  },
  {
   "cell_type": "code",
   "execution_count": 31,
   "id": "8b4e9408-6db0-4a82-9548-a8fd9f290892",
   "metadata": {},
   "outputs": [
    {
     "data": {
      "text/plain": [
       "fare_amount              4216\n",
       "extra                    2007\n",
       "mta_tax                  4062\n",
       "tip_amount                128\n",
       "tolls_amount               24\n",
       "improvement_surcharge    4202\n",
       "total_amount             4217\n",
       "dtype: int64"
      ]
     },
     "execution_count": 31,
     "metadata": {},
     "output_type": "execute_result"
    }
   ],
   "source": [
    "# show how much negative values we have there\n",
    "(data.loc[:, data.columns[-7:]] < 0).sum()"
   ]
  },
  {
   "cell_type": "code",
   "execution_count": 32,
   "id": "4d1d4702-dd9c-444e-91d4-31fe284bf451",
   "metadata": {},
   "outputs": [],
   "source": [
    "# take the absolute value of all our money-related values\n",
    "data.loc[:, data.columns[-7:]] = data.loc[:, data.columns[-7:]].abs()"
   ]
  },
  {
   "cell_type": "code",
   "execution_count": 33,
   "id": "1589e620-c43f-474d-af31-56d3c5e348dc",
   "metadata": {},
   "outputs": [
    {
     "data": {
      "text/plain": [
       "fare_amount              0\n",
       "extra                    0\n",
       "mta_tax                  0\n",
       "tip_amount               0\n",
       "tolls_amount             0\n",
       "improvement_surcharge    0\n",
       "total_amount             0\n",
       "dtype: int64"
      ]
     },
     "execution_count": 33,
     "metadata": {},
     "output_type": "execute_result"
    }
   ],
   "source": [
    "# now we don't have negatives\n",
    "(data.loc[:, data.columns[-7:]] < 0).sum()"
   ]
  },
  {
   "cell_type": "markdown",
   "id": "0e812bb6",
   "metadata": {},
   "source": [
    "#### Creating `time_duration`, and select rows with at least 3 minutes"
   ]
  },
  {
   "cell_type": "code",
   "execution_count": 34,
   "id": "e93ed982",
   "metadata": {},
   "outputs": [],
   "source": [
    "data['trip_duration'] = round((pd.to_datetime(data['tpep_dropoff_datetime']) - pd.to_datetime(data['tpep_pickup_datetime'])).dt.total_seconds() / 60, 2)"
   ]
  },
  {
   "cell_type": "code",
   "execution_count": 35,
   "id": "1d1c4552",
   "metadata": {},
   "outputs": [],
   "source": [
    "data = data[(data['trip_duration'] >= 3)]"
   ]
  },
  {
   "cell_type": "markdown",
   "id": "6912036b",
   "metadata": {},
   "source": [
    "#### `fare_amount` "
   ]
  },
  {
   "cell_type": "code",
   "execution_count": 36,
   "id": "33b615ff",
   "metadata": {},
   "outputs": [],
   "source": [
    "# we base the fare_amount to be at least 3 dollars\n",
    "data = data[(data['fare_amount'] >= 3)]"
   ]
  },
  {
   "cell_type": "markdown",
   "id": "53e04983",
   "metadata": {},
   "source": [
    "#### Selecting rows that are within the range of NYC coordinates"
   ]
  },
  {
   "cell_type": "code",
   "execution_count": 37,
   "id": "1aa7cbb8",
   "metadata": {},
   "outputs": [],
   "source": [
    "# we select pickup_longitude between -71.7517 and -79.7624 and pickup_latitude between 40.4772 and 45.0153\n",
    "data = data[(data['pickup_longitude'] >= -79.7624) & (data['pickup_longitude'] <= -71.7517) & (data['pickup_latitude'] >= 40.4772) & (data['pickup_latitude'] <= 45.0153)]"
   ]
  },
  {
   "cell_type": "markdown",
   "id": "86d0dc15",
   "metadata": {},
   "source": [
    "#### Selecting data with `payment_type 1 and 2` "
   ]
  },
  {
   "cell_type": "code",
   "execution_count": 38,
   "id": "e959a639",
   "metadata": {},
   "outputs": [],
   "source": [
    "data = data[(data['payment_type'] == 1) | (data['payment_type'] == 2)]"
   ]
  },
  {
   "cell_type": "markdown",
   "id": "7975b967",
   "metadata": {},
   "source": [
    "#### Remove trips where `trip_distance` is less than 1"
   ]
  },
  {
   "cell_type": "code",
   "execution_count": 39,
   "id": "c30e25fd",
   "metadata": {},
   "outputs": [],
   "source": [
    "# drop all the rows where \"trip_distance\" is < 1\n",
    "data = data[(data['trip_distance'] >= 1)]"
   ]
  },
  {
   "cell_type": "markdown",
   "id": "7c45335d-278e-4c27-8217-e85d89a81468",
   "metadata": {},
   "source": [
    "#### Remove trips with wrong `extra`, `mta_tax` and `improvement_surcharge` data"
   ]
  },
  {
   "cell_type": "code",
   "execution_count": 40,
   "id": "0006e775-12b5-46ce-80ef-9460f5388070",
   "metadata": {},
   "outputs": [
    {
     "data": {
      "text/plain": [
       "92"
      ]
     },
     "execution_count": 40,
     "metadata": {},
     "output_type": "execute_result"
    }
   ],
   "source": [
    "# there are only 92 rows with incorrect money values, so delete them\n",
    "data[(~data['improvement_surcharge'].isin([.3, 0])) |\n",
    "     (~data['mta_tax'].isin([.5, 0])) |\n",
    "     (~data['extra'].isin([.5, 1, 0]))].shape[0]"
   ]
  },
  {
   "cell_type": "code",
   "execution_count": 41,
   "id": "7d48fcd0-dc40-4c18-9bdb-5dffa80d7713",
   "metadata": {},
   "outputs": [],
   "source": [
    "# drop the rows with bad values\n",
    "data.drop(data[(~data['improvement_surcharge'].isin([.3, 0])) |\n",
    "               (~data['mta_tax'].isin([.5, 0])) |\n",
    "               (~data['extra'].isin([.5, 1, 0]))].index, inplace=True)"
   ]
  },
  {
   "cell_type": "code",
   "execution_count": 42,
   "id": "818ef759",
   "metadata": {},
   "outputs": [
    {
     "data": {
      "text/plain": [
       "(8087058, 20)"
      ]
     },
     "execution_count": 42,
     "metadata": {},
     "output_type": "execute_result"
    }
   ],
   "source": [
    "data.shape"
   ]
  },
  {
   "cell_type": "markdown",
   "id": "08b5493f-013d-46db-b235-bedf65de9970",
   "metadata": {
    "tags": []
   },
   "source": [
    "#### Replace '99' in `RateCodeID` to '1'"
   ]
  },
  {
   "cell_type": "code",
   "execution_count": 43,
   "id": "18e41937-d2ed-405e-b011-ea1482877675",
   "metadata": {},
   "outputs": [
    {
     "data": {
      "text/plain": [
       "57"
      ]
     },
     "execution_count": 43,
     "metadata": {},
     "output_type": "execute_result"
    }
   ],
   "source": [
    "# number of rows where 'RatecodeID' is 99 before \n",
    "data[data['RatecodeID'] == 99].shape[0]"
   ]
  },
  {
   "cell_type": "code",
   "execution_count": 44,
   "id": "9f2fabab-f843-4eb9-a496-bf28949bc392",
   "metadata": {},
   "outputs": [],
   "source": [
    "# replacing '99' with '1', keeping other untouched \n",
    "data['RatecodeID'] = np.where(data['RatecodeID'] == 99, 1, data['RatecodeID'])"
   ]
  },
  {
   "cell_type": "code",
   "execution_count": 45,
   "id": "c92348ac-ef87-448c-9131-6a7d7d86245c",
   "metadata": {},
   "outputs": [
    {
     "data": {
      "text/plain": [
       "0"
      ]
     },
     "execution_count": 45,
     "metadata": {},
     "output_type": "execute_result"
    }
   ],
   "source": [
    "# number of rows where 'RatecodeID' is 99 after\n",
    "data[data['RatecodeID'] == 99].shape[0]"
   ]
  },
  {
   "cell_type": "markdown",
   "id": "e1c514a3-97c9-4a45-a912-1ff6448510b3",
   "metadata": {
    "tags": []
   },
   "source": [
    "#### Dealing with `Tip_amount`, `Tolls_amount`, `fare_amount` and `Total_amount`"
   ]
  },
  {
   "cell_type": "markdown",
   "id": "2770e885-082e-4091-8bd9-b7ec011e1e00",
   "metadata": {},
   "source": [
    "We have some outlier values in these columns. However, we don't know if all of them wrong or not.\n",
    "\n",
    "I would propose to keep all of the high values, except top 2 of `total_amount` and `fare_amount`, for __Talk A__.\n",
    "\n",
    "For __Task B__ we'll probably remove the outliers in order to increase the model accuracy."
   ]
  },
  {
   "cell_type": "code",
   "execution_count": 46,
   "id": "8c654ca0",
   "metadata": {},
   "outputs": [],
   "source": [
    "# removing all the rows where tip_amount is < 0\n",
    "data = data[(data['tip_amount'] >= 0)]"
   ]
  },
  {
   "cell_type": "code",
   "execution_count": 47,
   "id": "8ae79c72",
   "metadata": {},
   "outputs": [
    {
     "data": {
      "text/html": [
       "<div>\n",
       "<style scoped>\n",
       "    .dataframe tbody tr th:only-of-type {\n",
       "        vertical-align: middle;\n",
       "    }\n",
       "\n",
       "    .dataframe tbody tr th {\n",
       "        vertical-align: top;\n",
       "    }\n",
       "\n",
       "    .dataframe thead th {\n",
       "        text-align: right;\n",
       "    }\n",
       "</style>\n",
       "<table border=\"1\" class=\"dataframe\">\n",
       "  <thead>\n",
       "    <tr style=\"text-align: right;\">\n",
       "      <th></th>\n",
       "      <th>count</th>\n",
       "      <th>mean</th>\n",
       "      <th>std</th>\n",
       "      <th>min</th>\n",
       "      <th>50%</th>\n",
       "      <th>75%</th>\n",
       "      <th>99.99%</th>\n",
       "      <th>max</th>\n",
       "    </tr>\n",
       "  </thead>\n",
       "  <tbody>\n",
       "    <tr>\n",
       "      <th>tip_amount</th>\n",
       "      <td>8087058.0</td>\n",
       "      <td>2.051603</td>\n",
       "      <td>2.666144</td>\n",
       "      <td>0.0</td>\n",
       "      <td>1.66</td>\n",
       "      <td>2.75</td>\n",
       "      <td>41.662943</td>\n",
       "      <td>998.14</td>\n",
       "    </tr>\n",
       "    <tr>\n",
       "      <th>tolls_amount</th>\n",
       "      <td>8087058.0</td>\n",
       "      <td>0.379909</td>\n",
       "      <td>1.692777</td>\n",
       "      <td>0.0</td>\n",
       "      <td>0.00</td>\n",
       "      <td>0.00</td>\n",
       "      <td>22.171772</td>\n",
       "      <td>923.58</td>\n",
       "    </tr>\n",
       "    <tr>\n",
       "      <th>fare_amount</th>\n",
       "      <td>8087058.0</td>\n",
       "      <td>14.614514</td>\n",
       "      <td>10.985404</td>\n",
       "      <td>3.0</td>\n",
       "      <td>11.00</td>\n",
       "      <td>16.50</td>\n",
       "      <td>165.000000</td>\n",
       "      <td>926.00</td>\n",
       "    </tr>\n",
       "    <tr>\n",
       "      <th>total_amount</th>\n",
       "      <td>8087058.0</td>\n",
       "      <td>18.162508</td>\n",
       "      <td>13.705918</td>\n",
       "      <td>3.3</td>\n",
       "      <td>13.56</td>\n",
       "      <td>19.80</td>\n",
       "      <td>197.729430</td>\n",
       "      <td>1212.04</td>\n",
       "    </tr>\n",
       "  </tbody>\n",
       "</table>\n",
       "</div>"
      ],
      "text/plain": [
       "                  count       mean        std  min    50%    75%      99.99%  \\\n",
       "tip_amount    8087058.0   2.051603   2.666144  0.0   1.66   2.75   41.662943   \n",
       "tolls_amount  8087058.0   0.379909   1.692777  0.0   0.00   0.00   22.171772   \n",
       "fare_amount   8087058.0  14.614514  10.985404  3.0  11.00  16.50  165.000000   \n",
       "total_amount  8087058.0  18.162508  13.705918  3.3  13.56  19.80  197.729430   \n",
       "\n",
       "                  max  \n",
       "tip_amount     998.14  \n",
       "tolls_amount   923.58  \n",
       "fare_amount    926.00  \n",
       "total_amount  1212.04  "
      ]
     },
     "execution_count": 47,
     "metadata": {},
     "output_type": "execute_result"
    }
   ],
   "source": [
    "data[['tip_amount', 'tolls_amount', 'fare_amount', 'total_amount']].describe(percentiles=[.5, .75, .9999]).T"
   ]
  },
  {
   "cell_type": "code",
   "execution_count": 48,
   "id": "781acdba-28fb-4ba9-96dc-5d672d63b980",
   "metadata": {},
   "outputs": [
    {
     "data": {
      "image/png": "[encoded data removed]",
      "text/plain": [
       "<Figure size 2000x400 with 4 Axes>"
      ]
     },
     "metadata": {},
     "output_type": "display_data"
    }
   ],
   "source": [
    "fig, axs = plt.subplots(4, 1, figsize=(20, 4))\n",
    "sns.boxplot(data=data, x='total_amount', ax=axs[0])\n",
    "sns.boxplot(data=data, x='fare_amount', ax=axs[1])\n",
    "sns.boxplot(data=data, x='tip_amount', ax=axs[2])\n",
    "sns.boxplot(data=data, x='tolls_amount', ax=axs[3])\n",
    "plt.tight_layout()\n",
    "plt.show()"
   ]
  },
  {
   "cell_type": "code",
   "execution_count": 49,
   "id": "188525b4",
   "metadata": {},
   "outputs": [
    {
     "data": {
      "text/plain": [
       "(8087058, 20)"
      ]
     },
     "execution_count": 49,
     "metadata": {},
     "output_type": "execute_result"
    }
   ],
   "source": [
    "data.shape"
   ]
  },
  {
   "cell_type": "markdown",
   "id": "c56231f9-1f53-4e6e-ab89-71081a0af1be",
   "metadata": {
    "tags": []
   },
   "source": [
    "#### Convert date columns to datetime format"
   ]
  },
  {
   "cell_type": "code",
   "execution_count": 50,
   "id": "fed93d70-1cd9-4ad4-8eeb-65e156404dc2",
   "metadata": {},
   "outputs": [],
   "source": [
    "data['tpep_pickup_datetime'] = pd.to_datetime(data['tpep_pickup_datetime'])\n",
    "data['tpep_dropoff_datetime'] = pd.to_datetime(data['tpep_dropoff_datetime'])"
   ]
  },
  {
   "cell_type": "code",
   "execution_count": 51,
   "id": "5bb06057-b2f0-46b2-9196-a68f4cc4cece",
   "metadata": {},
   "outputs": [
    {
     "data": {
      "text/plain": [
       "VendorID                          int64\n",
       "tpep_pickup_datetime     datetime64[ns]\n",
       "tpep_dropoff_datetime    datetime64[ns]\n",
       "passenger_count                   int64\n",
       "trip_distance                   float64\n",
       "pickup_longitude                float64\n",
       "pickup_latitude                 float64\n",
       "RatecodeID                        int64\n",
       "store_and_fwd_flag               object\n",
       "dropoff_longitude               float64\n",
       "dropoff_latitude                float64\n",
       "payment_type                      int64\n",
       "fare_amount                     float64\n",
       "extra                           float64\n",
       "mta_tax                         float64\n",
       "tip_amount                      float64\n",
       "tolls_amount                    float64\n",
       "improvement_surcharge           float64\n",
       "total_amount                    float64\n",
       "trip_duration                   float64\n",
       "dtype: object"
      ]
     },
     "execution_count": 51,
     "metadata": {},
     "output_type": "execute_result"
    }
   ],
   "source": [
    "data.dtypes"
   ]
  },
  {
   "cell_type": "markdown",
   "id": "1524852a-5e1c-4d92-af29-028f0d56d0aa",
   "metadata": {},
   "source": [
    "### Task A\n",
    "\n",
    "For this task we'll need to work with datetime and total amount data from the preprocessed dataset, called data_a.\n",
    "\n",
    "A target datetime column will be `tpep_pickup_datetime`. I will calculate daily and hourly trends based on the time of the taxi trip start.\n",
    "\n",
    "Also, I will create temporary additional columns to answer the questions."
   ]
  },
  {
   "cell_type": "code",
   "execution_count": 52,
   "id": "e7243e3a-8471-42db-bf10-5908a6904eb1",
   "metadata": {},
   "outputs": [],
   "source": [
    "# take only 2 needed columns from the cleaned dataset\n",
    "data_a = data[['tpep_pickup_datetime', 'total_amount']].copy()"
   ]
  },
  {
   "cell_type": "code",
   "execution_count": 53,
   "id": "4335763e-9e05-43b3-bd18-5ad80a097b54",
   "metadata": {},
   "outputs": [
    {
     "data": {
      "text/html": [
       "<div>\n",
       "<style scoped>\n",
       "    .dataframe tbody tr th:only-of-type {\n",
       "        vertical-align: middle;\n",
       "    }\n",
       "\n",
       "    .dataframe tbody tr th {\n",
       "        vertical-align: top;\n",
       "    }\n",
       "\n",
       "    .dataframe thead th {\n",
       "        text-align: right;\n",
       "    }\n",
       "</style>\n",
       "<table border=\"1\" class=\"dataframe\">\n",
       "  <thead>\n",
       "    <tr style=\"text-align: right;\">\n",
       "      <th></th>\n",
       "      <th>tpep_pickup_datetime</th>\n",
       "      <th>total_amount</th>\n",
       "      <th>day_time</th>\n",
       "      <th>day_name</th>\n",
       "    </tr>\n",
       "  </thead>\n",
       "  <tbody>\n",
       "    <tr>\n",
       "      <th>5</th>\n",
       "      <td>2016-01-01 00:00:00</td>\n",
       "      <td>20.30</td>\n",
       "      <td>night</td>\n",
       "      <td>Friday</td>\n",
       "    </tr>\n",
       "    <tr>\n",
       "      <th>6</th>\n",
       "      <td>2016-01-01 00:00:00</td>\n",
       "      <td>27.30</td>\n",
       "      <td>night</td>\n",
       "      <td>Friday</td>\n",
       "    </tr>\n",
       "    <tr>\n",
       "      <th>7</th>\n",
       "      <td>2016-01-01 00:00:01</td>\n",
       "      <td>10.30</td>\n",
       "      <td>night</td>\n",
       "      <td>Friday</td>\n",
       "    </tr>\n",
       "    <tr>\n",
       "      <th>8</th>\n",
       "      <td>2016-01-01 00:00:02</td>\n",
       "      <td>19.30</td>\n",
       "      <td>night</td>\n",
       "      <td>Friday</td>\n",
       "    </tr>\n",
       "    <tr>\n",
       "      <th>9</th>\n",
       "      <td>2016-01-01 00:00:02</td>\n",
       "      <td>12.80</td>\n",
       "      <td>night</td>\n",
       "      <td>Friday</td>\n",
       "    </tr>\n",
       "    <tr>\n",
       "      <th>...</th>\n",
       "      <td>...</td>\n",
       "      <td>...</td>\n",
       "      <td>...</td>\n",
       "      <td>...</td>\n",
       "    </tr>\n",
       "    <tr>\n",
       "      <th>10906851</th>\n",
       "      <td>2016-01-31 22:53:00</td>\n",
       "      <td>9.30</td>\n",
       "      <td>evening</td>\n",
       "      <td>Sunday</td>\n",
       "    </tr>\n",
       "    <tr>\n",
       "      <th>10906852</th>\n",
       "      <td>2016-01-31 23:00:11</td>\n",
       "      <td>13.30</td>\n",
       "      <td>evening</td>\n",
       "      <td>Sunday</td>\n",
       "    </tr>\n",
       "    <tr>\n",
       "      <th>10906853</th>\n",
       "      <td>2016-01-31 23:30:32</td>\n",
       "      <td>9.80</td>\n",
       "      <td>evening</td>\n",
       "      <td>Sunday</td>\n",
       "    </tr>\n",
       "    <tr>\n",
       "      <th>10906855</th>\n",
       "      <td>2016-01-05 06:12:46</td>\n",
       "      <td>8.80</td>\n",
       "      <td>morning</td>\n",
       "      <td>Tuesday</td>\n",
       "    </tr>\n",
       "    <tr>\n",
       "      <th>10906856</th>\n",
       "      <td>2016-01-05 06:21:44</td>\n",
       "      <td>14.75</td>\n",
       "      <td>morning</td>\n",
       "      <td>Tuesday</td>\n",
       "    </tr>\n",
       "  </tbody>\n",
       "</table>\n",
       "<p>8087058 rows × 4 columns</p>\n",
       "</div>"
      ],
      "text/plain": [
       "         tpep_pickup_datetime  total_amount day_time day_name\n",
       "5         2016-01-01 00:00:00         20.30    night   Friday\n",
       "6         2016-01-01 00:00:00         27.30    night   Friday\n",
       "7         2016-01-01 00:00:01         10.30    night   Friday\n",
       "8         2016-01-01 00:00:02         19.30    night   Friday\n",
       "9         2016-01-01 00:00:02         12.80    night   Friday\n",
       "...                       ...           ...      ...      ...\n",
       "10906851  2016-01-31 22:53:00          9.30  evening   Sunday\n",
       "10906852  2016-01-31 23:00:11         13.30  evening   Sunday\n",
       "10906853  2016-01-31 23:30:32          9.80  evening   Sunday\n",
       "10906855  2016-01-05 06:12:46          8.80  morning  Tuesday\n",
       "10906856  2016-01-05 06:21:44         14.75  morning  Tuesday\n",
       "\n",
       "[8087058 rows x 4 columns]"
      ]
     },
     "execution_count": 53,
     "metadata": {},
     "output_type": "execute_result"
    }
   ],
   "source": [
    "# create additional columns for Task A.ii and Task A.iii\n",
    "# morning: 06:00 - 11:59\n",
    "# afternoon: 12:00-17:59\n",
    "# evening: 18:00-23:59\n",
    "# night: 00:00-05:59\n",
    "data_a['day_time'] = 'NA'\n",
    "data_a['day_time'] = np.where(data_a['tpep_pickup_datetime'].dt.hour.isin(np.arange(6, 12, 1)), 'morning', data_a['day_time'])\n",
    "data_a['day_time'] = np.where(data_a['tpep_pickup_datetime'].dt.hour.isin(np.arange(12, 18, 1)), 'afternoon', data_a['day_time'])\n",
    "data_a['day_time'] = np.where(data_a['tpep_pickup_datetime'].dt.hour.isin(np.arange(18, 24, 1)), 'evening', data_a['day_time'])\n",
    "data_a['day_time'] = np.where(data_a['tpep_pickup_datetime'].dt.hour.isin(np.arange(0, 6, 1)), 'night', data_a['day_time'])\n",
    "\n",
    "# day names\n",
    "data_a['day_name'] = data_a['tpep_pickup_datetime'].dt.day_name()\n",
    "\n",
    "data_a"
   ]
  },
  {
   "cell_type": "markdown",
   "id": "3f4d15ef-3b6d-4102-8f24-979b5e195ae0",
   "metadata": {},
   "source": [
    "#### Task A.i\n",
    "\n",
    "What is the average demand for the taxis in the days of the week (i.e., daily trend). Which of the days has the highest and which lowest demand?"
   ]
  },
  {
   "cell_type": "code",
   "execution_count": 54,
   "id": "d0ba67d9-801b-4ed4-953f-47b7b4e3ee2d",
   "metadata": {},
   "outputs": [
    {
     "data": {
      "text/html": [
       "<div>\n",
       "<style scoped>\n",
       "    .dataframe tbody tr th:only-of-type {\n",
       "        vertical-align: middle;\n",
       "    }\n",
       "\n",
       "    .dataframe tbody tr th {\n",
       "        vertical-align: top;\n",
       "    }\n",
       "\n",
       "    .dataframe thead th {\n",
       "        text-align: right;\n",
       "    }\n",
       "</style>\n",
       "<table border=\"1\" class=\"dataframe\">\n",
       "  <thead>\n",
       "    <tr style=\"text-align: right;\">\n",
       "      <th></th>\n",
       "      <th>avg_demand</th>\n",
       "    </tr>\n",
       "    <tr>\n",
       "      <th>weekday</th>\n",
       "      <th></th>\n",
       "    </tr>\n",
       "  </thead>\n",
       "  <tbody>\n",
       "    <tr>\n",
       "      <th>0</th>\n",
       "      <td>0.115688</td>\n",
       "    </tr>\n",
       "    <tr>\n",
       "      <th>1</th>\n",
       "      <td>0.127905</td>\n",
       "    </tr>\n",
       "    <tr>\n",
       "      <th>2</th>\n",
       "      <td>0.134036</td>\n",
       "    </tr>\n",
       "    <tr>\n",
       "      <th>3</th>\n",
       "      <td>0.140346</td>\n",
       "    </tr>\n",
       "    <tr>\n",
       "      <th>4</th>\n",
       "      <td>0.180809</td>\n",
       "    </tr>\n",
       "    <tr>\n",
       "      <th>5</th>\n",
       "      <td>0.153640</td>\n",
       "    </tr>\n",
       "    <tr>\n",
       "      <th>6</th>\n",
       "      <td>0.147575</td>\n",
       "    </tr>\n",
       "  </tbody>\n",
       "</table>\n",
       "</div>"
      ],
      "text/plain": [
       "         avg_demand\n",
       "weekday            \n",
       "0          0.115688\n",
       "1          0.127905\n",
       "2          0.134036\n",
       "3          0.140346\n",
       "4          0.180809\n",
       "5          0.153640\n",
       "6          0.147575"
      ]
     },
     "execution_count": 54,
     "metadata": {},
     "output_type": "execute_result"
    }
   ],
   "source": [
    "daily_demand = data_a[['tpep_pickup_datetime']].groupby(data_a['tpep_pickup_datetime'].dt.weekday).count().rename(columns={'tpep_pickup_datetime':'avg_demand'})\n",
    "daily_demand.index.rename('weekday', inplace=True)\n",
    "daily_demand['avg_demand'] = daily_demand['avg_demand']/data.shape[0]\n",
    "daily_demand"
   ]
  },
  {
   "cell_type": "code",
   "execution_count": 55,
   "id": "83fcd0fa-0ace-448d-9364-f83c2f7d1b34",
   "metadata": {},
   "outputs": [
    {
     "data": {
      "image/png": "[encoded data removed]",
      "text/plain": [
       "<Figure size 800x400 with 1 Axes>"
      ]
     },
     "metadata": {},
     "output_type": "display_data"
    }
   ],
   "source": [
    "plt.figure(figsize=(8, 4))\n",
    "sns.lineplot(data=daily_demand)\n",
    "plt.xticks(np.arange(7), ['Monday', 'Tuesday', 'Wednesday', 'Thursday', 'Friday', 'Saturday', 'Sunday'])\n",
    "plt.grid()\n",
    "plt.show()"
   ]
  },
  {
   "cell_type": "markdown",
   "id": "bcdddb9e-54ea-455b-b5d5-23f5474dbb6c",
   "metadata": {},
   "source": [
    "Top demand day is Friday and lowest demand day is Monday"
   ]
  },
  {
   "cell_type": "markdown",
   "id": "71ad3469-a89e-40be-9aa4-be99a90605da",
   "metadata": {},
   "source": [
    "#### Task A.ii\n",
    "\n",
    "Which time of the day (morning, afternoon, evening, and night) is likely be a peak period for the taxi’s operation from the data?"
   ]
  },
  {
   "cell_type": "code",
   "execution_count": 56,
   "id": "58b7a730-3cf4-4968-9609-a63aa1de9a53",
   "metadata": {},
   "outputs": [
    {
     "data": {
      "text/html": [
       "<div>\n",
       "<style scoped>\n",
       "    .dataframe tbody tr th:only-of-type {\n",
       "        vertical-align: middle;\n",
       "    }\n",
       "\n",
       "    .dataframe tbody tr th {\n",
       "        vertical-align: top;\n",
       "    }\n",
       "\n",
       "    .dataframe thead th {\n",
       "        text-align: right;\n",
       "    }\n",
       "</style>\n",
       "<table border=\"1\" class=\"dataframe\">\n",
       "  <thead>\n",
       "    <tr style=\"text-align: right;\">\n",
       "      <th></th>\n",
       "      <th>demand</th>\n",
       "    </tr>\n",
       "    <tr>\n",
       "      <th>day_time</th>\n",
       "      <th></th>\n",
       "    </tr>\n",
       "  </thead>\n",
       "  <tbody>\n",
       "    <tr>\n",
       "      <th>afternoon</th>\n",
       "      <td>2358825</td>\n",
       "    </tr>\n",
       "    <tr>\n",
       "      <th>evening</th>\n",
       "      <td>2804546</td>\n",
       "    </tr>\n",
       "    <tr>\n",
       "      <th>morning</th>\n",
       "      <td>1867904</td>\n",
       "    </tr>\n",
       "    <tr>\n",
       "      <th>night</th>\n",
       "      <td>1055783</td>\n",
       "    </tr>\n",
       "  </tbody>\n",
       "</table>\n",
       "</div>"
      ],
      "text/plain": [
       "            demand\n",
       "day_time          \n",
       "afternoon  2358825\n",
       "evening    2804546\n",
       "morning    1867904\n",
       "night      1055783"
      ]
     },
     "execution_count": 56,
     "metadata": {},
     "output_type": "execute_result"
    }
   ],
   "source": [
    "hourly_demand = data_a.groupby(data_a['day_time']).tpep_pickup_datetime.count().to_frame()\n",
    "hourly_demand = hourly_demand.rename(columns={'tpep_pickup_datetime':'demand'})\n",
    "hourly_demand"
   ]
  },
  {
   "cell_type": "code",
   "execution_count": 57,
   "id": "9cb3a452-e806-47f7-92ee-db749fd61d43",
   "metadata": {},
   "outputs": [
    {
     "data": {
      "image/png": "[encoded data removed]",
      "text/plain": [
       "<Figure size 800x400 with 1 Axes>"
      ]
     },
     "metadata": {},
     "output_type": "display_data"
    }
   ],
   "source": [
    "plt.figure(figsize=(8, 4))\n",
    "sns.lineplot(data=hourly_demand)\n",
    "plt.grid()\n",
    "plt.show()"
   ]
  },
  {
   "cell_type": "markdown",
   "id": "72a15a40-a2ff-4f54-9b25-644c908ebfce",
   "metadata": {},
   "source": [
    "Evening is the peak part of the day in terms of taxi demand "
   ]
  },
  {
   "cell_type": "markdown",
   "id": "36ff0d17-5665-4e82-aab0-3e106060c5f6",
   "metadata": {},
   "source": [
    "#### Task A.iii\n",
    "\n",
    "On average, how much revenue was generated in the weekdays and weekends for the business for the period covered in the dataset?"
   ]
  },
  {
   "cell_type": "code",
   "execution_count": 58,
   "id": "9628de59-8a3a-491b-b21c-debb3140374f",
   "metadata": {},
   "outputs": [],
   "source": [
    "data_a['working_weekend'] = np.where(data_a.tpep_pickup_datetime.dt.weekday.isin(np.arange(5)), 'weekday', 'weekend')"
   ]
  },
  {
   "cell_type": "code",
   "execution_count": 59,
   "id": "9a63a604-49be-45ff-a49e-5bd461067cce",
   "metadata": {},
   "outputs": [
    {
     "data": {
      "text/plain": [
       "weekday    5651111\n",
       "weekend    2435947\n",
       "Name: working_weekend, dtype: int64"
      ]
     },
     "execution_count": 59,
     "metadata": {},
     "output_type": "execute_result"
    }
   ],
   "source": [
    "data_a.working_weekend.value_counts()"
   ]
  },
  {
   "cell_type": "code",
   "execution_count": 60,
   "id": "976138bd-6d11-4107-a494-01d460bf5b80",
   "metadata": {},
   "outputs": [
    {
     "data": {
      "text/html": [
       "<div>\n",
       "<style scoped>\n",
       "    .dataframe tbody tr th:only-of-type {\n",
       "        vertical-align: middle;\n",
       "    }\n",
       "\n",
       "    .dataframe tbody tr th {\n",
       "        vertical-align: top;\n",
       "    }\n",
       "\n",
       "    .dataframe thead th {\n",
       "        text-align: right;\n",
       "    }\n",
       "</style>\n",
       "<table border=\"1\" class=\"dataframe\">\n",
       "  <thead>\n",
       "    <tr style=\"text-align: right;\">\n",
       "      <th></th>\n",
       "      <th>average_revenue</th>\n",
       "    </tr>\n",
       "    <tr>\n",
       "      <th>working_weekend</th>\n",
       "      <th></th>\n",
       "    </tr>\n",
       "  </thead>\n",
       "  <tbody>\n",
       "    <tr>\n",
       "      <th>weekday</th>\n",
       "      <td>18.543618</td>\n",
       "    </tr>\n",
       "    <tr>\n",
       "      <th>weekend</th>\n",
       "      <td>17.278377</td>\n",
       "    </tr>\n",
       "  </tbody>\n",
       "</table>\n",
       "</div>"
      ],
      "text/plain": [
       "                 average_revenue\n",
       "working_weekend                 \n",
       "weekday                18.543618\n",
       "weekend                17.278377"
      ]
     },
     "execution_count": 60,
     "metadata": {},
     "output_type": "execute_result"
    }
   ],
   "source": [
    "data_a.groupby('working_weekend').mean().rename(columns={'total_amount':'average_revenue'})"
   ]
  },
  {
   "cell_type": "code",
   "execution_count": 61,
   "id": "9a55ecfc-d522-4dc1-894d-244dbf791e6c",
   "metadata": {},
   "outputs": [
    {
     "data": {
      "text/html": [
       "<div>\n",
       "<style scoped>\n",
       "    .dataframe tbody tr th:only-of-type {\n",
       "        vertical-align: middle;\n",
       "    }\n",
       "\n",
       "    .dataframe tbody tr th {\n",
       "        vertical-align: top;\n",
       "    }\n",
       "\n",
       "    .dataframe thead th {\n",
       "        text-align: right;\n",
       "    }\n",
       "</style>\n",
       "<table border=\"1\" class=\"dataframe\">\n",
       "  <thead>\n",
       "    <tr style=\"text-align: right;\">\n",
       "      <th></th>\n",
       "      <th>average_revenue</th>\n",
       "    </tr>\n",
       "    <tr>\n",
       "      <th>day_name</th>\n",
       "      <th></th>\n",
       "    </tr>\n",
       "  </thead>\n",
       "  <tbody>\n",
       "    <tr>\n",
       "      <th>Friday</th>\n",
       "      <td>18.196327</td>\n",
       "    </tr>\n",
       "    <tr>\n",
       "      <th>Monday</th>\n",
       "      <td>18.870004</td>\n",
       "    </tr>\n",
       "    <tr>\n",
       "      <th>Saturday</th>\n",
       "      <td>16.903955</td>\n",
       "    </tr>\n",
       "    <tr>\n",
       "      <th>Sunday</th>\n",
       "      <td>17.668185</td>\n",
       "    </tr>\n",
       "    <tr>\n",
       "      <th>Thursday</th>\n",
       "      <td>18.621527</td>\n",
       "    </tr>\n",
       "    <tr>\n",
       "      <th>Tuesday</th>\n",
       "      <td>18.770447</td>\n",
       "    </tr>\n",
       "    <tr>\n",
       "      <th>Wednesday</th>\n",
       "      <td>18.432362</td>\n",
       "    </tr>\n",
       "  </tbody>\n",
       "</table>\n",
       "</div>"
      ],
      "text/plain": [
       "           average_revenue\n",
       "day_name                  \n",
       "Friday           18.196327\n",
       "Monday           18.870004\n",
       "Saturday         16.903955\n",
       "Sunday           17.668185\n",
       "Thursday         18.621527\n",
       "Tuesday          18.770447\n",
       "Wednesday        18.432362"
      ]
     },
     "execution_count": 61,
     "metadata": {},
     "output_type": "execute_result"
    }
   ],
   "source": [
    "data_a.groupby('day_name').mean().rename(columns={'total_amount':'average_revenue'})"
   ]
  },
  {
   "cell_type": "code",
   "execution_count": 62,
   "id": "c17754c9-f8be-4dbf-b1f5-906167ca2f5e",
   "metadata": {},
   "outputs": [
    {
     "data": {
      "image/png": "[encoded data removed]",
      "text/plain": [
       "<Figure size 1000x400 with 1 Axes>"
      ]
     },
     "metadata": {},
     "output_type": "display_data"
    }
   ],
   "source": [
    "# plot the average revenue for two groups of days - weekdays and weekends\n",
    "plt.figure(figsize=(10, 4))\n",
    "sns.barplot(data=data_a, x='working_weekend', y='total_amount', ci=None);"
   ]
  },
  {
   "cell_type": "code",
   "execution_count": 63,
   "id": "8ddc6062-7921-4d84-ae61-f853c0ad9a79",
   "metadata": {},
   "outputs": [
    {
     "data": {
      "text/html": [
       "<div>\n",
       "<style scoped>\n",
       "    .dataframe tbody tr th:only-of-type {\n",
       "        vertical-align: middle;\n",
       "    }\n",
       "\n",
       "    .dataframe tbody tr th {\n",
       "        vertical-align: top;\n",
       "    }\n",
       "\n",
       "    .dataframe thead th {\n",
       "        text-align: right;\n",
       "    }\n",
       "</style>\n",
       "<table border=\"1\" class=\"dataframe\">\n",
       "  <thead>\n",
       "    <tr style=\"text-align: right;\">\n",
       "      <th></th>\n",
       "      <th>total_amount</th>\n",
       "    </tr>\n",
       "    <tr>\n",
       "      <th>day_name</th>\n",
       "      <th></th>\n",
       "    </tr>\n",
       "  </thead>\n",
       "  <tbody>\n",
       "    <tr>\n",
       "      <th>Friday</th>\n",
       "      <td>18.196327</td>\n",
       "    </tr>\n",
       "    <tr>\n",
       "      <th>Monday</th>\n",
       "      <td>18.870004</td>\n",
       "    </tr>\n",
       "    <tr>\n",
       "      <th>Saturday</th>\n",
       "      <td>16.903955</td>\n",
       "    </tr>\n",
       "    <tr>\n",
       "      <th>Sunday</th>\n",
       "      <td>17.668185</td>\n",
       "    </tr>\n",
       "    <tr>\n",
       "      <th>Thursday</th>\n",
       "      <td>18.621527</td>\n",
       "    </tr>\n",
       "    <tr>\n",
       "      <th>Tuesday</th>\n",
       "      <td>18.770447</td>\n",
       "    </tr>\n",
       "    <tr>\n",
       "      <th>Wednesday</th>\n",
       "      <td>18.432362</td>\n",
       "    </tr>\n",
       "  </tbody>\n",
       "</table>\n",
       "</div>"
      ],
      "text/plain": [
       "           total_amount\n",
       "day_name               \n",
       "Friday        18.196327\n",
       "Monday        18.870004\n",
       "Saturday      16.903955\n",
       "Sunday        17.668185\n",
       "Thursday      18.621527\n",
       "Tuesday       18.770447\n",
       "Wednesday     18.432362"
      ]
     },
     "execution_count": 63,
     "metadata": {},
     "output_type": "execute_result"
    }
   ],
   "source": [
    "data_a.groupby('day_name').mean()"
   ]
  },
  {
   "cell_type": "code",
   "execution_count": 64,
   "id": "85b7dd69-7595-4e3f-8c8a-3d3a0c192b3a",
   "metadata": {},
   "outputs": [
    {
     "data": {
      "image/png": "[encoded data removed]",
      "text/plain": [
       "<Figure size 1000x400 with 1 Axes>"
      ]
     },
     "metadata": {},
     "output_type": "display_data"
    }
   ],
   "source": [
    "# plot the average revenue for day name \n",
    "plt.figure(figsize=(10, 4))\n",
    "sns.barplot(data=data_a, x='day_name', y='total_amount', ci=None);"
   ]
  },
  {
   "cell_type": "markdown",
   "id": "767bb3e5-6d0b-46fc-8bfc-2e32b0e9a86d",
   "metadata": {},
   "source": [
    "## 3: Regression Analysis"
   ]
  },
  {
   "cell_type": "markdown",
   "id": "a19e3543-7fe4-4b32-adea-b93e0069d9c6",
   "metadata": {},
   "source": [
    "### Task B"
   ]
  },
  {
   "cell_type": "markdown",
   "id": "3492fcae-a1ca-4c1c-b583-c5fa3422a7c2",
   "metadata": {},
   "source": [
    "First of all, in order to have max accurate prediction model I will remove all outliers from the data. Those values are not necessarily the mistakes. That's why I didn't remove them before analyzing weekly/daily patterns. But those outliers can badly influence on the prediction model performance, so I remove them now."
   ]
  },
  {
   "cell_type": "markdown",
   "id": "59537d45-9526-41e3-94a2-4cdbc543acf0",
   "metadata": {},
   "source": [
    "1. `passenger_count` - Number of passengers. 7,8,9 are rare enough to not count them. 0 passengers is meaningless."
   ]
  },
  {
   "cell_type": "code",
   "execution_count": 65,
   "id": "7278b418-0347-4235-9ca2-fa6711d213db",
   "metadata": {},
   "outputs": [
    {
     "data": {
      "text/plain": [
       "1    5684947\n",
       "2    1183285\n",
       "5     452395\n",
       "3     329758\n",
       "6     276532\n",
       "4     160073\n",
       "0         43\n",
       "8          9\n",
       "7          8\n",
       "9          8\n",
       "Name: passenger_count, dtype: int64"
      ]
     },
     "execution_count": 65,
     "metadata": {},
     "output_type": "execute_result"
    }
   ],
   "source": [
    "data.passenger_count.value_counts()"
   ]
  },
  {
   "cell_type": "code",
   "execution_count": 66,
   "id": "a6daba2a-e8ec-4c65-a829-106ac0196889",
   "metadata": {},
   "outputs": [],
   "source": [
    "# keep only the trips with 1 t o 6 passengers\n",
    "data = data[data['passenger_count'].isin([1, 2, 3, 4, 5, 6])]"
   ]
  },
  {
   "cell_type": "markdown",
   "id": "62224362-1c2a-404c-8dc0-33875da4421c",
   "metadata": {},
   "source": [
    "2. `Fare_amount` - seems to be the most influencial and the highest contributor to the target `total_amount` variable. There are some very large unreal values. So, I will keep only those that are inside the 99.95% percentile."
   ]
  },
  {
   "cell_type": "code",
   "execution_count": 67,
   "id": "0ae330fc-9169-4994-8ed7-80d5b9f5abec",
   "metadata": {},
   "outputs": [],
   "source": [
    "# keep only first 99.95% of fare_amounts\n",
    "data= data[data['fare_amount'] <= data['fare_amount'].quantile(0.9995)]"
   ]
  },
  {
   "cell_type": "markdown",
   "id": "17bb3d39-d781-44b0-b49f-9e59b3c80fcd",
   "metadata": {},
   "source": [
    "3. `trip_distance` - Unfortunately, some of the records are incorrect. I'll keep the first 99.95% of these values as well."
   ]
  },
  {
   "cell_type": "code",
   "execution_count": 68,
   "id": "7b15b3da-f9ff-437d-ad15-42461e3f43e1",
   "metadata": {},
   "outputs": [],
   "source": [
    "# keep only the records with trip distance less than the 99.95% percentile\n",
    "data = data[data['trip_distance'] <= data['trip_distance'].quantile(0.9995)]"
   ]
  },
  {
   "cell_type": "markdown",
   "id": "2cbf9055-1048-4083-abd1-c00d645558ed",
   "metadata": {},
   "source": [
    "4. `tip_amount` - Although the tips can be huge, they're rarely greater than certain amount. I'll keep the first 99.95% of these values as well."
   ]
  },
  {
   "cell_type": "code",
   "execution_count": 69,
   "id": "1ed0d1e0-8de4-4a32-8518-2191e908de18",
   "metadata": {},
   "outputs": [],
   "source": [
    "# keep only the records with tip amount less than the 99.95% percentile\n",
    "data = data[data['tip_amount'] <= data['tip_amount'].quantile(0.9995)]"
   ]
  },
  {
   "cell_type": "markdown",
   "id": "69f8f81f-e979-4226-8748-26f8c1a78d50",
   "metadata": {},
   "source": [
    "5. `tolls_amount` - The same approach here - I'll keep the first 99.95% of these values."
   ]
  },
  {
   "cell_type": "code",
   "execution_count": 70,
   "id": "ef67cc55-8598-4465-8308-e8aa0c089ba5",
   "metadata": {},
   "outputs": [],
   "source": [
    "# keep only the records with tolls amount less than the 99.95% percentile\n",
    "data = data[data['tolls_amount'] <= data['tolls_amount'].quantile(0.9995)]"
   ]
  },
  {
   "cell_type": "markdown",
   "id": "d10a9852-f91f-466b-98e4-c2db7808d549",
   "metadata": {},
   "source": [
    "6. `payment_type` - seems that only payments made by credit card and in cash are meaningfull, so I'll keep only types 1 and 2."
   ]
  },
  {
   "cell_type": "code",
   "execution_count": 71,
   "id": "0054290c-56ec-4187-940f-a6129636eb22",
   "metadata": {},
   "outputs": [],
   "source": [
    "# keep only the records with payment type 1 and 2\n",
    "data = data[data['payment_type'].isin([1,2])]"
   ]
  },
  {
   "cell_type": "code",
   "execution_count": 72,
   "id": "a971ef5d-8eaf-478d-86d9-ea8c189b649b",
   "metadata": {},
   "outputs": [
    {
     "data": {
      "text/html": [
       "<div>\n",
       "<style scoped>\n",
       "    .dataframe tbody tr th:only-of-type {\n",
       "        vertical-align: middle;\n",
       "    }\n",
       "\n",
       "    .dataframe tbody tr th {\n",
       "        vertical-align: top;\n",
       "    }\n",
       "\n",
       "    .dataframe thead th {\n",
       "        text-align: right;\n",
       "    }\n",
       "</style>\n",
       "<table border=\"1\" class=\"dataframe\">\n",
       "  <thead>\n",
       "    <tr style=\"text-align: right;\">\n",
       "      <th></th>\n",
       "      <th>count</th>\n",
       "      <th>mean</th>\n",
       "      <th>std</th>\n",
       "      <th>min</th>\n",
       "      <th>25%</th>\n",
       "      <th>50%</th>\n",
       "      <th>75%</th>\n",
       "      <th>99.95%</th>\n",
       "      <th>max</th>\n",
       "    </tr>\n",
       "  </thead>\n",
       "  <tbody>\n",
       "    <tr>\n",
       "      <th>VendorID</th>\n",
       "      <td>8071018.0</td>\n",
       "      <td>1.540996</td>\n",
       "      <td>0.498317</td>\n",
       "      <td>1.000000</td>\n",
       "      <td>1.000000</td>\n",
       "      <td>2.000000</td>\n",
       "      <td>2.000000</td>\n",
       "      <td>2.000000</td>\n",
       "      <td>2.000000</td>\n",
       "    </tr>\n",
       "    <tr>\n",
       "      <th>passenger_count</th>\n",
       "      <td>8071018.0</td>\n",
       "      <td>1.682123</td>\n",
       "      <td>1.331562</td>\n",
       "      <td>1.000000</td>\n",
       "      <td>1.000000</td>\n",
       "      <td>1.000000</td>\n",
       "      <td>2.000000</td>\n",
       "      <td>6.000000</td>\n",
       "      <td>6.000000</td>\n",
       "    </tr>\n",
       "    <tr>\n",
       "      <th>trip_distance</th>\n",
       "      <td>8071018.0</td>\n",
       "      <td>3.574696</td>\n",
       "      <td>3.735555</td>\n",
       "      <td>1.000000</td>\n",
       "      <td>1.460000</td>\n",
       "      <td>2.170000</td>\n",
       "      <td>3.810000</td>\n",
       "      <td>24.200000</td>\n",
       "      <td>27.390000</td>\n",
       "    </tr>\n",
       "    <tr>\n",
       "      <th>pickup_longitude</th>\n",
       "      <td>8071018.0</td>\n",
       "      <td>-73.971591</td>\n",
       "      <td>0.042313</td>\n",
       "      <td>-79.025742</td>\n",
       "      <td>-73.991898</td>\n",
       "      <td>-73.981728</td>\n",
       "      <td>-73.966904</td>\n",
       "      <td>-73.776649</td>\n",
       "      <td>-71.918953</td>\n",
       "    </tr>\n",
       "    <tr>\n",
       "      <th>pickup_latitude</th>\n",
       "      <td>8071018.0</td>\n",
       "      <td>40.749787</td>\n",
       "      <td>0.029504</td>\n",
       "      <td>40.478008</td>\n",
       "      <td>40.735809</td>\n",
       "      <td>40.753395</td>\n",
       "      <td>40.768181</td>\n",
       "      <td>40.850746</td>\n",
       "      <td>43.928783</td>\n",
       "    </tr>\n",
       "    <tr>\n",
       "      <th>RatecodeID</th>\n",
       "      <td>8071018.0</td>\n",
       "      <td>1.032752</td>\n",
       "      <td>0.216895</td>\n",
       "      <td>1.000000</td>\n",
       "      <td>1.000000</td>\n",
       "      <td>1.000000</td>\n",
       "      <td>1.000000</td>\n",
       "      <td>5.000000</td>\n",
       "      <td>6.000000</td>\n",
       "    </tr>\n",
       "    <tr>\n",
       "      <th>dropoff_longitude</th>\n",
       "      <td>8071018.0</td>\n",
       "      <td>-73.948793</td>\n",
       "      <td>1.308002</td>\n",
       "      <td>-99.748337</td>\n",
       "      <td>-73.991272</td>\n",
       "      <td>-73.979271</td>\n",
       "      <td>-73.961342</td>\n",
       "      <td>-73.662053</td>\n",
       "      <td>0.000000</td>\n",
       "    </tr>\n",
       "    <tr>\n",
       "      <th>dropoff_latitude</th>\n",
       "      <td>8071018.0</td>\n",
       "      <td>40.738295</td>\n",
       "      <td>0.721075</td>\n",
       "      <td>0.000000</td>\n",
       "      <td>40.733841</td>\n",
       "      <td>40.753990</td>\n",
       "      <td>40.770172</td>\n",
       "      <td>40.898970</td>\n",
       "      <td>60.908756</td>\n",
       "    </tr>\n",
       "    <tr>\n",
       "      <th>payment_type</th>\n",
       "      <td>8071018.0</td>\n",
       "      <td>1.315064</td>\n",
       "      <td>0.464541</td>\n",
       "      <td>1.000000</td>\n",
       "      <td>1.000000</td>\n",
       "      <td>1.000000</td>\n",
       "      <td>2.000000</td>\n",
       "      <td>2.000000</td>\n",
       "      <td>2.000000</td>\n",
       "    </tr>\n",
       "    <tr>\n",
       "      <th>fare_amount</th>\n",
       "      <td>8071018.0</td>\n",
       "      <td>14.478693</td>\n",
       "      <td>10.344569</td>\n",
       "      <td>3.000000</td>\n",
       "      <td>8.000000</td>\n",
       "      <td>11.000000</td>\n",
       "      <td>16.500000</td>\n",
       "      <td>74.000000</td>\n",
       "      <td>101.000000</td>\n",
       "    </tr>\n",
       "    <tr>\n",
       "      <th>extra</th>\n",
       "      <td>8071018.0</td>\n",
       "      <td>0.318253</td>\n",
       "      <td>0.360955</td>\n",
       "      <td>0.000000</td>\n",
       "      <td>0.000000</td>\n",
       "      <td>0.000000</td>\n",
       "      <td>0.500000</td>\n",
       "      <td>1.000000</td>\n",
       "      <td>1.000000</td>\n",
       "    </tr>\n",
       "    <tr>\n",
       "      <th>mta_tax</th>\n",
       "      <td>8071018.0</td>\n",
       "      <td>0.499009</td>\n",
       "      <td>0.022232</td>\n",
       "      <td>0.000000</td>\n",
       "      <td>0.500000</td>\n",
       "      <td>0.500000</td>\n",
       "      <td>0.500000</td>\n",
       "      <td>0.500000</td>\n",
       "      <td>0.500000</td>\n",
       "    </tr>\n",
       "    <tr>\n",
       "      <th>tip_amount</th>\n",
       "      <td>8071018.0</td>\n",
       "      <td>2.023572</td>\n",
       "      <td>2.426996</td>\n",
       "      <td>0.000000</td>\n",
       "      <td>0.000000</td>\n",
       "      <td>1.660000</td>\n",
       "      <td>2.750000</td>\n",
       "      <td>17.500000</td>\n",
       "      <td>20.000000</td>\n",
       "    </tr>\n",
       "    <tr>\n",
       "      <th>tolls_amount</th>\n",
       "      <td>8071018.0</td>\n",
       "      <td>0.359807</td>\n",
       "      <td>1.429696</td>\n",
       "      <td>0.000000</td>\n",
       "      <td>0.000000</td>\n",
       "      <td>0.000000</td>\n",
       "      <td>0.000000</td>\n",
       "      <td>12.500000</td>\n",
       "      <td>16.620000</td>\n",
       "    </tr>\n",
       "    <tr>\n",
       "      <th>improvement_surcharge</th>\n",
       "      <td>8071018.0</td>\n",
       "      <td>0.299996</td>\n",
       "      <td>0.001051</td>\n",
       "      <td>0.000000</td>\n",
       "      <td>0.300000</td>\n",
       "      <td>0.300000</td>\n",
       "      <td>0.300000</td>\n",
       "      <td>0.300000</td>\n",
       "      <td>0.300000</td>\n",
       "    </tr>\n",
       "    <tr>\n",
       "      <th>total_amount</th>\n",
       "      <td>8071018.0</td>\n",
       "      <td>17.979331</td>\n",
       "      <td>12.856120</td>\n",
       "      <td>3.300000</td>\n",
       "      <td>10.300000</td>\n",
       "      <td>13.560000</td>\n",
       "      <td>19.750000</td>\n",
       "      <td>95.760000</td>\n",
       "      <td>136.400000</td>\n",
       "    </tr>\n",
       "    <tr>\n",
       "      <th>trip_duration</th>\n",
       "      <td>8071018.0</td>\n",
       "      <td>17.886251</td>\n",
       "      <td>90.437211</td>\n",
       "      <td>3.000000</td>\n",
       "      <td>8.870000</td>\n",
       "      <td>12.930000</td>\n",
       "      <td>19.350000</td>\n",
       "      <td>1435.370000</td>\n",
       "      <td>119912.700000</td>\n",
       "    </tr>\n",
       "  </tbody>\n",
       "</table>\n",
       "</div>"
      ],
      "text/plain": [
       "                           count       mean        std        min        25%  \\\n",
       "VendorID               8071018.0   1.540996   0.498317   1.000000   1.000000   \n",
       "passenger_count        8071018.0   1.682123   1.331562   1.000000   1.000000   \n",
       "trip_distance          8071018.0   3.574696   3.735555   1.000000   1.460000   \n",
       "pickup_longitude       8071018.0 -73.971591   0.042313 -79.025742 -73.991898   \n",
       "pickup_latitude        8071018.0  40.749787   0.029504  40.478008  40.735809   \n",
       "RatecodeID             8071018.0   1.032752   0.216895   1.000000   1.000000   \n",
       "dropoff_longitude      8071018.0 -73.948793   1.308002 -99.748337 -73.991272   \n",
       "dropoff_latitude       8071018.0  40.738295   0.721075   0.000000  40.733841   \n",
       "payment_type           8071018.0   1.315064   0.464541   1.000000   1.000000   \n",
       "fare_amount            8071018.0  14.478693  10.344569   3.000000   8.000000   \n",
       "extra                  8071018.0   0.318253   0.360955   0.000000   0.000000   \n",
       "mta_tax                8071018.0   0.499009   0.022232   0.000000   0.500000   \n",
       "tip_amount             8071018.0   2.023572   2.426996   0.000000   0.000000   \n",
       "tolls_amount           8071018.0   0.359807   1.429696   0.000000   0.000000   \n",
       "improvement_surcharge  8071018.0   0.299996   0.001051   0.000000   0.300000   \n",
       "total_amount           8071018.0  17.979331  12.856120   3.300000  10.300000   \n",
       "trip_duration          8071018.0  17.886251  90.437211   3.000000   8.870000   \n",
       "\n",
       "                             50%        75%       99.95%            max  \n",
       "VendorID                2.000000   2.000000     2.000000       2.000000  \n",
       "passenger_count         1.000000   2.000000     6.000000       6.000000  \n",
       "trip_distance           2.170000   3.810000    24.200000      27.390000  \n",
       "pickup_longitude      -73.981728 -73.966904   -73.776649     -71.918953  \n",
       "pickup_latitude        40.753395  40.768181    40.850746      43.928783  \n",
       "RatecodeID              1.000000   1.000000     5.000000       6.000000  \n",
       "dropoff_longitude     -73.979271 -73.961342   -73.662053       0.000000  \n",
       "dropoff_latitude       40.753990  40.770172    40.898970      60.908756  \n",
       "payment_type            1.000000   2.000000     2.000000       2.000000  \n",
       "fare_amount            11.000000  16.500000    74.000000     101.000000  \n",
       "extra                   0.000000   0.500000     1.000000       1.000000  \n",
       "mta_tax                 0.500000   0.500000     0.500000       0.500000  \n",
       "tip_amount              1.660000   2.750000    17.500000      20.000000  \n",
       "tolls_amount            0.000000   0.000000    12.500000      16.620000  \n",
       "improvement_surcharge   0.300000   0.300000     0.300000       0.300000  \n",
       "total_amount           13.560000  19.750000    95.760000     136.400000  \n",
       "trip_duration          12.930000  19.350000  1435.370000  119912.700000  "
      ]
     },
     "execution_count": 72,
     "metadata": {},
     "output_type": "execute_result"
    }
   ],
   "source": [
    "# now the numerical values are close to reality\n",
    "data.describe(percentiles=[.25, .5, .75, .9995]).T"
   ]
  },
  {
   "cell_type": "markdown",
   "id": "3fc11f97-f5c3-4300-8363-f437a21872b9",
   "metadata": {},
   "source": [
    "__Regression models__ work with numerical variables, but we have a timestamp columns in the dataset - `tpep_pickup_datetime` and `tpep_dropoff_datetime`. I can't just remove them, because I lose important information then. So I extract `day`, `weekday` and `hour` from the pick-up datetime column to keep it for the regression model.\n",
    "\n",
    "I will also convert `Y` and `N` values in the column `store_and_fwd_flag` to `1` and `0` respectively."
   ]
  },
  {
   "cell_type": "code",
   "execution_count": 73,
   "id": "2b326c35-699c-4b7c-86d8-88c70924c961",
   "metadata": {},
   "outputs": [],
   "source": [
    "# convert 'Y' and 'N' to '1' and '0'\n",
    "data.store_and_fwd_flag = np.where(data.store_and_fwd_flag == 'Y', 1, 0)"
   ]
  },
  {
   "cell_type": "code",
   "execution_count": 74,
   "id": "6dea9fe1-b839-4c11-a750-8a330c1ac63f",
   "metadata": {},
   "outputs": [],
   "source": [
    "# create additional columns by extracting weekday, day and hour from 'tpep_pickup_datetime' column\n",
    "data['weekday'] = data['tpep_pickup_datetime'].dt.weekday\n",
    "data['day'] = data['tpep_pickup_datetime'].dt.day\n",
    "data['hour'] = data['tpep_pickup_datetime'].dt.hour"
   ]
  },
  {
   "cell_type": "code",
   "execution_count": 75,
   "id": "fc3514a0-c96e-4cea-a83e-1413e417ea0b",
   "metadata": {},
   "outputs": [],
   "source": [
    "# remove timestamp columns\n",
    "data.drop(['tpep_pickup_datetime', 'tpep_dropoff_datetime'], axis=1, inplace=True)"
   ]
  },
  {
   "cell_type": "code",
   "execution_count": 76,
   "id": "fa334098",
   "metadata": {},
   "outputs": [],
   "source": [
    "data.drop(['trip_duration'], axis=1, inplace=True)"
   ]
  },
  {
   "cell_type": "code",
   "execution_count": 77,
   "id": "b4852a78-7a69-4a3d-b951-ef1b9a883980",
   "metadata": {},
   "outputs": [
    {
     "data": {
      "text/plain": [
       "VendorID                   int64\n",
       "passenger_count            int64\n",
       "trip_distance            float64\n",
       "pickup_longitude         float64\n",
       "pickup_latitude          float64\n",
       "RatecodeID                 int64\n",
       "store_and_fwd_flag         int32\n",
       "dropoff_longitude        float64\n",
       "dropoff_latitude         float64\n",
       "payment_type               int64\n",
       "fare_amount              float64\n",
       "extra                    float64\n",
       "mta_tax                  float64\n",
       "tip_amount               float64\n",
       "tolls_amount             float64\n",
       "improvement_surcharge    float64\n",
       "total_amount             float64\n",
       "weekday                    int64\n",
       "day                        int64\n",
       "hour                       int64\n",
       "dtype: object"
      ]
     },
     "execution_count": 77,
     "metadata": {},
     "output_type": "execute_result"
    }
   ],
   "source": [
    "# so, we have only numerical values here\n",
    "data.dtypes"
   ]
  },
  {
   "cell_type": "markdown",
   "id": "9eb03435-779d-44ce-a7ac-31d72e84ced3",
   "metadata": {},
   "source": [
    "Before creating a __regression model__, let's see which __variables__ have the strongest and weakest __correlation__ with `fare_amount` and also which variables correlate with each other"
   ]
  },
  {
   "cell_type": "code",
   "execution_count": 78,
   "id": "046ad373-b2f8-472b-b7fb-2d380dffb4f1",
   "metadata": {},
   "outputs": [
    {
     "data": {
      "image/png": "[encoded data removed]",
      "text/plain": [
       "<Figure size 2000x1200 with 2 Axes>"
      ]
     },
     "metadata": {},
     "output_type": "display_data"
    }
   ],
   "source": [
    "# correlation between variables\n",
    "corr = data.corr().sort_values(by='total_amount', ascending=False)\n",
    "\n",
    "# plot it\n",
    "fig, ax = plt.subplots(figsize = (20,12))\n",
    "sns.heatmap(corr, annot = True, cmap ='BrBG', ax = ax, fmt='.2f', linewidths = 0.05, annot_kws = {'size': 17})\n",
    "ax.tick_params(labelsize = 15)\n",
    "ax.set_title('Correlation with total_amount\\n', fontsize = 22)\n",
    "plt.show()"
   ]
  },
  {
   "cell_type": "markdown",
   "id": "979f9d7b-6bde-43f4-8bec-3171c6dd8ba9",
   "metadata": {},
   "source": [
    "We see strong positive correlations between `total_amount` and `trip_distance`, `fare_amount`, `tip_amount` and `tolls_amount`. And it looks logical.\n",
    "\n",
    "Therefore, I will use a __linear regression model__ trying to find the most __features__ that explain our __target__ variable and also their __contribution__ to its value."
   ]
  },
  {
   "cell_type": "code",
   "execution_count": 79,
   "id": "72c33530-1269-499b-97cf-dac114b00727",
   "metadata": {},
   "outputs": [],
   "source": [
    "# import libraries\n",
    "from sklearn.model_selection import train_test_split\n",
    "from sklearn.linear_model import LinearRegression\n",
    "from sklearn.metrics import mean_squared_error, r2_score, mean_absolute_error # metrics"
   ]
  },
  {
   "cell_type": "markdown",
   "id": "6b65ee7d-20a9-43b8-9b71-c56bcf750aa7",
   "metadata": {},
   "source": [
    "Our target variable `y` is a `total_amount` column and our features `X` are the numerical preprocessed variables `['trip_distance', 'fare_amount', 'tolls_amount']`."
   ]
  },
  {
   "cell_type": "code",
   "execution_count": 80,
   "id": "2d47344d-e6b2-4674-b800-9471e0d60a06",
   "metadata": {},
   "outputs": [],
   "source": [
    "# we are selecting three features to train the model\n",
    "X = data[['trip_distance', 'fare_amount', 'tolls_amount']]\n",
    "y = data['total_amount']"
   ]
  },
  {
   "cell_type": "code",
   "execution_count": 81,
   "id": "ab581db6",
   "metadata": {},
   "outputs": [
    {
     "data": {
      "text/plain": [
       "(8071018, 20)"
      ]
     },
     "execution_count": 81,
     "metadata": {},
     "output_type": "execute_result"
    }
   ],
   "source": [
    "data.shape"
   ]
  },
  {
   "cell_type": "markdown",
   "id": "ead49a43-0371-43fe-9491-9f8ce5bf2c6d",
   "metadata": {},
   "source": [
    "Now, let's split sequentially our dataset to `train` and `test` sets for further training and testing the regression model"
   ]
  },
  {
   "cell_type": "code",
   "execution_count": 82,
   "id": "e44ce5dd-9b3d-4ccf-9420-3fca6283ad4a",
   "metadata": {},
   "outputs": [],
   "source": [
    "X_train, X_test, y_train, y_test = train_test_split(X, y, test_size=0.2, shuffle=42)"
   ]
  },
  {
   "cell_type": "markdown",
   "id": "78b262e8-aa78-44c8-9619-06f36ebd908f",
   "metadata": {},
   "source": [
    "Train the __Linear Regression__ model with default properties"
   ]
  },
  {
   "cell_type": "code",
   "execution_count": 83,
   "id": "8aa75892-19da-4316-b64f-8e206045d839",
   "metadata": {},
   "outputs": [
    {
     "data": {
      "text/plain": [
       "LinearRegression()"
      ]
     },
     "execution_count": 83,
     "metadata": {},
     "output_type": "execute_result"
    }
   ],
   "source": [
    "lin_reg = LinearRegression()\n",
    "\n",
    "# training the model\n",
    "lin_reg.fit(X_train, y_train)"
   ]
  },
  {
   "cell_type": "markdown",
   "id": "9aacf31a-bb79-49bf-a3c3-312797423464",
   "metadata": {},
   "source": [
    "Now use the trained model to predict `total_amount` based on the features from the `test` part of our dataset. "
   ]
  },
  {
   "cell_type": "code",
   "execution_count": 84,
   "id": "7f4c25fc-2250-47d6-b6e8-9b1296305bf7",
   "metadata": {},
   "outputs": [],
   "source": [
    "# Make prediction\n",
    "y_pred = lin_reg.predict(X_test)"
   ]
  },
  {
   "cell_type": "markdown",
   "id": "fbdab64e-e6d4-42af-ad51-2eb947b4d9de",
   "metadata": {},
   "source": [
    "### Model Evaluation - checking the model accuracy"
   ]
  },
  {
   "cell_type": "markdown",
   "id": "0d96a7ed-520a-44b2-9aeb-f1c3ef532d6d",
   "metadata": {},
   "source": [
    "Now we have 20% of our dataset with initial values of `total_amount` - __y_test__ and predicted - __y_pred__.\n",
    "\n",
    "We'll compare them using statistical metrics.\n",
    "\n",
    "So, in order to assess the accuracy of the model, I'll use the following metrics:\n",
    "- MSE - mean_squared_error \n",
    "- RMSE - Root-mean-square deviation\n",
    "- R2 - coefficient of determination\n",
    "- MAE - mean_absolute_error"
   ]
  },
  {
   "cell_type": "code",
   "execution_count": 85,
   "id": "cad7fc84-02e0-4608-b25c-43692f580a4a",
   "metadata": {},
   "outputs": [],
   "source": [
    "# for RMSE we need a small function\n",
    "def rmse(y, y_pred):\n",
    "    return np.sqrt(mean_squared_error(y, y_pred))"
   ]
  },
  {
   "cell_type": "code",
   "execution_count": 86,
   "id": "aba7edda-e51d-4eee-a073-fee5dc7983ea",
   "metadata": {},
   "outputs": [
    {
     "name": "stdout",
     "output_type": "stream",
     "text": [
      "The lowest the better:\n",
      "\n",
      "MSAE: 3.9784595882360074\n",
      "RMSE: 1.994607627639082\n",
      "MAE: 1.4787911826800457\n",
      "\n",
      "The closest to 1 the better:\n",
      "\n",
      "R2 score: 0.975971038936782\n"
     ]
    }
   ],
   "source": [
    "# calculating and printing the metrics\n",
    "print('The lowest the better:\\n')\n",
    "print(f'MSAE: {mean_squared_error(y_test, y_pred)}')\n",
    "print(f'RMSE: {rmse(y_test, y_pred)}')\n",
    "print(f'MAE: {mean_absolute_error(y_test, y_pred)}')\n",
    "print()\n",
    "print('The closest to 1 the better:\\n')\n",
    "print(f'R2 score: {r2_score(y_test, y_pred)}')"
   ]
  },
  {
   "cell_type": "markdown",
   "id": "e1885582-9d48-4ca1-8b84-213df3e9e0f3",
   "metadata": {},
   "source": [
    "### Find regression coefficients and make an equation"
   ]
  },
  {
   "cell_type": "code",
   "execution_count": 87,
   "id": "9bc112de-217e-47ee-9ab7-cb0882e514df",
   "metadata": {},
   "outputs": [
    {
     "name": "stdout",
     "output_type": "stream",
     "text": [
      "Intercept: 1.4575642898162897\n",
      "\n",
      "Coefficients: [0.03139742 1.10251777 1.2405012 ]\n",
      "\n",
      "Score: 0.9759900356110655\n"
     ]
    }
   ],
   "source": [
    "#display intercept, regression coefficients and R-squared value of model\n",
    "print(f'Intercept: {lin_reg.intercept_}', f'Coefficients: {lin_reg.coef_}', f'Score: {lin_reg.score(X, y)}', sep='\\n\\n')"
   ]
  },
  {
   "cell_type": "code",
   "execution_count": 88,
   "id": "ec3cc183-cae2-4069-8d6e-9b05295cd552",
   "metadata": {},
   "outputs": [
    {
     "name": "stdout",
     "output_type": "stream",
     "text": [
      "We can see that the R2 value of the model is 0.9759900356110655\n"
     ]
    }
   ],
   "source": [
    "print(f'We can see that the R2 value of the model is {lin_reg.score(X, y)}')"
   ]
  },
  {
   "cell_type": "markdown",
   "id": "7c63a459-28f5-4aca-b303-5a4a3634f6e5",
   "metadata": {},
   "source": [
    "This means that 97.59% of the variation of the `total_amount` variable can be explained by our variables in the model."
   ]
  },
  {
   "cell_type": "markdown",
   "id": "dea9193a-a3fc-4444-9e58-af25fe312084",
   "metadata": {},
   "source": [
    "Now, I show the `features` and their `coefficients` to make a final `equation`"
   ]
  },
  {
   "cell_type": "code",
   "execution_count": 89,
   "id": "2f89595b-be48-40a2-a1e7-a986417b153c",
   "metadata": {},
   "outputs": [],
   "source": [
    "coefs = ['{:f}'.format(item) for item in lin_reg.coef_]"
   ]
  },
  {
   "cell_type": "code",
   "execution_count": 90,
   "id": "3ae6ffae-7354-43b2-bfef-a7b67e45f744",
   "metadata": {},
   "outputs": [
    {
     "data": {
      "text/html": [
       "<div>\n",
       "<style scoped>\n",
       "    .dataframe tbody tr th:only-of-type {\n",
       "        vertical-align: middle;\n",
       "    }\n",
       "\n",
       "    .dataframe tbody tr th {\n",
       "        vertical-align: top;\n",
       "    }\n",
       "\n",
       "    .dataframe thead th {\n",
       "        text-align: right;\n",
       "    }\n",
       "</style>\n",
       "<table border=\"1\" class=\"dataframe\">\n",
       "  <thead>\n",
       "    <tr style=\"text-align: right;\">\n",
       "      <th></th>\n",
       "      <th>0</th>\n",
       "    </tr>\n",
       "  </thead>\n",
       "  <tbody>\n",
       "    <tr>\n",
       "      <th>trip_distance</th>\n",
       "      <td>0.031397</td>\n",
       "    </tr>\n",
       "    <tr>\n",
       "      <th>fare_amount</th>\n",
       "      <td>1.102518</td>\n",
       "    </tr>\n",
       "    <tr>\n",
       "      <th>tolls_amount</th>\n",
       "      <td>1.240501</td>\n",
       "    </tr>\n",
       "  </tbody>\n",
       "</table>\n",
       "</div>"
      ],
      "text/plain": [
       "                      0\n",
       "trip_distance  0.031397\n",
       "fare_amount    1.102518\n",
       "tolls_amount   1.240501"
      ]
     },
     "execution_count": 90,
     "metadata": {},
     "output_type": "execute_result"
    }
   ],
   "source": [
    "pd.DataFrame(data=coefs, index=X_train.columns)"
   ]
  },
  {
   "cell_type": "markdown",
   "id": "64c8f839-54fb-4883-9e99-a4e93ff60f6d",
   "metadata": {},
   "source": [
    "#### Regression Equation"
   ]
  },
  {
   "cell_type": "code",
   "execution_count": 91,
   "id": "9019f84a",
   "metadata": {},
   "outputs": [
    {
     "name": "stdout",
     "output_type": "stream",
     "text": [
      "Model equation: total_amount = 1.46 + 0.03 * trip_distance + 1.1 * fare_amount + 1.24 * tolls_amount\n"
     ]
    }
   ],
   "source": [
    "print('Model equation:', 'total_amount =', round(lin_reg.intercept_, 2), '+',\n",
    "      ' + '.join([f'{round(coef, 2)} * {col}' for col, coef in zip(X.columns, lin_reg.coef_)]))"
   ]
  },
  {
   "cell_type": "code",
   "execution_count": 92,
   "id": "05e3c352",
   "metadata": {},
   "outputs": [
    {
     "data": {
      "text/plain": [
       "1.4575642898162897"
      ]
     },
     "execution_count": 92,
     "metadata": {},
     "output_type": "execute_result"
    }
   ],
   "source": [
    "lin_reg.intercept_"
   ]
  },
  {
   "cell_type": "markdown",
   "id": "991c415a-92bf-44ea-b887-fd675e68a2d5",
   "metadata": {},
   "source": [
    "It looks like the `accuracy` of our `trained model` is good enough, so we use it to `predict` the `total amount` paid on a trip for the trip records shown in `New Sample` file"
   ]
  },
  {
   "cell_type": "code",
   "execution_count": 93,
   "id": "6a78a47c-8a9e-4ee7-bbaa-d60f4e4333a6",
   "metadata": {},
   "outputs": [
    {
     "data": {
      "text/html": [
       "<div>\n",
       "<style scoped>\n",
       "    .dataframe tbody tr th:only-of-type {\n",
       "        vertical-align: middle;\n",
       "    }\n",
       "\n",
       "    .dataframe tbody tr th {\n",
       "        vertical-align: top;\n",
       "    }\n",
       "\n",
       "    .dataframe thead th {\n",
       "        text-align: right;\n",
       "    }\n",
       "</style>\n",
       "<table border=\"1\" class=\"dataframe\">\n",
       "  <thead>\n",
       "    <tr style=\"text-align: right;\">\n",
       "      <th></th>\n",
       "      <th>VendorID</th>\n",
       "      <th>tpep_pickup_datetime</th>\n",
       "      <th>tpep_dropoff_datetime</th>\n",
       "      <th>passenger_count</th>\n",
       "      <th>trip_distance</th>\n",
       "      <th>pickup_longitude</th>\n",
       "      <th>pickup_latitude</th>\n",
       "      <th>RatecodeID</th>\n",
       "      <th>store_and_fwd_flag</th>\n",
       "      <th>dropoff_longitude</th>\n",
       "      <th>dropoff_latitude</th>\n",
       "      <th>payment_type</th>\n",
       "      <th>fare_amount</th>\n",
       "      <th>extra</th>\n",
       "      <th>mta_tax</th>\n",
       "      <th>tip_amount</th>\n",
       "      <th>tolls_amount</th>\n",
       "      <th>improvement_surcharge</th>\n",
       "    </tr>\n",
       "  </thead>\n",
       "  <tbody>\n",
       "    <tr>\n",
       "      <th>0</th>\n",
       "      <td>2</td>\n",
       "      <td>2/25/2016 17:24</td>\n",
       "      <td>2/25/2016 17:27</td>\n",
       "      <td>2</td>\n",
       "      <td>0.70</td>\n",
       "      <td>-73.947250</td>\n",
       "      <td>40.763771</td>\n",
       "      <td>1</td>\n",
       "      <td>N</td>\n",
       "      <td>-73.992012</td>\n",
       "      <td>40.735390</td>\n",
       "      <td>2</td>\n",
       "      <td>5.0</td>\n",
       "      <td>0.0</td>\n",
       "      <td>0.5</td>\n",
       "      <td>0.0</td>\n",
       "      <td>0.0</td>\n",
       "      <td>0.3</td>\n",
       "    </tr>\n",
       "    <tr>\n",
       "      <th>1</th>\n",
       "      <td>2</td>\n",
       "      <td>2/25/2016 23:10</td>\n",
       "      <td>2/25/2016 23:31</td>\n",
       "      <td>2</td>\n",
       "      <td>5.52</td>\n",
       "      <td>-73.983017</td>\n",
       "      <td>40.750992</td>\n",
       "      <td>1</td>\n",
       "      <td>N</td>\n",
       "      <td>-73.988586</td>\n",
       "      <td>40.758839</td>\n",
       "      <td>2</td>\n",
       "      <td>20.0</td>\n",
       "      <td>0.5</td>\n",
       "      <td>0.5</td>\n",
       "      <td>0.0</td>\n",
       "      <td>0.0</td>\n",
       "      <td>0.3</td>\n",
       "    </tr>\n",
       "    <tr>\n",
       "      <th>2</th>\n",
       "      <td>2</td>\n",
       "      <td>2/1/2016 0:00</td>\n",
       "      <td>2/1/2016 0:10</td>\n",
       "      <td>6</td>\n",
       "      <td>1.99</td>\n",
       "      <td>-73.992340</td>\n",
       "      <td>40.758202</td>\n",
       "      <td>1</td>\n",
       "      <td>N</td>\n",
       "      <td>-73.964355</td>\n",
       "      <td>40.757977</td>\n",
       "      <td>1</td>\n",
       "      <td>9.5</td>\n",
       "      <td>0.5</td>\n",
       "      <td>0.5</td>\n",
       "      <td>0.7</td>\n",
       "      <td>0.0</td>\n",
       "      <td>0.3</td>\n",
       "    </tr>\n",
       "    <tr>\n",
       "      <th>3</th>\n",
       "      <td>1</td>\n",
       "      <td>2/1/2016 0:00</td>\n",
       "      <td>2/1/2016 0:05</td>\n",
       "      <td>1</td>\n",
       "      <td>1.50</td>\n",
       "      <td>-73.981453</td>\n",
       "      <td>40.749722</td>\n",
       "      <td>1</td>\n",
       "      <td>N</td>\n",
       "      <td>-73.982323</td>\n",
       "      <td>40.763985</td>\n",
       "      <td>2</td>\n",
       "      <td>6.5</td>\n",
       "      <td>0.5</td>\n",
       "      <td>0.5</td>\n",
       "      <td>0.0</td>\n",
       "      <td>0.0</td>\n",
       "      <td>0.3</td>\n",
       "    </tr>\n",
       "    <tr>\n",
       "      <th>4</th>\n",
       "      <td>2</td>\n",
       "      <td>2/1/2016 0:00</td>\n",
       "      <td>2/1/2016 0:20</td>\n",
       "      <td>1</td>\n",
       "      <td>5.60</td>\n",
       "      <td>-74.000603</td>\n",
       "      <td>40.729755</td>\n",
       "      <td>1</td>\n",
       "      <td>N</td>\n",
       "      <td>-73.951324</td>\n",
       "      <td>40.669834</td>\n",
       "      <td>1</td>\n",
       "      <td>20.0</td>\n",
       "      <td>0.5</td>\n",
       "      <td>0.5</td>\n",
       "      <td>4.0</td>\n",
       "      <td>0.0</td>\n",
       "      <td>0.3</td>\n",
       "    </tr>\n",
       "  </tbody>\n",
       "</table>\n",
       "</div>"
      ],
      "text/plain": [
       "   VendorID tpep_pickup_datetime tpep_dropoff_datetime  passenger_count  \\\n",
       "0         2      2/25/2016 17:24       2/25/2016 17:27                2   \n",
       "1         2      2/25/2016 23:10       2/25/2016 23:31                2   \n",
       "2         2        2/1/2016 0:00         2/1/2016 0:10                6   \n",
       "3         1        2/1/2016 0:00         2/1/2016 0:05                1   \n",
       "4         2        2/1/2016 0:00         2/1/2016 0:20                1   \n",
       "\n",
       "   trip_distance  pickup_longitude  pickup_latitude  RatecodeID  \\\n",
       "0           0.70        -73.947250        40.763771           1   \n",
       "1           5.52        -73.983017        40.750992           1   \n",
       "2           1.99        -73.992340        40.758202           1   \n",
       "3           1.50        -73.981453        40.749722           1   \n",
       "4           5.60        -74.000603        40.729755           1   \n",
       "\n",
       "  store_and_fwd_flag  dropoff_longitude  dropoff_latitude  payment_type  \\\n",
       "0                  N         -73.992012         40.735390             2   \n",
       "1                  N         -73.988586         40.758839             2   \n",
       "2                  N         -73.964355         40.757977             1   \n",
       "3                  N         -73.982323         40.763985             2   \n",
       "4                  N         -73.951324         40.669834             1   \n",
       "\n",
       "   fare_amount  extra  mta_tax  tip_amount  tolls_amount  \\\n",
       "0          5.0    0.0      0.5         0.0           0.0   \n",
       "1         20.0    0.5      0.5         0.0           0.0   \n",
       "2          9.5    0.5      0.5         0.7           0.0   \n",
       "3          6.5    0.5      0.5         0.0           0.0   \n",
       "4         20.0    0.5      0.5         4.0           0.0   \n",
       "\n",
       "   improvement_surcharge  \n",
       "0                    0.3  \n",
       "1                    0.3  \n",
       "2                    0.3  \n",
       "3                    0.3  \n",
       "4                    0.3  "
      ]
     },
     "execution_count": 93,
     "metadata": {},
     "output_type": "execute_result"
    }
   ],
   "source": [
    "# loading new_sample dataset\n",
    "new_sample = pd.read_csv('New Sample.csv')\n",
    "new_sample.head()"
   ]
  },
  {
   "cell_type": "markdown",
   "id": "d8ec164d-d990-4581-8156-76c766bf5d19",
   "metadata": {},
   "source": [
    "We need to `preprocess` the `New Sample` data first in the same way as we did it with the `trained dataset`"
   ]
  },
  {
   "cell_type": "code",
   "execution_count": 94,
   "id": "463dda30-4823-4f75-aff1-56f3ef161eaa",
   "metadata": {},
   "outputs": [
    {
     "data": {
      "text/html": [
       "<div>\n",
       "<style scoped>\n",
       "    .dataframe tbody tr th:only-of-type {\n",
       "        vertical-align: middle;\n",
       "    }\n",
       "\n",
       "    .dataframe tbody tr th {\n",
       "        vertical-align: top;\n",
       "    }\n",
       "\n",
       "    .dataframe thead th {\n",
       "        text-align: right;\n",
       "    }\n",
       "</style>\n",
       "<table border=\"1\" class=\"dataframe\">\n",
       "  <thead>\n",
       "    <tr style=\"text-align: right;\">\n",
       "      <th></th>\n",
       "      <th>VendorID</th>\n",
       "      <th>passenger_count</th>\n",
       "      <th>trip_distance</th>\n",
       "      <th>pickup_longitude</th>\n",
       "      <th>pickup_latitude</th>\n",
       "      <th>RatecodeID</th>\n",
       "      <th>store_and_fwd_flag</th>\n",
       "      <th>dropoff_longitude</th>\n",
       "      <th>dropoff_latitude</th>\n",
       "      <th>payment_type</th>\n",
       "      <th>fare_amount</th>\n",
       "      <th>extra</th>\n",
       "      <th>mta_tax</th>\n",
       "      <th>tip_amount</th>\n",
       "      <th>tolls_amount</th>\n",
       "      <th>improvement_surcharge</th>\n",
       "      <th>weekday</th>\n",
       "      <th>day</th>\n",
       "      <th>hour</th>\n",
       "    </tr>\n",
       "  </thead>\n",
       "  <tbody>\n",
       "    <tr>\n",
       "      <th>0</th>\n",
       "      <td>2</td>\n",
       "      <td>2</td>\n",
       "      <td>0.70</td>\n",
       "      <td>-73.947250</td>\n",
       "      <td>40.763771</td>\n",
       "      <td>1</td>\n",
       "      <td>0</td>\n",
       "      <td>-73.992012</td>\n",
       "      <td>40.735390</td>\n",
       "      <td>2</td>\n",
       "      <td>5.0</td>\n",
       "      <td>0.0</td>\n",
       "      <td>0.5</td>\n",
       "      <td>0.0</td>\n",
       "      <td>0.0</td>\n",
       "      <td>0.3</td>\n",
       "      <td>3</td>\n",
       "      <td>25</td>\n",
       "      <td>17</td>\n",
       "    </tr>\n",
       "    <tr>\n",
       "      <th>1</th>\n",
       "      <td>2</td>\n",
       "      <td>2</td>\n",
       "      <td>5.52</td>\n",
       "      <td>-73.983017</td>\n",
       "      <td>40.750992</td>\n",
       "      <td>1</td>\n",
       "      <td>0</td>\n",
       "      <td>-73.988586</td>\n",
       "      <td>40.758839</td>\n",
       "      <td>2</td>\n",
       "      <td>20.0</td>\n",
       "      <td>0.5</td>\n",
       "      <td>0.5</td>\n",
       "      <td>0.0</td>\n",
       "      <td>0.0</td>\n",
       "      <td>0.3</td>\n",
       "      <td>3</td>\n",
       "      <td>25</td>\n",
       "      <td>23</td>\n",
       "    </tr>\n",
       "    <tr>\n",
       "      <th>2</th>\n",
       "      <td>2</td>\n",
       "      <td>6</td>\n",
       "      <td>1.99</td>\n",
       "      <td>-73.992340</td>\n",
       "      <td>40.758202</td>\n",
       "      <td>1</td>\n",
       "      <td>0</td>\n",
       "      <td>-73.964355</td>\n",
       "      <td>40.757977</td>\n",
       "      <td>1</td>\n",
       "      <td>9.5</td>\n",
       "      <td>0.5</td>\n",
       "      <td>0.5</td>\n",
       "      <td>0.7</td>\n",
       "      <td>0.0</td>\n",
       "      <td>0.3</td>\n",
       "      <td>0</td>\n",
       "      <td>1</td>\n",
       "      <td>0</td>\n",
       "    </tr>\n",
       "    <tr>\n",
       "      <th>3</th>\n",
       "      <td>1</td>\n",
       "      <td>1</td>\n",
       "      <td>1.50</td>\n",
       "      <td>-73.981453</td>\n",
       "      <td>40.749722</td>\n",
       "      <td>1</td>\n",
       "      <td>0</td>\n",
       "      <td>-73.982323</td>\n",
       "      <td>40.763985</td>\n",
       "      <td>2</td>\n",
       "      <td>6.5</td>\n",
       "      <td>0.5</td>\n",
       "      <td>0.5</td>\n",
       "      <td>0.0</td>\n",
       "      <td>0.0</td>\n",
       "      <td>0.3</td>\n",
       "      <td>0</td>\n",
       "      <td>1</td>\n",
       "      <td>0</td>\n",
       "    </tr>\n",
       "    <tr>\n",
       "      <th>4</th>\n",
       "      <td>2</td>\n",
       "      <td>1</td>\n",
       "      <td>5.60</td>\n",
       "      <td>-74.000603</td>\n",
       "      <td>40.729755</td>\n",
       "      <td>1</td>\n",
       "      <td>0</td>\n",
       "      <td>-73.951324</td>\n",
       "      <td>40.669834</td>\n",
       "      <td>1</td>\n",
       "      <td>20.0</td>\n",
       "      <td>0.5</td>\n",
       "      <td>0.5</td>\n",
       "      <td>4.0</td>\n",
       "      <td>0.0</td>\n",
       "      <td>0.3</td>\n",
       "      <td>0</td>\n",
       "      <td>1</td>\n",
       "      <td>0</td>\n",
       "    </tr>\n",
       "  </tbody>\n",
       "</table>\n",
       "</div>"
      ],
      "text/plain": [
       "   VendorID  passenger_count  trip_distance  pickup_longitude  \\\n",
       "0         2                2           0.70        -73.947250   \n",
       "1         2                2           5.52        -73.983017   \n",
       "2         2                6           1.99        -73.992340   \n",
       "3         1                1           1.50        -73.981453   \n",
       "4         2                1           5.60        -74.000603   \n",
       "\n",
       "   pickup_latitude  RatecodeID  store_and_fwd_flag  dropoff_longitude  \\\n",
       "0        40.763771           1                   0         -73.992012   \n",
       "1        40.750992           1                   0         -73.988586   \n",
       "2        40.758202           1                   0         -73.964355   \n",
       "3        40.749722           1                   0         -73.982323   \n",
       "4        40.729755           1                   0         -73.951324   \n",
       "\n",
       "   dropoff_latitude  payment_type  fare_amount  extra  mta_tax  tip_amount  \\\n",
       "0         40.735390             2          5.0    0.0      0.5         0.0   \n",
       "1         40.758839             2         20.0    0.5      0.5         0.0   \n",
       "2         40.757977             1          9.5    0.5      0.5         0.7   \n",
       "3         40.763985             2          6.5    0.5      0.5         0.0   \n",
       "4         40.669834             1         20.0    0.5      0.5         4.0   \n",
       "\n",
       "   tolls_amount  improvement_surcharge  weekday  day  hour  \n",
       "0           0.0                    0.3        3   25    17  \n",
       "1           0.0                    0.3        3   25    23  \n",
       "2           0.0                    0.3        0    1     0  \n",
       "3           0.0                    0.3        0    1     0  \n",
       "4           0.0                    0.3        0    1     0  "
      ]
     },
     "execution_count": 94,
     "metadata": {},
     "output_type": "execute_result"
    }
   ],
   "source": [
    "new_sample.tpep_pickup_datetime = pd.to_datetime(new_sample.tpep_pickup_datetime)\n",
    "new_sample.store_and_fwd_flag = np.where(new_sample.store_and_fwd_flag == 'Y', 1, 0)\n",
    "new_sample['weekday'] = new_sample['tpep_pickup_datetime'].dt.weekday\n",
    "new_sample['day'] = new_sample['tpep_pickup_datetime'].dt.day\n",
    "new_sample['hour'] = new_sample['tpep_pickup_datetime'].dt.hour\n",
    "new_sample.drop(['tpep_pickup_datetime', 'tpep_dropoff_datetime'], axis=1, inplace=True)\n",
    "new_sample.head()"
   ]
  },
  {
   "cell_type": "code",
   "execution_count": 95,
   "id": "feef3523",
   "metadata": {},
   "outputs": [],
   "source": [
    "new_sample = new_sample[['trip_distance', 'fare_amount', 'tolls_amount']]"
   ]
  },
  {
   "cell_type": "markdown",
   "id": "144946a0-8122-49be-8fe7-c1e5684d4b33",
   "metadata": {},
   "source": [
    "Now run the `trained model` on the values to predict the `total_amount`"
   ]
  },
  {
   "cell_type": "code",
   "execution_count": 96,
   "id": "2b4eda3d-da3e-4ec3-9163-1fe39bb27282",
   "metadata": {},
   "outputs": [],
   "source": [
    "new_sample_total_amount = lin_reg.predict(new_sample)"
   ]
  },
  {
   "cell_type": "code",
   "execution_count": 97,
   "id": "0933b83e-9e33-4038-a6d9-3c8636a0255d",
   "metadata": {},
   "outputs": [],
   "source": [
    "predictions = pd.DataFrame(new_sample_total_amount, columns=['predicted_total_amount'])"
   ]
  },
  {
   "cell_type": "markdown",
   "id": "9c3db8ee-be9d-4fc9-a45a-271c8f59908f",
   "metadata": {},
   "source": [
    "Tabulating the predicted values in the order the records are arranged in the file"
   ]
  },
  {
   "cell_type": "code",
   "execution_count": 98,
   "id": "6c20b2fa-f541-4a3b-9ff1-78d4ac06b5de",
   "metadata": {},
   "outputs": [
    {
     "data": {
      "text/html": [
       "<div>\n",
       "<style scoped>\n",
       "    .dataframe tbody tr th:only-of-type {\n",
       "        vertical-align: middle;\n",
       "    }\n",
       "\n",
       "    .dataframe tbody tr th {\n",
       "        vertical-align: top;\n",
       "    }\n",
       "\n",
       "    .dataframe thead th {\n",
       "        text-align: right;\n",
       "    }\n",
       "</style>\n",
       "<table border=\"1\" class=\"dataframe\">\n",
       "  <thead>\n",
       "    <tr style=\"text-align: right;\">\n",
       "      <th></th>\n",
       "      <th>predicted_total_amount</th>\n",
       "    </tr>\n",
       "  </thead>\n",
       "  <tbody>\n",
       "    <tr>\n",
       "      <th>0</th>\n",
       "      <td>6.992131</td>\n",
       "    </tr>\n",
       "    <tr>\n",
       "      <th>1</th>\n",
       "      <td>23.681233</td>\n",
       "    </tr>\n",
       "    <tr>\n",
       "      <th>2</th>\n",
       "      <td>11.993964</td>\n",
       "    </tr>\n",
       "    <tr>\n",
       "      <th>3</th>\n",
       "      <td>8.671026</td>\n",
       "    </tr>\n",
       "    <tr>\n",
       "      <th>4</th>\n",
       "      <td>23.683745</td>\n",
       "    </tr>\n",
       "    <tr>\n",
       "      <th>5</th>\n",
       "      <td>19.245102</td>\n",
       "    </tr>\n",
       "    <tr>\n",
       "      <th>6</th>\n",
       "      <td>8.669456</td>\n",
       "    </tr>\n",
       "    <tr>\n",
       "      <th>7</th>\n",
       "      <td>8.658467</td>\n",
       "    </tr>\n",
       "    <tr>\n",
       "      <th>8</th>\n",
       "      <td>9.787986</td>\n",
       "    </tr>\n",
       "    <tr>\n",
       "      <th>9</th>\n",
       "      <td>19.239137</td>\n",
       "    </tr>\n",
       "    <tr>\n",
       "      <th>10</th>\n",
       "      <td>10.902749</td>\n",
       "    </tr>\n",
       "    <tr>\n",
       "      <th>11</th>\n",
       "      <td>19.243219</td>\n",
       "    </tr>\n",
       "    <tr>\n",
       "      <th>12</th>\n",
       "      <td>8.663491</td>\n",
       "    </tr>\n",
       "    <tr>\n",
       "      <th>13</th>\n",
       "      <td>18.115897</td>\n",
       "    </tr>\n",
       "    <tr>\n",
       "      <th>14</th>\n",
       "      <td>11.443333</td>\n",
       "    </tr>\n",
       "    <tr>\n",
       "      <th>15</th>\n",
       "      <td>6.444326</td>\n",
       "    </tr>\n",
       "    <tr>\n",
       "      <th>16</th>\n",
       "      <td>18.682540</td>\n",
       "    </tr>\n",
       "    <tr>\n",
       "      <th>17</th>\n",
       "      <td>20.343539</td>\n",
       "    </tr>\n",
       "    <tr>\n",
       "      <th>18</th>\n",
       "      <td>41.189225</td>\n",
       "    </tr>\n",
       "    <tr>\n",
       "      <th>19</th>\n",
       "      <td>9.218831</td>\n",
       "    </tr>\n",
       "    <tr>\n",
       "      <th>20</th>\n",
       "      <td>67.608630</td>\n",
       "    </tr>\n",
       "    <tr>\n",
       "      <th>21</th>\n",
       "      <td>61.279612</td>\n",
       "    </tr>\n",
       "    <tr>\n",
       "      <th>22</th>\n",
       "      <td>10.882027</td>\n",
       "    </tr>\n",
       "    <tr>\n",
       "      <th>23</th>\n",
       "      <td>8.116941</td>\n",
       "    </tr>\n",
       "    <tr>\n",
       "      <th>24</th>\n",
       "      <td>26.469239</td>\n",
       "    </tr>\n",
       "    <tr>\n",
       "      <th>25</th>\n",
       "      <td>14.243898</td>\n",
       "    </tr>\n",
       "    <tr>\n",
       "      <th>26</th>\n",
       "      <td>17.551765</td>\n",
       "    </tr>\n",
       "    <tr>\n",
       "      <th>27</th>\n",
       "      <td>10.327314</td>\n",
       "    </tr>\n",
       "    <tr>\n",
       "      <th>28</th>\n",
       "      <td>18.676889</td>\n",
       "    </tr>\n",
       "    <tr>\n",
       "      <th>29</th>\n",
       "      <td>12.564689</td>\n",
       "    </tr>\n",
       "    <tr>\n",
       "      <th>30</th>\n",
       "      <td>9.231704</td>\n",
       "    </tr>\n",
       "    <tr>\n",
       "      <th>31</th>\n",
       "      <td>15.890139</td>\n",
       "    </tr>\n",
       "    <tr>\n",
       "      <th>32</th>\n",
       "      <td>10.891132</td>\n",
       "    </tr>\n",
       "    <tr>\n",
       "      <th>33</th>\n",
       "      <td>7.553437</td>\n",
       "    </tr>\n",
       "    <tr>\n",
       "      <th>34</th>\n",
       "      <td>23.683431</td>\n",
       "    </tr>\n",
       "    <tr>\n",
       "      <th>35</th>\n",
       "      <td>8.672910</td>\n",
       "    </tr>\n",
       "    <tr>\n",
       "      <th>36</th>\n",
       "      <td>5.325482</td>\n",
       "    </tr>\n",
       "    <tr>\n",
       "      <th>37</th>\n",
       "      <td>26.490589</td>\n",
       "    </tr>\n",
       "    <tr>\n",
       "      <th>38</th>\n",
       "      <td>6.994957</td>\n",
       "    </tr>\n",
       "    <tr>\n",
       "      <th>39</th>\n",
       "      <td>9.761299</td>\n",
       "    </tr>\n",
       "  </tbody>\n",
       "</table>\n",
       "</div>"
      ],
      "text/plain": [
       "    predicted_total_amount\n",
       "0                 6.992131\n",
       "1                23.681233\n",
       "2                11.993964\n",
       "3                 8.671026\n",
       "4                23.683745\n",
       "5                19.245102\n",
       "6                 8.669456\n",
       "7                 8.658467\n",
       "8                 9.787986\n",
       "9                19.239137\n",
       "10               10.902749\n",
       "11               19.243219\n",
       "12                8.663491\n",
       "13               18.115897\n",
       "14               11.443333\n",
       "15                6.444326\n",
       "16               18.682540\n",
       "17               20.343539\n",
       "18               41.189225\n",
       "19                9.218831\n",
       "20               67.608630\n",
       "21               61.279612\n",
       "22               10.882027\n",
       "23                8.116941\n",
       "24               26.469239\n",
       "25               14.243898\n",
       "26               17.551765\n",
       "27               10.327314\n",
       "28               18.676889\n",
       "29               12.564689\n",
       "30                9.231704\n",
       "31               15.890139\n",
       "32               10.891132\n",
       "33                7.553437\n",
       "34               23.683431\n",
       "35                8.672910\n",
       "36                5.325482\n",
       "37               26.490589\n",
       "38                6.994957\n",
       "39                9.761299"
      ]
     },
     "execution_count": 98,
     "metadata": {},
     "output_type": "execute_result"
    }
   ],
   "source": [
    "predictions"
   ]
  }
 ],
 "metadata": {
  "kernelspec": {
   "display_name": "Python 3 (ipykernel)",
   "language": "python",
   "name": "python3"
  },
  "language_info": {
   "codemirror_mode": {
    "name": "ipython",
    "version": 3
   },
   "file_extension": ".py",
   "mimetype": "text/x-python",
   "name": "python",
   "nbconvert_exporter": "python",
   "pygments_lexer": "ipython3",
   "version": "3.9.13"
  }
 },
 "nbformat": 4,
 "nbformat_minor": 5
}
